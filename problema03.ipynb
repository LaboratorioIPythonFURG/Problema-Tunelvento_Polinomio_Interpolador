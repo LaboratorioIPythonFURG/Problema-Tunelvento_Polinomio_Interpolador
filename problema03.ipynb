{
 "cells": [
  {
   "cell_type": "markdown",
   "metadata": {},
   "source": [
    "# Problema\n",
    "_(Fonte: Linear Algebra and Its Applications. Addison-Wesley Longman, 1997)_\n",
    "\n",
    "Suponha que um conjunto de dados experimentais seja representado por um conjunto de pontos do plano.\n",
    "Um polinômio interpolador para esse conjunto de dados é um polinômio cujo gráfico passa por cada ponto.\n",
    "Em trabalhos científicos, esse polinômio pode ser usado, por exemplo, para obter estimativas de valores\n",
    "entre pontos conhecidos.\n",
    "\n",
    "Em uma experiência num túnel de vento, a força sobre um projétil devido à resistência do ar foi medida\n",
    "para velocidades diferentes:\n",
    "\n",
    "| Velocidade | Força |\n",
    "| -- | --  | \n",
    "| 0 | 0 |\n",
    "| 2 | 2.9 |\n",
    "| 4 | 14.8 |\n",
    "| 6 | 39.6 |\n",
    "| 8 | 74.3 |\n",
    "| 10 | 119 | \n",
    "\n",
    "1. Determine um polinômio interpolador para esse conjunto de dados e obtenha uma estimativa para a força\n",
    "sobre o projétil quando ele está se deslocando a uma velocidade de 228,6 m/s. Use $p(t) = a_0 + a_1t + a_2t^2 + a_3t^3 + a_4t^4 + a_5t^5 $\n",
    "\n",
    "2. O que acontece se tentarmos obter a resposta empregando um polinômio cúbico, por exemplo."
   ]
  },
  {
   "cell_type": "markdown",
   "metadata": {},
   "source": [
    "# Solução"
   ]
  },
  {
   "cell_type": "markdown",
   "metadata": {},
   "source": [
    "### Importação de bibliotecas"
   ]
  },
  {
   "cell_type": "code",
   "execution_count": 43,
   "metadata": {},
   "outputs": [],
   "source": [
    "import math \n",
    "import numpy as np"
   ]
  },
  {
   "cell_type": "markdown",
   "metadata": {},
   "source": [
    "## Polinômios\n",
    "\n",
    "Para resolver o problema precisamos calcular os coeficientes de um polinômio que possui os valores\n",
    "da coluna __Força__ da tabela no seu domínio. É útil que tenhamos um método que, dado um valor $x \\in R$ e um\n",
    "vetor de coeficientes, nos retorna o valor do polinômio em $x$."
   ]
  },
  {
   "cell_type": "code",
   "execution_count": 44,
   "metadata": {},
   "outputs": [],
   "source": [
    "def polinomio(x, a):\n",
    "    return np.sum([a[len(a)-1-i]*x**i for i in range(len(a))])\n",
    "\n",
    "def v_polinomio(x, a):\n",
    "    return [polinomio(xx, a) for xx in x]"
   ]
  },
  {
   "cell_type": "markdown",
   "metadata": {},
   "source": [
    "## Matriz de Vandermonde\n",
    "\n",
    "Também é necessário descrever o sistema de equações como uma matriz, para que possamos resolver o problema\n",
    "linearmente. A matriz de Vandermonde nos auxilia nesse processo descrevendo um conjunto de observações $x_i$\n",
    "para o mesmo polinômio:\n",
    "\n",
    "$$\n",
    "\\begin{bmatrix}\n",
    "x_1^{n-1} & x_1^{n-2} & \\dots & x_1^{1} & 1 \\\\\n",
    "x_2^{n-1} & x_2^{n-2} & \\dots & x_2^{1} & 1 \\\\\n",
    "\\dots \\\\\n",
    "x_n^{n-1} & x_n^{n-2} & \\dots & x_n^{1} & 1 \\\\\n",
    "\\end{bmatrix}\n",
    "$$\n"
   ]
  },
  {
   "cell_type": "markdown",
   "metadata": {},
   "source": [
    "No enunciado do problema temos 6 amostras de valores, portanto nossa matriz de coeficientes $A$ pode ser definida por:\n",
    "$$\n",
    "\\begin{bmatrix}\n",
    " 0^{5} &  0^{4} &   0^{3} &   0^{2}   &  0^{1}  & 1 \\\\\n",
    " 2^{5} &  2^{4} &   2^{3} &   2^{2}   &  2^{1}  & 1 \\\\\n",
    " 4^{5} &  4^{4} &   4^{3} &   4^{2}   &  4^{1}  & 1 \\\\\n",
    " 6^{5} &  6^{4} &   6^{3} &   6^{2}   &  6^{1}  & 1 \\\\\n",
    " 8^{5} &  8^{4} &   8^{3} &   8^{2}   &  8^{1}  & 1 \\\\\n",
    "10^{5} & 10^{4} &  10^{3} &  10^{2}   & 10^{1}  & 1\n",
    "\\end{bmatrix} = \\begin{bmatrix}\n",
    " 0     &  0     &   0     &   0      &  0      & 1 \\\\\n",
    " 32    &  16    &   8     &   4      &  2      & 1 \\\\\n",
    " 1024  &  256   &   64    &   16     &  4      & 1 \\\\\n",
    " 7776  &  1296  &   216   &   36     &  6      & 1 \\\\\n",
    " 32768 &  4096  &   512   &   64     &  8      & 1 \\\\\n",
    "100000 & 10000  &  10000  &  1000    & 10      & 1\n",
    "\\end{bmatrix}\n",
    "$$"
   ]
  },
  {
   "cell_type": "markdown",
   "metadata": {},
   "source": [
    "Se interpretarmos o vetor de coeficientes do polinômio como um vetor de variáveis independentes em um sistema de equações lineares,\n",
    "e nesse sistema, usarmos os valores de $y$ (__Força__) esperados pelo polinômio, o sistema pode ser descrito como:\n",
    "\n",
    "$$\n",
    "\\begin{bmatrix}\n",
    " 0     &  0     &   0     &   0      &  0      & 1 \\\\\n",
    " 32    &  16    &   8     &   4      &  2      & 1 \\\\\n",
    " 1024  &  256   &   64    &   16     &  4      & 1 \\\\\n",
    " 7776  &  1296  &   216   &   36     &  6      & 1 \\\\\n",
    " 32768 &  4096  &   512   &   64     &  8      & 1 \\\\\n",
    "100000 & 10000  &  10000  &  1000    & 10      & 1 \\\\\n",
    "\\end{bmatrix}\n",
    "\\begin{bmatrix}\n",
    "a_5 \\\\ a_4 \\\\ a_3 \\\\ a_2 \\\\ a_1 \\\\ a_0\n",
    "\\end{bmatrix}\n",
    "=\n",
    "\\begin{bmatrix}\n",
    "0.0 \\\\ 2.9 \\\\ 14.8 \\\\ 39.6 \\\\ 74.3 \\\\ 119\n",
    "\\end{bmatrix}\n",
    "$$\n"
   ]
  },
  {
   "cell_type": "markdown",
   "metadata": {},
   "source": [
    "Resolvendo esse sistema obtemos o polinômio interpolador para os valores do problema.\n",
    "$$\n",
    "p(x) = a^5x^5 + a^4x^4 + a^3x^3 + a^2x^2 + ax + a^0\n",
    "$$"
   ]
  },
  {
   "cell_type": "markdown",
   "metadata": {},
   "source": [
    "O sistema será resolvido por decomposição QR."
   ]
  },
  {
   "cell_type": "markdown",
   "metadata": {},
   "source": [
    "## Implementação"
   ]
  },
  {
   "cell_type": "markdown",
   "metadata": {},
   "source": [
    "### Definição das Variáveis do Sistema"
   ]
  },
  {
   "cell_type": "code",
   "execution_count": 45,
   "metadata": {},
   "outputs": [],
   "source": [
    "x = np.array([0, 2, 4, 6, 8, 10])\n",
    "y = np.array([0, 2.9, 14.8, 39.6, 74.3, 119])"
   ]
  },
  {
   "cell_type": "code",
   "execution_count": 46,
   "metadata": {},
   "outputs": [
    {
     "data": {
      "text/plain": [
       "array([[     0,      0,      0,      0,      0,      1],\n",
       "       [    32,     16,      8,      4,      2,      1],\n",
       "       [  1024,    256,     64,     16,      4,      1],\n",
       "       [  7776,   1296,    216,     36,      6,      1],\n",
       "       [ 32768,   4096,    512,     64,      8,      1],\n",
       "       [100000,  10000,   1000,    100,     10,      1]])"
      ]
     },
     "execution_count": 46,
     "metadata": {},
     "output_type": "execute_result"
    }
   ],
   "source": [
    "def expandir_x(x):\n",
    "    X = np.array([ x for i in range(len(x))]).T\n",
    "    for i in range(X.shape[1]):\n",
    "        X[:,i] = X[:,i]**(X.shape[1]-i-1)\n",
    "    return X.astype(np.float64)\n",
    "\n",
    "X = expandir_x(x)\n",
    "X.astype(np.int)"
   ]
  },
  {
   "cell_type": "markdown",
   "metadata": {},
   "source": [
    "## Decomposição QR\n",
    "\n",
    "A decomposição QR consiste em fatorizar umas matriz $A$ na multiplicação entre duas matrizes $Q$ e $R$. Onde $Q$ é uma matriz \n",
    "cujas colunas formam uma base ortonormal (vetores ortogonais e normalizados) para o espaço coluna de $A$, e $R$ é uma matriz\n",
    "triangular superiora com valores positivos na sua diagonal principal.\n",
    "\n",
    "Por $Q$ ser ortogonal ($Q^{-1}=Q^T$), essa fatoração nos permite resolver sistemas de equações assim como encontrar os auto-valores de \n",
    "uma matriz. Um processo ao qual obtemos essa fatoração se chama __Processo Gram-Schmidt__."
   ]
  },
  {
   "cell_type": "markdown",
   "metadata": {},
   "source": [
    "## Processo Gram-Schmidt\n",
    "\n",
    "O processo Gram-Schmidt consiste em obter vetores ortogonais no subespaço $W$ de $R^n$ através da projeção da sua base\n",
    "$\\{x_1, x_2, x_3, \\dots \\ x_n \\}$ num subespaço $W_1$, que é inicialmente definido como $W_1 = span(v_1) = span(x_1)$.\n",
    "\n",
    "Tendo $v_1$, $v_n$ é recorrentemente definido como sua projeção no subespaço $W_{n-1}$.\n",
    "\n",
    "Assim, temos que\n",
    "$$\n",
    "\\begin{align*}\n",
    "v_n &= x_n - \\sum^{n-1}_{i=1} proj_{v_i}(x_n) \\\\\n",
    "    &= x_n - proj_{v_1}(x_n) - proj_{v_2}(x_n) - \\dots - proj_{v_{n-1}}(x_n)\n",
    "\\end{align*}\n",
    "$$\n",
    "\n",
    "Aqui a função $proj$ é a projeção de um vetor sobre outro,\n",
    "$$\n",
    "proj_{v}(w) = \\frac{w \\cdot v}{v \\cdot v}v\n",
    "$$\n",
    "\n",
    "e o operador $w \\cdot v$ é o produto escalar entre dois vetores\n",
    "$$\n",
    "w \\cdot v = w^Tv\n",
    "$$\n",
    "\n",
    "Uma vez obtidos os vetores $v_i$ da base, procedemos em normalizá-los, dividindo-os\n",
    "por suas magnitudes:\n",
    "$$\n",
    "b_i = \\frac{v_i}{\\| v_i \\|}\n",
    "$$ \n",
    "\n",
    "Por fim, a base ortonormal do subespaço $W$ é \n",
    "$$\n",
    "Q = \\{ b_1, b_2, \\dots, b_n \\}\n",
    "$$\n",
    "\n",
    "\n"
   ]
  },
  {
   "cell_type": "markdown",
   "metadata": {},
   "source": [
    "Geometricamente, a ortonormalização no método Gram-Schmidt funciona subtraindo a projeção de cada vetor do espaço \n",
    "coluna de $A$ no hiperplano definido pelos vetores de base calculados anteriormente. "
   ]
  },
  {
   "cell_type": "markdown",
   "metadata": {},
   "source": [
    "<img src=\"gs_orthonormalization.gif\">"
   ]
  },
  {
   "cell_type": "markdown",
   "metadata": {},
   "source": [
    "A partir de $Q$ podemos obter $R$ facilmente pela identidade $Q^{-1} = Q^T$, que nos permite definir $R$ como\n",
    "$$\n",
    "\\begin{align*}\n",
    "A &= QR \\\\\n",
    "Q^TA &= Q^TQR \\\\\n",
    "Q^TA &= R\n",
    "\\end{align*}\n",
    "$$"
   ]
  },
  {
   "cell_type": "markdown",
   "metadata": {},
   "source": [
    "Para facilitar a implementação do algoritmo, implementaremos algumas funções para simplificar o processo."
   ]
  },
  {
   "cell_type": "markdown",
   "metadata": {},
   "source": [
    "### Projeção entre dois vetores"
   ]
  },
  {
   "cell_type": "markdown",
   "metadata": {},
   "source": [
    "$$\n",
    "proj_v(w) = \\frac{v \\cdot w}{v \\cdot v}v\n",
    "$$"
   ]
  },
  {
   "cell_type": "code",
   "execution_count": 48,
   "metadata": {},
   "outputs": [],
   "source": [
    "def proj(v,w):\n",
    "    \"\"\"\n",
    "    Implementação da projeção de um vetor w, no vetor v.\n",
    "    \"\"\"\n",
    "\n",
    "    # Para o produto escalar usamos a função np.dot da biblioteca numpy\n",
    "    wdotv = np.dot(v,w)\n",
    "    vdotv = np.dot(v,v)\n",
    "    return (wdotv / vdotv) * v"
   ]
  },
  {
   "cell_type": "markdown",
   "metadata": {},
   "source": [
    "### Projeção de um vetor em um subespaço\n",
    "\n",
    "$$\n",
    "proj_W(v) = \\sum^n_{i=1} proj_{w_i}(v)\n",
    "$$\n",
    "\n",
    "Onde $w_i$ é o $i$-gésimo vetor de base do subespaço $W$."
   ]
  },
  {
   "cell_type": "code",
   "execution_count": 49,
   "metadata": {},
   "outputs": [],
   "source": [
    "def proj_subespaço(W, v):\n",
    "    return np.sum([ proj(W[:,i], v) for i in range(W.shape[1])], axis=0)"
   ]
  },
  {
   "cell_type": "markdown",
   "metadata": {},
   "source": [
    "### Normalização de um vetor\n",
    "$$\n",
    "\\hat{u} = \\frac{u}{\\|u\\|}\n",
    "$$"
   ]
  },
  {
   "cell_type": "code",
   "execution_count": 50,
   "metadata": {},
   "outputs": [],
   "source": [
    "def normalizar_vetor(u):\n",
    "    return u / np.sqrt(np.dot(u,u))"
   ]
  },
  {
   "cell_type": "markdown",
   "metadata": {},
   "source": [
    "### Decomposição QR"
   ]
  },
  {
   "cell_type": "code",
   "execution_count": 51,
   "metadata": {},
   "outputs": [],
   "source": [
    "def QR_decomp(A):\n",
    "    # Copiamos a matriz original\n",
    "    Q = A.copy()\n",
    "\n",
    "    # Para cada coluna da matriz copiada, começando da segunda,\n",
    "    for i in range(1, Q.shape[1]):\n",
    "        x_n = Q[:, i]\n",
    "\n",
    "        # Projetamos a coluna no subespaço gerado pelos vetores v_i\n",
    "        # gerados até agora.\n",
    "        v_n = x_n - proj_subespaço(Q[:, :i], x_n)\n",
    "\n",
    "        # Normalizamos o vetor gerado.\n",
    "        Q[:, i] = normalizar_vetor(v_n)\n",
    "\n",
    "    # R = Q^-1 * A,\n",
    "    # Q^-1 = Q^T\n",
    "    R = Q.T@A\n",
    "    return Q, R"
   ]
  },
  {
   "cell_type": "code",
   "execution_count": 52,
   "metadata": {},
   "outputs": [],
   "source": [
    "import math\n",
    "import numpy as np\n",
    "\n",
    "def proj(u,v):\n",
    "    return (np.dot(v, u) / np.dot(u, u)) * u\n",
    "\n",
    "def QR_decomp(A):\n",
    "    u = []\n",
    "    for i in range(0, A.shape[1]):\n",
    "        u.append(\n",
    "            A[:,i] - np.sum([ proj(u[j], A[:, i]) for j in range(i) ], axis=0 )\n",
    "        )\n",
    "    u = np.array(u)\n",
    "\n",
    "    # Normalizamos os vetores calculados\n",
    "    Q = np.vstack([u[i]/math.sqrt(np.dot(u[i],u[i])) for i in range(len(u))]).T\n",
    "\n",
    "    R = Q.T@A\n",
    "\n",
    "    return Q, R"
   ]
  },
  {
   "cell_type": "code",
   "execution_count": 53,
   "metadata": {},
   "outputs": [
    {
     "data": {
      "text/plain": [
       "array([[ 0.  ,  0.  ,  0.  ,  0.  ,  0.  ,  1.  ],\n",
       "       [ 0.  ,  0.01,  0.18,  0.75,  0.63,  0.  ],\n",
       "       [ 0.01,  0.16,  0.66,  0.37, -0.63, -0.  ],\n",
       "       [ 0.07,  0.53,  0.54, -0.49,  0.42,  0.  ],\n",
       "       [ 0.31,  0.78, -0.47,  0.23, -0.16, -0.  ],\n",
       "       [ 0.95, -0.3 ,  0.11, -0.04,  0.03,  0.  ]])"
      ]
     },
     "metadata": {},
     "output_type": "display_data"
    },
    {
     "data": {
      "text/plain": [
       "array([[ 1.0552373e+05,  1.0846450e+04,  1.1231800e+03,  1.1745000e+02,\n",
       "         1.2440000e+01,  1.3400000e+00],\n",
       "       [-0.0000000e+00,  9.3654000e+02,  2.2533000e+02,  4.1710000e+01,\n",
       "         7.1000000e+00,  1.1800000e+00],\n",
       "       [-0.0000000e+00, -0.0000000e+00,  2.5330000e+01,  1.1270000e+01,\n",
       "         3.5600000e+00,  1.0200000e+00],\n",
       "       [ 0.0000000e+00,  0.0000000e+00,  0.0000000e+00,  1.7900000e+00,\n",
       "         1.4500000e+00,  8.2000000e-01],\n",
       "       [-0.0000000e+00, -0.0000000e+00, -0.0000000e+00, -0.0000000e+00,\n",
       "         2.5000000e-01,  2.9000000e-01],\n",
       "       [ 0.0000000e+00,  0.0000000e+00,  0.0000000e+00,  0.0000000e+00,\n",
       "         0.0000000e+00,  1.0000000e+00]])"
      ]
     },
     "metadata": {},
     "output_type": "display_data"
    }
   ],
   "source": [
    "Q, R = QR_decomp(X)\n",
    "display(Q.round(2))\n",
    "display(R.round(2))"
   ]
  },
  {
   "cell_type": "markdown",
   "metadata": {},
   "source": [
    "### Resolução de um sistema linar com decomposição QR\n",
    "\n",
    "Como visto antes, a matriz $R$ obtida na fatoração é triangular superiora, portanto\n",
    "um sistema envolvendo $R$ como matriz de coeficientes, sua solução pode ser obtida\n",
    "por subsituição direta.\n",
    "\n",
    "$$\n",
    "\\begin{align*}\n",
    "Ax &= b \\\\\n",
    "QRx &= b \\\\\n",
    "Q^{-1}QRx &= Q^{-1}b \\\\\n",
    "Rx &= Q^Tb \\\\\n",
    "Rx &= b'\n",
    "\\end{align*}\n",
    "$$"
   ]
  },
  {
   "cell_type": "markdown",
   "metadata": {},
   "source": [
    "Usando a função desenvolvida no problema 1 do laboratório sobre Eliminação Gaussiana, podemos encontrar \n",
    "o vetor de coeficientes."
   ]
  },
  {
   "cell_type": "code",
   "execution_count": 54,
   "metadata": {},
   "outputs": [],
   "source": [
    "def resolver_U(U, b):\n",
    "    \"\"\"\n",
    "    Resolve um sistema de equações cuja matriz de coeficientes é triangular superiora.\n",
    "    \"\"\"\n",
    "    x = np.zeros(U.shape[1])\n",
    "    for i in reversed(range(U.shape[0])):\n",
    "        x[i]= ( b[i] - np.sum([U[i,j]*x[j] for j in range(i+1, U.shape[0])]) ) / U[i,i]\n",
    "    return x"
   ]
  },
  {
   "cell_type": "code",
   "execution_count": 55,
   "metadata": {},
   "outputs": [
    {
     "data": {
      "text/plain": [
       "array([ 2.60416667e-03, -7.00520833e-02,  6.61458333e-01, -1.19479167e+00,\n",
       "        1.71250000e+00,  1.95135019e-12])"
      ]
     },
     "execution_count": 55,
     "metadata": {},
     "output_type": "execute_result"
    }
   ],
   "source": [
    "a = resolver_U(R, Q.T@y)\n",
    "a"
   ]
  },
  {
   "cell_type": "markdown",
   "metadata": {},
   "source": [
    "Verificamos o resultado dos coeficientes multiplicando o vetor $a$ pela matriz de coeficientes gerada antes."
   ]
  },
  {
   "cell_type": "code",
   "execution_count": 57,
   "metadata": {},
   "outputs": [
    {
     "data": {
      "text/plain": [
       "'Valor de y:'"
      ]
     },
     "metadata": {},
     "output_type": "display_data"
    },
    {
     "data": {
      "text/plain": [
       "array([  0. ,   2.9,  14.8,  39.6,  74.3, 119. ])"
      ]
     },
     "metadata": {},
     "output_type": "display_data"
    },
    {
     "data": {
      "text/plain": [
       "'Valor de \"a\" arredondado:'"
      ]
     },
     "metadata": {},
     "output_type": "display_data"
    },
    {
     "data": {
      "text/plain": [
       "array([  0. ,   2.9,  14.8,  39.6,  74.3, 119. ])"
      ]
     },
     "metadata": {},
     "output_type": "display_data"
    },
    {
     "data": {
      "text/plain": [
       "'Valor não arredondado:'"
      ]
     },
     "metadata": {},
     "output_type": "display_data"
    },
    {
     "data": {
      "text/plain": [
       "array([1.95135019e-12, 2.90000000e+00, 1.48000000e+01, 3.96000000e+01,\n",
       "       7.43000000e+01, 1.19000000e+02])"
      ]
     },
     "metadata": {},
     "output_type": "display_data"
    }
   ],
   "source": [
    "display('Valor de y:')\n",
    "display(y)\n",
    "\n",
    "# Nesse caso a aproximação do algoritmo vai até 11 casas decimais.\n",
    "display('Valor de \"a\" arredondado:')\n",
    "display(np.round(X@a, 11))\n",
    "\n",
    "# Observe o ruído, principalmente em a_0. O valor é muito próximo\n",
    "# de 0, mas por problemas de imprecisão não é igual a 0.\n",
    "display('Valor não arredondado:')\n",
    "display(X@a)"
   ]
  },
  {
   "cell_type": "markdown",
   "metadata": {},
   "source": [
    "Compondo as funções que implementamos em uma única função, podemos simplificar o processo de calcular outros polinômios."
   ]
  },
  {
   "cell_type": "code",
   "execution_count": 39,
   "metadata": {},
   "outputs": [],
   "source": [
    "def calcular_coeficientes(x, y):\n",
    "    X = expandir_x(x)\n",
    "    Q, R = QR_decomp(X)\n",
    "    return resolver_U(R, Q.T@y)"
   ]
  },
  {
   "cell_type": "markdown",
   "metadata": {},
   "source": [
    "Com a implementação da função ```calcular_coeficientes```, podemos resolver o problema facilmente:"
   ]
  },
  {
   "cell_type": "code",
   "execution_count": 40,
   "metadata": {},
   "outputs": [
    {
     "data": {
      "text/plain": [
       "1442270569.236476"
      ]
     },
     "execution_count": 40,
     "metadata": {},
     "output_type": "execute_result"
    }
   ],
   "source": [
    "# Cálculo com polinômio de quinta ordem.\n",
    "a = calcular_coeficientes(x,y)\n",
    "polinomio(228.6, a)"
   ]
  },
  {
   "cell_type": "markdown",
   "metadata": {},
   "source": [
    "Também é possível calcularmos um polinômio cúbico, como o enunciado propõe, com uma pequena alteração nos parâmetros\n",
    "que passamos para a função."
   ]
  },
  {
   "cell_type": "code",
   "execution_count": 41,
   "metadata": {},
   "outputs": [
    {
     "data": {
      "text/plain": [
       "1003906.4440499009"
      ]
     },
     "execution_count": 41,
     "metadata": {},
     "output_type": "execute_result"
    }
   ],
   "source": [
    "# x[:-2] cria uma fatia do array/vetor x contendo todos\n",
    "# os itens do vetor, exceto os últimos 2.\n",
    "# Isso se chama slicing.\n",
    "a = calcular_coeficientes(x[:-2],y[:-2])\n",
    "polinomio(228.6, a)"
   ]
  },
  {
   "cell_type": "markdown",
   "metadata": {},
   "source": [
    "## Visualizando os polinômios gerados"
   ]
  },
  {
   "cell_type": "code",
   "execution_count": 18,
   "metadata": {},
   "outputs": [],
   "source": [
    "# Importação da biblioteca de gráficos\n",
    "import matplotlib.pyplot as plt\n",
    "import matplotlib as mpl\n",
    "default_sizes = mpl.rcParams['figure.figsize']\n",
    "#%matplotlib widget"
   ]
  },
  {
   "cell_type": "code",
   "execution_count": 19,
   "metadata": {},
   "outputs": [],
   "source": [
    "# Controle do tamanho dos gráficos.\n",
    "mpl.rcParams['figure.figsize'] = [sz*2.0 for sz in default_sizes]"
   ]
  },
  {
   "cell_type": "code",
   "execution_count": 20,
   "metadata": {},
   "outputs": [
    {
     "name": "stderr",
     "output_type": "stream",
     "text": [
      "No handles with labels found to put in legend.\n"
     ]
    },
    {
     "data": {
      "image/png": "[encoded data removed]",
      "text/plain": [
       "<Figure size 864x576 with 1 Axes>"
      ]
     },
     "metadata": {
      "needs_background": "light"
     },
     "output_type": "display_data"
    }
   ],
   "source": [
    "def plot(x, y, \n",
    "    x_hat=None, \n",
    "    titulo='', \n",
    "    label='', \n",
    "    marcar_amostras=True, \n",
    "    cor='#00DD00', \n",
    "    mostrar_valor_amostras=True, \n",
    "    mostrar_valor_previsoes=True\n",
    "):\n",
    "    \"\"\"\n",
    "    Desenha o gráfico de um polinômio interpolador \n",
    "\n",
    "    Parâmetros\n",
    "    ---------\n",
    "    x : np.array\n",
    "        Valores de x aos quais temos observações.\n",
    "    y : np.array\n",
    "        Valores de y aos quais temos observações.\n",
    "    x_hat : np.array\n",
    "        Valores de x que queremos prever com o polinômio resultante.\n",
    "    label : str\n",
    "        Legenda do gráfico.\n",
    "    \"\"\"\n",
    "\n",
    "    # Alinhamento do texto\n",
    "    alinhamento = 'right'\n",
    "\n",
    "    # Calculamos os coeficientes de um polinômio interpolador\n",
    "    # com as amostras passadas como parâmetro.\n",
    "    a = calcular_coeficientes(x, y)\n",
    "\n",
    "    lb = np.min(x) # obtém o menor valor de x\n",
    "    ub = np.max(x) # obtém o maior valor de x\n",
    "\n",
    "    # Se passamos valores de x que queremos\n",
    "    # extrapolar com o polinômio, pegamos o maior\n",
    "    # valor desse vetor como \n",
    "    if x_hat is not None:\n",
    "        ub = np.max(x_hat)\n",
    "\n",
    "    # Os valores mínimos e máximos são os limites\n",
    "    # do gráfico que vamos gerar.\n",
    "    rng = (lb, ub)\n",
    "\n",
    "    # Cria um array de valores igualmente espaçados\n",
    "    # entre o limite mínimo e máximo que calculamos\n",
    "    # para o gráfico.\n",
    "    spc = np.linspace(rng[0], rng[1]) \n",
    "\n",
    "    # Calculamos os pontos\n",
    "    yyy = v_polinomio(x, a)\n",
    "\n",
    "    # Pontos com dados do problema\n",
    "    if marcar_amostras:\n",
    "        plt.scatter(x,y, c=cor) # Cria pontos no gráfico para cada dupla (x,y)\n",
    "\n",
    "        if mostrar_valor_amostras:\n",
    "            # Enumerate retorna o índice e valor de um array.\n",
    "            for i, v in enumerate(y):\n",
    "                plt.text(x[i], v-5, f'{v:,}', ha=alinhamento, fontsize=16, wrap=True)\n",
    "\n",
    "    # Pontos no gráfico para os valores previstos por p(x)\n",
    "    # plt.scatter(x, yyy, marker='x') \n",
    "\n",
    "    # Pontos a serem calculados\n",
    "    if x_hat is not None:\n",
    "        y_hat = v_polinomio(x_hat, a)\n",
    "        plt.scatter(x_hat, y_hat, c=cor)\n",
    "\n",
    "        if mostrar_valor_previsoes:\n",
    "            for i, v in enumerate(y_hat):\n",
    "                plt.text(x_hat[i], v, f'{round(v,2):,}', ha=alinhamento, fontsize=16, wrap=True)\n",
    "\n",
    "    # Usamos a implementação vetorizada do polinômio\n",
    "    # para que obtenhamos um array de valores de y\n",
    "    # com os coeficientes calculados.\n",
    "    yy  = v_polinomio(spc, a)\n",
    "\n",
    "    # Gráfico do polinômio gerado pelos\n",
    "    # coeficientes a no intervalo [lb, ub].\n",
    "    if titulo != '':\n",
    "        plt.title(titulo)\n",
    "\n",
    "    plt.plot(spc, yy, label=label, c=cor)\n",
    "    plt.grid()\n",
    "    plt.legend()\n",
    "\n",
    "plot(x, y, titulo='Polinômio Original')\n",
    "plt.show()"
   ]
  },
  {
   "cell_type": "code",
   "execution_count": 21,
   "metadata": {},
   "outputs": [
    {
     "data": {
      "image/png": "[encoded data removed]",
      "text/plain": [
       "<Figure size 864x576 with 1 Axes>"
      ]
     },
     "metadata": {
      "needs_background": "light"
     },
     "output_type": "display_data"
    }
   ],
   "source": [
    "# Se chamarmos a função mais de uma vez podemos\n",
    "# sobrepor mais de um polinômio sobre o mesmo gráfico.\n",
    "plot(x[:-1], y[:-1], x_hat=[226.8], label='Polinômio de grau 4', marcar_amostras=False, cor='#0000dd')\n",
    "plot(x[:-2], y[:-2], x_hat=[226.8], label='Polinômio de grau 3', marcar_amostras=False, cor='#dd0000')\n",
    "plot(x,      y,      x_hat=[226.8], label='Polinômio de grau 5', mostrar_valor_amostras=False)"
   ]
  },
  {
   "cell_type": "code",
   "execution_count": 22,
   "metadata": {},
   "outputs": [],
   "source": [
    "import numpy as np\n",
    "A2 = np.array([\n",
    "    [ 0.0, 0.4, 0.6 ],\n",
    "    [ 0.6, 0.1, 0.2 ],\n",
    "    [ 0.4, 0.5, 0.2 ]\n",
    "])"
   ]
  }
 ],
 "metadata": {
  "interpreter": {
   "hash": "916dbcbb3f70747c44a77c7bcd40155683ae19c65e1c03b4aa3499c5328201f1"
  },
  "kernelspec": {
   "display_name": "Python 3.8.10 64-bit",
   "name": "python3"
  },
  "language_info": {
   "codemirror_mode": {
    "name": "ipython",
    "version": 3
   },
   "file_extension": ".py",
   "mimetype": "text/x-python",
   "name": "python",
   "nbconvert_exporter": "python",
   "pygments_lexer": "ipython3",
   "version": "3.8.10"
  },
  "orig_nbformat": 4
 },
 "nbformat": 4,
 "nbformat_minor": 2
}

{
 "cells": [
  {
   "cell_type": "markdown",
   "source": [
    "# Problema\n",
    "_(Fonte: Linear Algebra and Its Applications. Addison-Wesley Longman, 1997)_\n",
    "\n",
    "Suponha que um conjunto de dados experimentais seja representado por um conjunto de pontos do plano.\n",
    "Um polinômio interpolador para esse conjunto de dados é um polinômio cujo gráfico passa por cada ponto.\n",
    "Em trabalhos científicos, esse polinômio pode ser usado, por exemplo, para obter estimativas de valores\n",
    "entre pontos conhecidos.\n",
    "\n",
    "Em uma experiência num túnel de vento, a força sobre um projétil devido à resistência do ar foi medida\n",
    "para velocidades diferentes:\n",
    "\n",
    "| Velocidade | Força |\n",
    "| -- | --  | \n",
    "| 0 | 0 |\n",
    "| 2 | 2.9 |\n",
    "| 4 | 14.8 |\n",
    "| 6 | 39.6 |\n",
    "| 8 | 74.3 |\n",
    "| 10 | 119 | \n",
    "\n",
    "1. Determine um polinômio interpolador para esse conjunto de dados e obtenha uma estimativa para a força\n",
    "sobre o projétil quando ele está se deslocando a uma velocidade de 228,6 m/s. Use $p(t) = a_0 + a_1t + a_2t^2 + a_3t^3 + a_4t^4 + a_5t^5 $\n",
    "\n",
    "2. O que acontece se tentarmos obter a resposta empregando um polinômio cúbico, por exemplo."
   ],
   "metadata": {}
  },
  {
   "cell_type": "markdown",
   "source": [
    "# Solução"
   ],
   "metadata": {}
  },
  {
   "cell_type": "markdown",
   "source": [
    "### Importação de bibliotecas"
   ],
   "metadata": {}
  },
  {
   "cell_type": "code",
   "execution_count": 1,
   "source": [
    "import math \n",
    "import numpy as np"
   ],
   "outputs": [],
   "metadata": {}
  },
  {
   "cell_type": "markdown",
   "source": [
    "## Polinômios\n",
    "\n",
    "Para resolver o problema precisamos calcular os coeficientes de um polinômio que possui os valores\n",
    "da coluna __Força__ da tabela no seu domínio. É útil que tenhamos um método que, dado um valor $x \\in R$ e um\n",
    "vetor de coeficientes, nos retorna o valor do polinômio em $x$."
   ],
   "metadata": {}
  },
  {
   "cell_type": "code",
   "execution_count": 2,
   "source": [
    "def polinomio(x, a):\n",
    "    return np.sum([a[len(a)-1-i]*x**i for i in range(len(a))])\n",
    "\n",
    "def v_polinomio(x, a):\n",
    "    return [polinomio(xx, a) for xx in x]"
   ],
   "outputs": [],
   "metadata": {}
  },
  {
   "cell_type": "markdown",
   "source": [
    "## Matriz de Vandermonde\n",
    "\n",
    "Também é necessário descrever o sistema de equações como uma matriz, para que possamos resolver o problema\n",
    "linearmente. A matriz de Vandermonde nos auxilia nesse processo descrevendo um conjunto de observações $x_i$\n",
    "para o mesmo polinômio:\n",
    "\n",
    "$$\n",
    "\\begin{bmatrix}\n",
    "x_1^{n-1} & x_1^{n-2} & \\dots & x_1^{1} & 1 \\\\\n",
    "x_2^{n-1} & x_2^{n-2} & \\dots & x_2^{1} & 1 \\\\\n",
    "\\dots \\\\\n",
    "x_n^{n-1} & x_n^{n-2} & \\dots & x_n^{1} & 1 \\\\\n",
    "\\end{bmatrix}\n",
    "$$\n"
   ],
   "metadata": {}
  },
  {
   "cell_type": "markdown",
   "source": [
    "No enunciado do problema temos 6 amostras de valores, portanto nossa matriz de coeficientes $A$ pode ser definida por:\n",
    "$$\n",
    "\\begin{bmatrix}\n",
    " 0^{5} &  0^{4} &   0^{3} &   0^{2}   &  0^{1}  & 1 \\\\\n",
    " 2^{5} &  2^{4} &   2^{3} &   2^{2}   &  2^{1}  & 1 \\\\\n",
    " 4^{5} &  4^{4} &   4^{3} &   4^{2}   &  4^{1}  & 1 \\\\\n",
    " 6^{5} &  6^{4} &   6^{3} &   6^{2}   &  6^{1}  & 1 \\\\\n",
    " 8^{5} &  8^{4} &   8^{3} &   8^{2}   &  8^{1}  & 1 \\\\\n",
    "10^{5} & 10^{4} &  10^{3} &  10^{2}   & 10^{1}  & 1\n",
    "\\end{bmatrix} = \\begin{bmatrix}\n",
    " 0     &  0     &   0     &   0      &  0      & 1 \\\\\n",
    " 32    &  16    &   8     &   4      &  2      & 1 \\\\\n",
    " 1024  &  256   &   64    &   16     &  4      & 1 \\\\\n",
    " 7776  &  1296  &   216   &   36     &  6      & 1 \\\\\n",
    " 32768 &  4096  &   512   &   64     &  8      & 1 \\\\\n",
    "100000 & 10000  &  10000  &  1000    & 10      & 1\n",
    "\\end{bmatrix}\n",
    "$$"
   ],
   "metadata": {}
  },
  {
   "cell_type": "markdown",
   "source": [
    "Se interpretarmos o vetor de coeficientes do polinômio como um vetor de variáveis independentes em um sistema de equações lineares,\n",
    "e nesse sistema, usarmos os valores de $y$ (__Força__) esperados pelo polinômio, o sistema pode ser descrito como:\n",
    "\n",
    "$$\n",
    "\\begin{bmatrix}\n",
    " 0     &  0     &   0     &   0      &  0      & 1 \\\\\n",
    " 32    &  16    &   8     &   4      &  2      & 1 \\\\\n",
    " 1024  &  256   &   64    &   16     &  4      & 1 \\\\\n",
    " 7776  &  1296  &   216   &   36     &  6      & 1 \\\\\n",
    " 32768 &  4096  &   512   &   64     &  8      & 1 \\\\\n",
    "100000 & 10000  &  10000  &  1000    & 10      & 1 \\\\\n",
    "\\end{bmatrix}\n",
    "\\begin{bmatrix}\n",
    "a_5 \\\\ a_4 \\\\ a_3 \\\\ a_2 \\\\ a_1 \\\\ a_0\n",
    "\\end{bmatrix}\n",
    "=\n",
    "\\begin{bmatrix}\n",
    "0.0 \\\\ 2.9 \\\\ 14.8 \\\\ 39.6 \\\\ 74.3 \\\\ 119\n",
    "\\end{bmatrix}\n",
    "$$\n"
   ],
   "metadata": {}
  },
  {
   "cell_type": "markdown",
   "source": [
    "Resolvendo esse sistema obtemos o polinômio interpolador para os valores do problema.\n",
    "$$\n",
    "p(x) = a^5x^5 + a^4x^4 + a^3x^3 + a^2x^2 + ax + a^0\n",
    "$$"
   ],
   "metadata": {}
  },
  {
   "cell_type": "markdown",
   "source": [
    "O sistema será resolvido por decomposição QR."
   ],
   "metadata": {}
  },
  {
   "cell_type": "markdown",
   "source": [
    "## Implementação"
   ],
   "metadata": {}
  },
  {
   "cell_type": "markdown",
   "source": [
    "### Definição das Variáveis do Sistema"
   ],
   "metadata": {}
  },
  {
   "cell_type": "code",
   "execution_count": 3,
   "source": [
    "x = np.array([0, 2, 4, 6, 8, 10])\n",
    "y = np.array([0, 2.9, 14.8, 39.6, 74.3, 119])"
   ],
   "outputs": [],
   "metadata": {}
  },
  {
   "cell_type": "code",
   "execution_count": 4,
   "source": [
    "def expandir_x(x):\n",
    "    X = np.array([ x for i in range(len(x))]).T\n",
    "    for i in range(X.shape[1]):\n",
    "        X[:,i] = X[:,i]**(X.shape[1]-i-1)\n",
    "    return X.astype(np.float64)\n",
    "\n",
    "X = expandir_x(x)\n",
    "X.astype(np.int)"
   ],
   "outputs": [
    {
     "output_type": "execute_result",
     "data": {
      "text/plain": [
       "array([[     0,      0,      0,      0,      0,      1],\n",
       "       [    32,     16,      8,      4,      2,      1],\n",
       "       [  1024,    256,     64,     16,      4,      1],\n",
       "       [  7776,   1296,    216,     36,      6,      1],\n",
       "       [ 32768,   4096,    512,     64,      8,      1],\n",
       "       [100000,  10000,   1000,    100,     10,      1]])"
      ]
     },
     "metadata": {},
     "execution_count": 4
    }
   ],
   "metadata": {}
  },
  {
   "cell_type": "markdown",
   "source": [
    "## Decomposição QR\n",
    "\n",
    "A decomposição QR consiste em fatorizar umas matriz $A$ na multiplicação entre duas matrizes $Q$ e $R$. Onde $Q$ é uma matriz \n",
    "cujas colunas formam uma base ortonormal (vetores ortogonais e normalizados) para o espaço coluna de $A$, e $R$ é uma matriz\n",
    "triangular superiora com valores positivos na sua diagonal principal.\n",
    "\n",
    "Por $Q$ ser ortogonal ($Q^{-1}=Q^T$), essa fatoração nos permite resolver sistemas de equações assim como encontrar os auto-valores de \n",
    "uma matriz. Um processo ao qual obtemos essa fatoração se chama __Processo Gram-Schmidt__."
   ],
   "metadata": {}
  },
  {
   "cell_type": "markdown",
   "source": [
    "## Processo Gram-Schmidt\n",
    "\n",
    "O processo Gram-Schmidt consiste em obter vetores ortogonais no subespaço $W$ de $R^n$ através da projeção da sua base\n",
    "$\\{x_1, x_2, x_3, \\dots \\ x_n \\}$ num subespaço $W_1$, que é inicialmente definido como $W_1 = span(v_1) = span(x_1)$.\n",
    "\n",
    "Tendo $v_1$, $v_n$ é recorrentemente definido como sua projeção no subespaço $W_{n-1}$.\n",
    "\n",
    "Assim, temos que\n",
    "$$\n",
    "\\begin{align*}\n",
    "v_n &= x_n - \\sum^{n-1}_{i=1} proj_{v_i}(x_n) \\\\\n",
    "    &= x_n - proj_{v_1}(x_n) - proj_{v_2}(x_n) - \\dots - proj_{v_{n-1}}(x_n)\n",
    "\\end{align*}\n",
    "$$\n",
    "\n",
    "Aqui a função $proj$ é a projeção de um vetor sobre outro,\n",
    "$$\n",
    "proj_{v}(w) = \\frac{w \\cdot v}{v \\cdot v}v\n",
    "$$\n",
    "\n",
    "e o operador $w \\cdot v$ é o produto escalar entre dois vetores\n",
    "$$\n",
    "w \\cdot v = w^Tv\n",
    "$$\n",
    "\n",
    "Uma vez obtidos os vetores $v_i$ da base, procedemos em normalizá-los, dividindo-os\n",
    "por suas magnitudes:\n",
    "$$\n",
    "b_i = \\frac{v_i}{\\| v_i \\|}\n",
    "$$ \n",
    "\n",
    "Por fim, a base ortonormal do subespaço $W$ é \n",
    "$$\n",
    "Q = \\{ b_1, b_2, \\dots, b_n \\}\n",
    "$$\n",
    "\n",
    "\n"
   ],
   "metadata": {}
  },
  {
   "cell_type": "markdown",
   "source": [
    "A partir de $Q$ podemos obter $R$ facilmente pela identidade $Q^{-1} = Q^T$, que nos permite definir $R$ como\n",
    "$$\n",
    "\\begin{align*}\n",
    "A &= QR \\\\\n",
    "Q^TA &= Q^TQR \\\\\n",
    "Q^TA &= R\n",
    "\\end{align*}\n",
    "$$"
   ],
   "metadata": {}
  },
  {
   "cell_type": "markdown",
   "source": [
    "Para facilitar a implementação do algoritmo, implementaremos algumas funções para simplificar o processo."
   ],
   "metadata": {}
  },
  {
   "cell_type": "markdown",
   "source": [
    "### Projeção entre dois vetores"
   ],
   "metadata": {}
  },
  {
   "cell_type": "markdown",
   "source": [
    "$$\n",
    "proj_v(w) = \\frac{v \\cdot w}{v \\cdot v}v\n",
    "$$"
   ],
   "metadata": {}
  },
  {
   "cell_type": "code",
   "execution_count": 5,
   "source": [
    "\n",
    "def proj(v,w):\n",
    "    \"\"\"\n",
    "    Implementação da projeção de um vetor w, no vetor v.\n",
    "    \"\"\"\n",
    "\n",
    "    # Para o produto escalar usamos a função np.dot da biblioteca numpy\n",
    "    wdotv = np.dot(v,w)\n",
    "    vdotv = np.dot(v,v)\n",
    "    return (wdotv / vdotv) * v"
   ],
   "outputs": [],
   "metadata": {}
  },
  {
   "cell_type": "markdown",
   "source": [
    "### Projeção de um vetor em um subespaço\n",
    "\n",
    "$$\n",
    "proj_W(v) = \\sum^n_{i=1} proj_{w_i}(v)\n",
    "$$\n",
    "\n",
    "Onde $w_i$ é o $i$-gésimo vetor de base do subespaço $W$."
   ],
   "metadata": {}
  },
  {
   "cell_type": "code",
   "execution_count": 6,
   "source": [
    "def proj_subespaço(W, v):\n",
    "    return np.sum([ proj(W[:,i], v) for i in range(W.shape[1])], axis=0)"
   ],
   "outputs": [],
   "metadata": {}
  },
  {
   "cell_type": "markdown",
   "source": [
    "### Normalização de um vetor\n",
    "$$\n",
    "\\hat{u} = \\frac{u}{\\|u\\|}\n",
    "$$"
   ],
   "metadata": {}
  },
  {
   "cell_type": "code",
   "execution_count": 7,
   "source": [
    "def normalizar_vetor(u):\n",
    "    return u / np.sqrt(np.dot(u,u))"
   ],
   "outputs": [],
   "metadata": {}
  },
  {
   "cell_type": "markdown",
   "source": [
    "### Decomposição QR"
   ],
   "metadata": {}
  },
  {
   "cell_type": "code",
   "execution_count": 8,
   "source": [
    "def QR_decomp(A):\n",
    "    # Copiamos a matriz original\n",
    "    Q = A.copy()\n",
    "\n",
    "    # Para cada coluna da matriz copiada, começando da segunda,\n",
    "    for i in range(1, Q.shape[1]):\n",
    "        x_n = Q[:, i]\n",
    "\n",
    "        # Projetamos a coluna no subespaço gerado pelos vetores v_i\n",
    "        # gerados até agora.\n",
    "        v_n = x_n - proj_subespaço(Q[:, :i], x_n)\n",
    "\n",
    "        # Normalizamos o vetor gerado.\n",
    "        Q[:, i] = normalizar_vetor(v_n)\n",
    "\n",
    "    # R = Q^-1 * A,\n",
    "    # Q^-1 = Q^T\n",
    "    R = Q.T@A\n",
    "    return Q, R"
   ],
   "outputs": [],
   "metadata": {}
  },
  {
   "cell_type": "code",
   "execution_count": 9,
   "source": [
    "Q, R = QR_decomp(X)\n",
    "display(Q.round())\n",
    "display(R.round())"
   ],
   "outputs": [
    {
     "output_type": "display_data",
     "data": {
      "text/plain": [
       "array([[ 0.0000e+00,  0.0000e+00,  0.0000e+00,  0.0000e+00,  0.0000e+00,\n",
       "         1.0000e+00],\n",
       "       [ 3.2000e+01,  0.0000e+00,  0.0000e+00,  1.0000e+00,  1.0000e+00,\n",
       "         0.0000e+00],\n",
       "       [ 1.0240e+03,  0.0000e+00,  1.0000e+00,  0.0000e+00, -1.0000e+00,\n",
       "        -0.0000e+00],\n",
       "       [ 7.7760e+03,  1.0000e+00,  1.0000e+00, -0.0000e+00,  0.0000e+00,\n",
       "         0.0000e+00],\n",
       "       [ 3.2768e+04,  1.0000e+00, -0.0000e+00,  0.0000e+00, -0.0000e+00,\n",
       "        -0.0000e+00],\n",
       "       [ 1.0000e+05, -0.0000e+00,  0.0000e+00, -0.0000e+00,  0.0000e+00,\n",
       "         0.0000e+00]])"
      ]
     },
     "metadata": {}
    },
    {
     "output_type": "display_data",
     "data": {
      "text/plain": [
       "array([[ 1.11352576e+10,  1.14455808e+09,  1.18522624e+08,\n",
       "         1.23936000e+07,  1.31296000e+06,  1.41600000e+05],\n",
       "       [-0.00000000e+00,  9.37000000e+02,  2.25000000e+02,\n",
       "         4.20000000e+01,  7.00000000e+00,  1.00000000e+00],\n",
       "       [-0.00000000e+00, -0.00000000e+00,  2.50000000e+01,\n",
       "         1.10000000e+01,  4.00000000e+00,  1.00000000e+00],\n",
       "       [ 0.00000000e+00,  0.00000000e+00,  0.00000000e+00,\n",
       "         2.00000000e+00,  1.00000000e+00,  1.00000000e+00],\n",
       "       [-0.00000000e+00, -0.00000000e+00, -0.00000000e+00,\n",
       "        -0.00000000e+00,  0.00000000e+00,  0.00000000e+00],\n",
       "       [ 0.00000000e+00,  0.00000000e+00,  0.00000000e+00,\n",
       "         0.00000000e+00,  0.00000000e+00,  1.00000000e+00]])"
      ]
     },
     "metadata": {}
    }
   ],
   "metadata": {}
  },
  {
   "cell_type": "markdown",
   "source": [
    "### Resolução de um sistema linar com decomposição QR\n",
    "\n",
    "Como visto antes, a matriz $R$ obtida na fatoração é triangular superiora, portanto\n",
    "um sistema envolvendo $R$ como matriz de coeficientes, sua solução pode ser obtida\n",
    "por subsituição direta.\n",
    "\n",
    "$$\n",
    "\\begin{align*}\n",
    "Ax &= b \\\\\n",
    "QRx &= b \\\\\n",
    "Q^{-1}QRx &= Q^{-1}b \\\\\n",
    "Rx &= Q^Tb \\\\\n",
    "Rx &= b'\n",
    "\\end{align*}\n",
    "$$"
   ],
   "metadata": {}
  },
  {
   "cell_type": "markdown",
   "source": [
    "Usando a função desenvolvida no problema 1 do laboratório sobre Eliminação Gaussiana, podemos encontrar \n",
    "o vetor de coeficientes."
   ],
   "metadata": {}
  },
  {
   "cell_type": "code",
   "execution_count": 10,
   "source": [
    "def resolver_U(U, b):\n",
    "    \"\"\"\n",
    "    Resolve um sistema de equações cuja matriz de coeficientes é triangular superiora.\n",
    "    \"\"\"\n",
    "    x = np.zeros(U.shape[1])\n",
    "    for i in reversed(range(U.shape[0])):\n",
    "        x[i]= ( b[i] - np.sum([U[i,j]*x[j] for j in range(i+1, U.shape[0])]) ) / U[i,i]\n",
    "    return x"
   ],
   "outputs": [],
   "metadata": {}
  },
  {
   "cell_type": "code",
   "execution_count": 1,
   "source": [
    "a = resolver_U(R, Q.T@y)\n",
    "a"
   ],
   "outputs": [
    {
     "output_type": "error",
     "ename": "NameError",
     "evalue": "name 'resolver_U' is not defined",
     "traceback": [
      "\u001b[0;31m---------------------------------------------------------------------------\u001b[0m",
      "\u001b[0;31mNameError\u001b[0m                                 Traceback (most recent call last)",
      "\u001b[0;32m<ipython-input-1-b7a221f7c03a>\u001b[0m in \u001b[0;36m<module>\u001b[0;34m\u001b[0m\n\u001b[0;32m----> 1\u001b[0;31m \u001b[0ma\u001b[0m \u001b[0;34m=\u001b[0m \u001b[0mresolver_U\u001b[0m\u001b[0;34m(\u001b[0m\u001b[0mR\u001b[0m\u001b[0;34m,\u001b[0m \u001b[0mQ\u001b[0m\u001b[0;34m.\u001b[0m\u001b[0mT\u001b[0m\u001b[0;34m@\u001b[0m\u001b[0my\u001b[0m\u001b[0;34m)\u001b[0m\u001b[0;34m\u001b[0m\u001b[0;34m\u001b[0m\u001b[0m\n\u001b[0m\u001b[1;32m      2\u001b[0m \u001b[0ma\u001b[0m\u001b[0;34m\u001b[0m\u001b[0;34m\u001b[0m\u001b[0m\n",
      "\u001b[0;31mNameError\u001b[0m: name 'resolver_U' is not defined"
     ]
    }
   ],
   "metadata": {}
  },
  {
   "cell_type": "markdown",
   "source": [
    "Verificamos o resultado dos coeficientes multiplicando o vetor $a$ pela matriz de coeficientes gerada antes."
   ],
   "metadata": {}
  },
  {
   "cell_type": "code",
   "execution_count": 134,
   "source": [
    "display('Valor de y:')\n",
    "display(y)\n",
    "\n",
    "# Nesse caso a aproximação do algoritmo vai até 11 casas decimais.\n",
    "display('Valor de \"a\" arredondado:')\n",
    "display(np.round(X@a, 11))\n",
    "\n",
    "# Observe o ruído, principalmente em a_0. O valor é muito próximo\n",
    "# de 0, mas por problemas de imprecisão não é igual a 0.\n",
    "display('Valor não arredondado:')\n",
    "display(X@a)"
   ],
   "outputs": [
    {
     "output_type": "display_data",
     "data": {
      "text/plain": [
       "'Valor de y:'"
      ]
     },
     "metadata": {}
    },
    {
     "output_type": "display_data",
     "data": {
      "text/plain": [
       "array([  0. ,   2.9,  14.8,  39.6,  74.3, 119. ])"
      ]
     },
     "metadata": {}
    },
    {
     "output_type": "display_data",
     "data": {
      "text/plain": [
       "'Valor de \"a\" arredondado:'"
      ]
     },
     "metadata": {}
    },
    {
     "output_type": "display_data",
     "data": {
      "text/plain": [
       "array([  0. ,   2.9,  14.8,  39.6,  74.3, 119. ])"
      ]
     },
     "metadata": {}
    },
    {
     "output_type": "display_data",
     "data": {
      "text/plain": [
       "'Valor não arredondado:'"
      ]
     },
     "metadata": {}
    },
    {
     "output_type": "display_data",
     "data": {
      "text/plain": [
       "array([2.39996911e-12, 2.90000000e+00, 1.48000000e+01, 3.96000000e+01,\n",
       "       7.43000000e+01, 1.19000000e+02])"
      ]
     },
     "metadata": {}
    }
   ],
   "metadata": {}
  },
  {
   "cell_type": "markdown",
   "source": [
    "Compondo as funções que implementamos em uma única função, podemos simplificar o processo de calcular outros polinômios."
   ],
   "metadata": {}
  },
  {
   "cell_type": "code",
   "execution_count": 129,
   "source": [
    "def calcular_coeficientes(x, y):\n",
    "    X = expandir_x(x)\n",
    "    Q, R = QR_decomp(X)\n",
    "    return resolver_U(R, Q.T@y)"
   ],
   "outputs": [],
   "metadata": {}
  },
  {
   "cell_type": "markdown",
   "source": [
    "Com a implementação da função ```calcular_coeficientes```, podemos resolver o problema facilmente:"
   ],
   "metadata": {}
  },
  {
   "cell_type": "code",
   "execution_count": 130,
   "source": [
    "# Cálculo com polinômio de quinta ordem.\n",
    "a = calcular_coeficientes(x,y)\n",
    "polinomio(228.6, a)"
   ],
   "outputs": [
    {
     "output_type": "execute_result",
     "data": {
      "text/plain": [
       "1442270569.235182"
      ]
     },
     "metadata": {},
     "execution_count": 130
    }
   ],
   "metadata": {}
  },
  {
   "cell_type": "markdown",
   "source": [
    "Também é possível calcularmos um polinômio cúbico, como o enunciado propõe, com uma pequena alteração nos parâmetros\n",
    "que passamos para a função."
   ],
   "metadata": {}
  },
  {
   "cell_type": "code",
   "execution_count": 131,
   "source": [
    "# x[:-2] cria uma fatia do array/vetor x contendo todos\n",
    "# os itens do vetor, exceto os últimos 2.\n",
    "# Isso se chama slicing.\n",
    "a = calcular_coeficientes(x[:-2],y[:-2])\n",
    "polinomio(228.6, a)"
   ],
   "outputs": [
    {
     "output_type": "execute_result",
     "data": {
      "text/plain": [
       "1003906.4440498315"
      ]
     },
     "metadata": {},
     "execution_count": 131
    }
   ],
   "metadata": {}
  },
  {
   "cell_type": "markdown",
   "source": [
    "## Visualizando os polinômios gerados"
   ],
   "metadata": {}
  },
  {
   "cell_type": "code",
   "execution_count": 16,
   "source": [
    "# Importação da biblioteca de gráficos\n",
    "import matplotlib.pyplot as plt\n",
    "import matplotlib as mpl\n",
    "default_sizes = mpl.rcParams['figure.figsize']\n",
    "#%matplotlib widget"
   ],
   "outputs": [],
   "metadata": {}
  },
  {
   "cell_type": "code",
   "execution_count": 24,
   "source": [
    "# Controle do tamanho dos gráficos.\n",
    "mpl.rcParams['figure.figsize'] = [sz*2.0 for sz in default_sizes]"
   ],
   "outputs": [],
   "metadata": {}
  },
  {
   "cell_type": "code",
   "execution_count": 82,
   "source": [
    "def plot(x, y, \n",
    "    x_hat=None, \n",
    "    titulo='', \n",
    "    label='', \n",
    "    marcar_amostras=True, \n",
    "    cor='#00DD00', \n",
    "    mostrar_valor_amostras=True, \n",
    "    mostrar_valor_previsoes=True\n",
    "):\n",
    "    \"\"\"\n",
    "    Desenha o gráfico de um polinômio interpolador \n",
    "\n",
    "    Parâmetros\n",
    "    ---------\n",
    "    x : np.array\n",
    "        Valores de x aos quais temos observações.\n",
    "    y : np.array\n",
    "        Valores de y aos quais temos observações.\n",
    "    x_hat : np.array\n",
    "        Valores de x que queremos prever com o polinômio resultante.\n",
    "    label : str\n",
    "        Legenda do gráfico.\n",
    "    \"\"\"\n",
    "\n",
    "    # Alinhamento do texto\n",
    "    alinhamento = 'right'\n",
    "\n",
    "    # Calculamos os coeficientes de um polinômio interpolador\n",
    "    # com as amostras passadas como parâmetro.\n",
    "    a = calcular_coeficientes(x, y)\n",
    "\n",
    "    lb = np.min(x) # obtém o menor valor de x\n",
    "    ub = np.max(x) # obtém o maior valor de x\n",
    "\n",
    "    # Se passamos valores de x que queremos\n",
    "    # extrapolar com o polinômio, pegamos o maior\n",
    "    # valor desse vetor como \n",
    "    if x_hat is not None:\n",
    "        ub = np.max(x_hat)\n",
    "\n",
    "    # Os valores mínimos e máximos são os limites\n",
    "    # do gráfico que vamos gerar.\n",
    "    rng = (lb, ub)\n",
    "\n",
    "    # Cria um array de valores igualmente espaçados\n",
    "    # entre o limite mínimo e máximo que calculamos\n",
    "    # para o gráfico.\n",
    "    spc = np.linspace(rng[0], rng[1]) \n",
    "\n",
    "    # Calculamos os pontos\n",
    "    yyy = v_polinomio(x, a)\n",
    "\n",
    "    # Pontos com dados do problema\n",
    "    if marcar_amostras:\n",
    "        plt.scatter(x,y, c=cor) # Cria pontos no gráfico para cada dupla (x,y)\n",
    "\n",
    "        if mostrar_valor_amostras:\n",
    "            # Enumerate retorna o índice e valor de um array.\n",
    "            for i, v in enumerate(y):\n",
    "                plt.text(x[i], v-5, f'{v:,}', ha=alinhamento, fontsize=16, wrap=True)\n",
    "\n",
    "    # Pontos no gráfico para os valores previstos por p(x)\n",
    "    # plt.scatter(x, yyy, marker='x') \n",
    "\n",
    "    # Pontos a serem calculados\n",
    "    if x_hat is not None:\n",
    "        y_hat = v_polinomio(x_hat, a)\n",
    "        plt.scatter(x_hat, y_hat, c=cor)\n",
    "\n",
    "        if mostrar_valor_previsoes:\n",
    "            for i, v in enumerate(y_hat):\n",
    "                plt.text(x_hat[i], v, f'{round(v,2):,}', ha=alinhamento, fontsize=16, wrap=True)\n",
    "\n",
    "    # Usamos a implementação vetorizada do polinômio\n",
    "    # para que obtenhamos um array de valores de y\n",
    "    # com os coeficientes calculados.\n",
    "    yy  = v_polinomio(spc, a)\n",
    "\n",
    "    # Gráfico do polinômio gerado pelos\n",
    "    # coeficientes a no intervalo [lb, ub].\n",
    "    if titulo != '':\n",
    "        plt.title(titulo)\n",
    "\n",
    "    plt.plot(spc, yy, label=label, c=cor)\n",
    "    plt.grid()\n",
    "    plt.legend()\n",
    "\n",
    "plot(x, y, titulo='Polinômio Original')\n",
    "plt.show()"
   ],
   "outputs": [
    {
     "output_type": "stream",
     "name": "stderr",
     "text": [
      "No handles with labels found to put in legend.\n"
     ]
    },
    {
     "output_type": "display_data",
     "data": {
      "text/plain": [
       "<Figure size 864x576 with 1 Axes>"
      ],
      "image/svg+xml": "<?xml version=\"1.0\" encoding=\"utf-8\" standalone=\"no\"?>\n<!DOCTYPE svg PUBLIC \"-//W3C//DTD SVG 1.1//EN\"\n  \"http://www.w3.org/Graphics/SVG/1.1/DTD/svg11.dtd\">\n<!-- Created with matplotlib (https://matplotlib.org/) -->\n<svg height=\"481.55625pt\" version=\"1.1\" viewBox=\"0 0 710.0875 481.55625\" width=\"710.0875pt\" xmlns=\"http://www.w3.org/2000/svg\" xmlns:xlink=\"http://www.w3.org/1999/xlink\">\n <defs>\n  <style type=\"text/css\">\n*{stroke-linecap:butt;stroke-linejoin:round;}\n  </style>\n </defs>\n <g id=\"figure_1\">\n  <g id=\"patch_1\">\n   <path d=\"M 0 481.55625 \nL 710.0875 481.55625 \nL 710.0875 0 \nL 0 0 \nz\n\" style=\"fill:none;\"/>\n  </g>\n  <g id=\"axes_1\">\n   <g id=\"patch_2\">\n    <path d=\"M 33.2875 457.678125 \nL 702.8875 457.678125 \nL 702.8875 22.798125 \nL 33.2875 22.798125 \nz\n\" style=\"fill:#ffffff;\"/>\n   </g>\n   <g id=\"PathCollection_1\">\n    <defs>\n     <path d=\"M 0 3 \nC 0.795609 3 1.55874 2.683901 2.12132 2.12132 \nC 2.683901 1.55874 3 0.795609 3 0 \nC 3 -0.795609 2.683901 -1.55874 2.12132 -2.12132 \nC 1.55874 -2.683901 0.795609 -3 0 -3 \nC -0.795609 -3 -1.55874 -2.683901 -2.12132 -2.12132 \nC -2.683901 -1.55874 -3 -0.795609 -3 0 \nC -3 0.795609 -2.683901 1.55874 -2.12132 2.12132 \nC -1.55874 2.683901 -0.795609 3 0 3 \nz\n\" id=\"m57413cd533\" style=\"stroke:#00dd00;\"/>\n    </defs>\n    <g clip-path=\"url(#p849499d415)\">\n     <use style=\"fill:#00dd00;stroke:#00dd00;\" x=\"63.996347\" xlink:href=\"#m57413cd533\" y=\"437.887937\"/>\n     <use style=\"fill:#00dd00;stroke:#00dd00;\" x=\"185.632808\" xlink:href=\"#m57413cd533\" y=\"428.254585\"/>\n     <use style=\"fill:#00dd00;stroke:#00dd00;\" x=\"307.269269\" xlink:href=\"#m57413cd533\" y=\"388.724622\"/>\n     <use style=\"fill:#00dd00;stroke:#00dd00;\" x=\"428.905731\" xlink:href=\"#m57413cd533\" y=\"306.342852\"/>\n     <use style=\"fill:#00dd00;stroke:#00dd00;\" x=\"550.542192\" xlink:href=\"#m57413cd533\" y=\"191.074811\"/>\n     <use style=\"fill:#00dd00;stroke:#00dd00;\" x=\"672.178653\" xlink:href=\"#m57413cd533\" y=\"42.588313\"/>\n    </g>\n   </g>\n   <g id=\"matplotlib.axis_1\">\n    <g id=\"xtick_1\">\n     <g id=\"line2d_1\">\n      <path clip-path=\"url(#p849499d415)\" d=\"M 63.996347 457.678125 \nL 63.996347 22.798125 \n\" style=\"fill:none;stroke:#b0b0b0;stroke-linecap:square;stroke-width:0.8;\"/>\n     </g>\n     <g id=\"line2d_2\">\n      <defs>\n       <path d=\"M 0 0 \nL 0 3.5 \n\" id=\"m373031166b\" style=\"stroke:#000000;stroke-width:0.8;\"/>\n      </defs>\n      <g>\n       <use style=\"stroke:#000000;stroke-width:0.8;\" x=\"63.996347\" xlink:href=\"#m373031166b\" y=\"457.678125\"/>\n      </g>\n     </g>\n     <g id=\"text_1\">\n      <!-- 0 -->\n      <defs>\n       <path d=\"M 31.78125 66.40625 \nQ 24.171875 66.40625 20.328125 58.90625 \nQ 16.5 51.421875 16.5 36.375 \nQ 16.5 21.390625 20.328125 13.890625 \nQ 24.171875 6.390625 31.78125 6.390625 \nQ 39.453125 6.390625 43.28125 13.890625 \nQ 47.125 21.390625 47.125 36.375 \nQ 47.125 51.421875 43.28125 58.90625 \nQ 39.453125 66.40625 31.78125 66.40625 \nz\nM 31.78125 74.21875 \nQ 44.046875 74.21875 50.515625 64.515625 \nQ 56.984375 54.828125 56.984375 36.375 \nQ 56.984375 17.96875 50.515625 8.265625 \nQ 44.046875 -1.421875 31.78125 -1.421875 \nQ 19.53125 -1.421875 13.0625 8.265625 \nQ 6.59375 17.96875 6.59375 36.375 \nQ 6.59375 54.828125 13.0625 64.515625 \nQ 19.53125 74.21875 31.78125 74.21875 \nz\n\" id=\"DejaVuSans-48\"/>\n      </defs>\n      <g transform=\"translate(60.815097 472.276562)scale(0.1 -0.1)\">\n       <use xlink:href=\"#DejaVuSans-48\"/>\n      </g>\n     </g>\n    </g>\n    <g id=\"xtick_2\">\n     <g id=\"line2d_3\">\n      <path clip-path=\"url(#p849499d415)\" d=\"M 185.632808 457.678125 \nL 185.632808 22.798125 \n\" style=\"fill:none;stroke:#b0b0b0;stroke-linecap:square;stroke-width:0.8;\"/>\n     </g>\n     <g id=\"line2d_4\">\n      <g>\n       <use style=\"stroke:#000000;stroke-width:0.8;\" x=\"185.632808\" xlink:href=\"#m373031166b\" y=\"457.678125\"/>\n      </g>\n     </g>\n     <g id=\"text_2\">\n      <!-- 2 -->\n      <defs>\n       <path d=\"M 19.1875 8.296875 \nL 53.609375 8.296875 \nL 53.609375 0 \nL 7.328125 0 \nL 7.328125 8.296875 \nQ 12.9375 14.109375 22.625 23.890625 \nQ 32.328125 33.6875 34.8125 36.53125 \nQ 39.546875 41.84375 41.421875 45.53125 \nQ 43.3125 49.21875 43.3125 52.78125 \nQ 43.3125 58.59375 39.234375 62.25 \nQ 35.15625 65.921875 28.609375 65.921875 \nQ 23.96875 65.921875 18.8125 64.3125 \nQ 13.671875 62.703125 7.8125 59.421875 \nL 7.8125 69.390625 \nQ 13.765625 71.78125 18.9375 73 \nQ 24.125 74.21875 28.421875 74.21875 \nQ 39.75 74.21875 46.484375 68.546875 \nQ 53.21875 62.890625 53.21875 53.421875 \nQ 53.21875 48.921875 51.53125 44.890625 \nQ 49.859375 40.875 45.40625 35.40625 \nQ 44.1875 33.984375 37.640625 27.21875 \nQ 31.109375 20.453125 19.1875 8.296875 \nz\n\" id=\"DejaVuSans-50\"/>\n      </defs>\n      <g transform=\"translate(182.451558 472.276562)scale(0.1 -0.1)\">\n       <use xlink:href=\"#DejaVuSans-50\"/>\n      </g>\n     </g>\n    </g>\n    <g id=\"xtick_3\">\n     <g id=\"line2d_5\">\n      <path clip-path=\"url(#p849499d415)\" d=\"M 307.269269 457.678125 \nL 307.269269 22.798125 \n\" style=\"fill:none;stroke:#b0b0b0;stroke-linecap:square;stroke-width:0.8;\"/>\n     </g>\n     <g id=\"line2d_6\">\n      <g>\n       <use style=\"stroke:#000000;stroke-width:0.8;\" x=\"307.269269\" xlink:href=\"#m373031166b\" y=\"457.678125\"/>\n      </g>\n     </g>\n     <g id=\"text_3\">\n      <!-- 4 -->\n      <defs>\n       <path d=\"M 37.796875 64.3125 \nL 12.890625 25.390625 \nL 37.796875 25.390625 \nz\nM 35.203125 72.90625 \nL 47.609375 72.90625 \nL 47.609375 25.390625 \nL 58.015625 25.390625 \nL 58.015625 17.1875 \nL 47.609375 17.1875 \nL 47.609375 0 \nL 37.796875 0 \nL 37.796875 17.1875 \nL 4.890625 17.1875 \nL 4.890625 26.703125 \nz\n\" id=\"DejaVuSans-52\"/>\n      </defs>\n      <g transform=\"translate(304.088019 472.276562)scale(0.1 -0.1)\">\n       <use xlink:href=\"#DejaVuSans-52\"/>\n      </g>\n     </g>\n    </g>\n    <g id=\"xtick_4\">\n     <g id=\"line2d_7\">\n      <path clip-path=\"url(#p849499d415)\" d=\"M 428.905731 457.678125 \nL 428.905731 22.798125 \n\" style=\"fill:none;stroke:#b0b0b0;stroke-linecap:square;stroke-width:0.8;\"/>\n     </g>\n     <g id=\"line2d_8\">\n      <g>\n       <use style=\"stroke:#000000;stroke-width:0.8;\" x=\"428.905731\" xlink:href=\"#m373031166b\" y=\"457.678125\"/>\n      </g>\n     </g>\n     <g id=\"text_4\">\n      <!-- 6 -->\n      <defs>\n       <path d=\"M 33.015625 40.375 \nQ 26.375 40.375 22.484375 35.828125 \nQ 18.609375 31.296875 18.609375 23.390625 \nQ 18.609375 15.53125 22.484375 10.953125 \nQ 26.375 6.390625 33.015625 6.390625 \nQ 39.65625 6.390625 43.53125 10.953125 \nQ 47.40625 15.53125 47.40625 23.390625 \nQ 47.40625 31.296875 43.53125 35.828125 \nQ 39.65625 40.375 33.015625 40.375 \nz\nM 52.59375 71.296875 \nL 52.59375 62.3125 \nQ 48.875 64.0625 45.09375 64.984375 \nQ 41.3125 65.921875 37.59375 65.921875 \nQ 27.828125 65.921875 22.671875 59.328125 \nQ 17.53125 52.734375 16.796875 39.40625 \nQ 19.671875 43.65625 24.015625 45.921875 \nQ 28.375 48.1875 33.59375 48.1875 \nQ 44.578125 48.1875 50.953125 41.515625 \nQ 57.328125 34.859375 57.328125 23.390625 \nQ 57.328125 12.15625 50.6875 5.359375 \nQ 44.046875 -1.421875 33.015625 -1.421875 \nQ 20.359375 -1.421875 13.671875 8.265625 \nQ 6.984375 17.96875 6.984375 36.375 \nQ 6.984375 53.65625 15.1875 63.9375 \nQ 23.390625 74.21875 37.203125 74.21875 \nQ 40.921875 74.21875 44.703125 73.484375 \nQ 48.484375 72.75 52.59375 71.296875 \nz\n\" id=\"DejaVuSans-54\"/>\n      </defs>\n      <g transform=\"translate(425.724481 472.276562)scale(0.1 -0.1)\">\n       <use xlink:href=\"#DejaVuSans-54\"/>\n      </g>\n     </g>\n    </g>\n    <g id=\"xtick_5\">\n     <g id=\"line2d_9\">\n      <path clip-path=\"url(#p849499d415)\" d=\"M 550.542192 457.678125 \nL 550.542192 22.798125 \n\" style=\"fill:none;stroke:#b0b0b0;stroke-linecap:square;stroke-width:0.8;\"/>\n     </g>\n     <g id=\"line2d_10\">\n      <g>\n       <use style=\"stroke:#000000;stroke-width:0.8;\" x=\"550.542192\" xlink:href=\"#m373031166b\" y=\"457.678125\"/>\n      </g>\n     </g>\n     <g id=\"text_5\">\n      <!-- 8 -->\n      <defs>\n       <path d=\"M 31.78125 34.625 \nQ 24.75 34.625 20.71875 30.859375 \nQ 16.703125 27.09375 16.703125 20.515625 \nQ 16.703125 13.921875 20.71875 10.15625 \nQ 24.75 6.390625 31.78125 6.390625 \nQ 38.8125 6.390625 42.859375 10.171875 \nQ 46.921875 13.96875 46.921875 20.515625 \nQ 46.921875 27.09375 42.890625 30.859375 \nQ 38.875 34.625 31.78125 34.625 \nz\nM 21.921875 38.8125 \nQ 15.578125 40.375 12.03125 44.71875 \nQ 8.5 49.078125 8.5 55.328125 \nQ 8.5 64.0625 14.71875 69.140625 \nQ 20.953125 74.21875 31.78125 74.21875 \nQ 42.671875 74.21875 48.875 69.140625 \nQ 55.078125 64.0625 55.078125 55.328125 \nQ 55.078125 49.078125 51.53125 44.71875 \nQ 48 40.375 41.703125 38.8125 \nQ 48.828125 37.15625 52.796875 32.3125 \nQ 56.78125 27.484375 56.78125 20.515625 \nQ 56.78125 9.90625 50.3125 4.234375 \nQ 43.84375 -1.421875 31.78125 -1.421875 \nQ 19.734375 -1.421875 13.25 4.234375 \nQ 6.78125 9.90625 6.78125 20.515625 \nQ 6.78125 27.484375 10.78125 32.3125 \nQ 14.796875 37.15625 21.921875 38.8125 \nz\nM 18.3125 54.390625 \nQ 18.3125 48.734375 21.84375 45.5625 \nQ 25.390625 42.390625 31.78125 42.390625 \nQ 38.140625 42.390625 41.71875 45.5625 \nQ 45.3125 48.734375 45.3125 54.390625 \nQ 45.3125 60.0625 41.71875 63.234375 \nQ 38.140625 66.40625 31.78125 66.40625 \nQ 25.390625 66.40625 21.84375 63.234375 \nQ 18.3125 60.0625 18.3125 54.390625 \nz\n\" id=\"DejaVuSans-56\"/>\n      </defs>\n      <g transform=\"translate(547.360942 472.276562)scale(0.1 -0.1)\">\n       <use xlink:href=\"#DejaVuSans-56\"/>\n      </g>\n     </g>\n    </g>\n    <g id=\"xtick_6\">\n     <g id=\"line2d_11\">\n      <path clip-path=\"url(#p849499d415)\" d=\"M 672.178653 457.678125 \nL 672.178653 22.798125 \n\" style=\"fill:none;stroke:#b0b0b0;stroke-linecap:square;stroke-width:0.8;\"/>\n     </g>\n     <g id=\"line2d_12\">\n      <g>\n       <use style=\"stroke:#000000;stroke-width:0.8;\" x=\"672.178653\" xlink:href=\"#m373031166b\" y=\"457.678125\"/>\n      </g>\n     </g>\n     <g id=\"text_6\">\n      <!-- 10 -->\n      <defs>\n       <path d=\"M 12.40625 8.296875 \nL 28.515625 8.296875 \nL 28.515625 63.921875 \nL 10.984375 60.40625 \nL 10.984375 69.390625 \nL 28.421875 72.90625 \nL 38.28125 72.90625 \nL 38.28125 8.296875 \nL 54.390625 8.296875 \nL 54.390625 0 \nL 12.40625 0 \nz\n\" id=\"DejaVuSans-49\"/>\n      </defs>\n      <g transform=\"translate(665.816153 472.276562)scale(0.1 -0.1)\">\n       <use xlink:href=\"#DejaVuSans-49\"/>\n       <use x=\"63.623047\" xlink:href=\"#DejaVuSans-48\"/>\n      </g>\n     </g>\n    </g>\n   </g>\n   <g id=\"matplotlib.axis_2\">\n    <g id=\"ytick_1\">\n     <g id=\"line2d_13\">\n      <path clip-path=\"url(#p849499d415)\" d=\"M 33.2875 437.887937 \nL 702.8875 437.887937 \n\" style=\"fill:none;stroke:#b0b0b0;stroke-linecap:square;stroke-width:0.8;\"/>\n     </g>\n     <g id=\"line2d_14\">\n      <defs>\n       <path d=\"M 0 0 \nL -3.5 0 \n\" id=\"m14723a9d72\" style=\"stroke:#000000;stroke-width:0.8;\"/>\n      </defs>\n      <g>\n       <use style=\"stroke:#000000;stroke-width:0.8;\" x=\"33.2875\" xlink:href=\"#m14723a9d72\" y=\"437.887937\"/>\n      </g>\n     </g>\n     <g id=\"text_7\">\n      <!-- 0 -->\n      <g transform=\"translate(19.925 441.687155)scale(0.1 -0.1)\">\n       <use xlink:href=\"#DejaVuSans-48\"/>\n      </g>\n     </g>\n    </g>\n    <g id=\"ytick_2\">\n     <g id=\"line2d_15\">\n      <path clip-path=\"url(#p849499d415)\" d=\"M 33.2875 371.451025 \nL 702.8875 371.451025 \n\" style=\"fill:none;stroke:#b0b0b0;stroke-linecap:square;stroke-width:0.8;\"/>\n     </g>\n     <g id=\"line2d_16\">\n      <g>\n       <use style=\"stroke:#000000;stroke-width:0.8;\" x=\"33.2875\" xlink:href=\"#m14723a9d72\" y=\"371.451025\"/>\n      </g>\n     </g>\n     <g id=\"text_8\">\n      <!-- 20 -->\n      <g transform=\"translate(13.5625 375.250244)scale(0.1 -0.1)\">\n       <use xlink:href=\"#DejaVuSans-50\"/>\n       <use x=\"63.623047\" xlink:href=\"#DejaVuSans-48\"/>\n      </g>\n     </g>\n    </g>\n    <g id=\"ytick_3\">\n     <g id=\"line2d_17\">\n      <path clip-path=\"url(#p849499d415)\" d=\"M 33.2875 305.014114 \nL 702.8875 305.014114 \n\" style=\"fill:none;stroke:#b0b0b0;stroke-linecap:square;stroke-width:0.8;\"/>\n     </g>\n     <g id=\"line2d_18\">\n      <g>\n       <use style=\"stroke:#000000;stroke-width:0.8;\" x=\"33.2875\" xlink:href=\"#m14723a9d72\" y=\"305.014114\"/>\n      </g>\n     </g>\n     <g id=\"text_9\">\n      <!-- 40 -->\n      <g transform=\"translate(13.5625 308.813332)scale(0.1 -0.1)\">\n       <use xlink:href=\"#DejaVuSans-52\"/>\n       <use x=\"63.623047\" xlink:href=\"#DejaVuSans-48\"/>\n      </g>\n     </g>\n    </g>\n    <g id=\"ytick_4\">\n     <g id=\"line2d_19\">\n      <path clip-path=\"url(#p849499d415)\" d=\"M 33.2875 238.577202 \nL 702.8875 238.577202 \n\" style=\"fill:none;stroke:#b0b0b0;stroke-linecap:square;stroke-width:0.8;\"/>\n     </g>\n     <g id=\"line2d_20\">\n      <g>\n       <use style=\"stroke:#000000;stroke-width:0.8;\" x=\"33.2875\" xlink:href=\"#m14723a9d72\" y=\"238.577202\"/>\n      </g>\n     </g>\n     <g id=\"text_10\">\n      <!-- 60 -->\n      <g transform=\"translate(13.5625 242.376421)scale(0.1 -0.1)\">\n       <use xlink:href=\"#DejaVuSans-54\"/>\n       <use x=\"63.623047\" xlink:href=\"#DejaVuSans-48\"/>\n      </g>\n     </g>\n    </g>\n    <g id=\"ytick_5\">\n     <g id=\"line2d_21\">\n      <path clip-path=\"url(#p849499d415)\" d=\"M 33.2875 172.140291 \nL 702.8875 172.140291 \n\" style=\"fill:none;stroke:#b0b0b0;stroke-linecap:square;stroke-width:0.8;\"/>\n     </g>\n     <g id=\"line2d_22\">\n      <g>\n       <use style=\"stroke:#000000;stroke-width:0.8;\" x=\"33.2875\" xlink:href=\"#m14723a9d72\" y=\"172.140291\"/>\n      </g>\n     </g>\n     <g id=\"text_11\">\n      <!-- 80 -->\n      <g transform=\"translate(13.5625 175.939509)scale(0.1 -0.1)\">\n       <use xlink:href=\"#DejaVuSans-56\"/>\n       <use x=\"63.623047\" xlink:href=\"#DejaVuSans-48\"/>\n      </g>\n     </g>\n    </g>\n    <g id=\"ytick_6\">\n     <g id=\"line2d_23\">\n      <path clip-path=\"url(#p849499d415)\" d=\"M 33.2875 105.703379 \nL 702.8875 105.703379 \n\" style=\"fill:none;stroke:#b0b0b0;stroke-linecap:square;stroke-width:0.8;\"/>\n     </g>\n     <g id=\"line2d_24\">\n      <g>\n       <use style=\"stroke:#000000;stroke-width:0.8;\" x=\"33.2875\" xlink:href=\"#m14723a9d72\" y=\"105.703379\"/>\n      </g>\n     </g>\n     <g id=\"text_12\">\n      <!-- 100 -->\n      <g transform=\"translate(7.2 109.502598)scale(0.1 -0.1)\">\n       <use xlink:href=\"#DejaVuSans-49\"/>\n       <use x=\"63.623047\" xlink:href=\"#DejaVuSans-48\"/>\n       <use x=\"127.246094\" xlink:href=\"#DejaVuSans-48\"/>\n      </g>\n     </g>\n    </g>\n    <g id=\"ytick_7\">\n     <g id=\"line2d_25\">\n      <path clip-path=\"url(#p849499d415)\" d=\"M 33.2875 39.266468 \nL 702.8875 39.266468 \n\" style=\"fill:none;stroke:#b0b0b0;stroke-linecap:square;stroke-width:0.8;\"/>\n     </g>\n     <g id=\"line2d_26\">\n      <g>\n       <use style=\"stroke:#000000;stroke-width:0.8;\" x=\"33.2875\" xlink:href=\"#m14723a9d72\" y=\"39.266468\"/>\n      </g>\n     </g>\n     <g id=\"text_13\">\n      <!-- 120 -->\n      <g transform=\"translate(7.2 43.065687)scale(0.1 -0.1)\">\n       <use xlink:href=\"#DejaVuSans-49\"/>\n       <use x=\"63.623047\" xlink:href=\"#DejaVuSans-50\"/>\n       <use x=\"127.246094\" xlink:href=\"#DejaVuSans-48\"/>\n      </g>\n     </g>\n    </g>\n   </g>\n   <g id=\"line2d_27\">\n    <path clip-path=\"url(#p849499d415)\" d=\"M 63.996347 437.887937 \nL 76.408231 436.874012 \nL 88.820114 436.084194 \nL 101.231998 435.420495 \nL 113.643882 434.793882 \nL 126.055766 434.123909 \nL 138.46765 433.338344 \nL 150.879533 432.372807 \nL 163.291417 431.170403 \nL 175.703301 429.68135 \nL 188.115185 427.862615 \nL 200.527069 425.677543 \nL 212.938952 423.095496 \nL 225.350836 420.091479 \nL 237.76272 416.645775 \nL 250.174604 412.743577 \nL 262.586488 408.374623 \nL 274.998371 403.532824 \nL 287.410255 398.2159 \nL 299.822139 392.425013 \nL 312.234023 386.164395 \nL 324.645907 379.440986 \nL 337.05779 372.264062 \nL 349.469674 364.644871 \nL 361.881558 356.596264 \nL 374.293442 348.132326 \nL 386.705326 339.268012 \nL 399.11721 330.018776 \nL 411.529093 320.400206 \nL 423.940977 310.427654 \nL 436.352861 300.115873 \nL 448.764745 289.478643 \nL 461.176629 278.52841 \nL 473.588512 267.275913 \nL 486.000396 255.729822 \nL 498.41228 243.896365 \nL 510.824164 231.778964 \nL 523.236048 219.377868 \nL 535.647931 206.689781 \nL 548.059815 193.707501 \nL 560.471699 180.419546 \nL 572.883583 166.809792 \nL 585.295467 152.857103 \nL 597.70735 138.534961 \nL 610.119234 123.811105 \nL 622.531118 108.647156 \nL 634.943002 92.998257 \nL 647.354886 76.812697 \nL 659.766769 60.031553 \nL 672.178653 42.588313 \n\" style=\"fill:none;stroke:#00dd00;stroke-linecap:square;stroke-width:1.5;\"/>\n   </g>\n   <g id=\"patch_3\">\n    <path d=\"M 33.2875 457.678125 \nL 33.2875 22.798125 \n\" style=\"fill:none;stroke:#000000;stroke-linecap:square;stroke-linejoin:miter;stroke-width:0.8;\"/>\n   </g>\n   <g id=\"patch_4\">\n    <path d=\"M 702.8875 457.678125 \nL 702.8875 22.798125 \n\" style=\"fill:none;stroke:#000000;stroke-linecap:square;stroke-linejoin:miter;stroke-width:0.8;\"/>\n   </g>\n   <g id=\"patch_5\">\n    <path d=\"M 33.2875 457.678125 \nL 702.8875 457.678125 \n\" style=\"fill:none;stroke:#000000;stroke-linecap:square;stroke-linejoin:miter;stroke-width:0.8;\"/>\n   </g>\n   <g id=\"patch_6\">\n    <path d=\"M 33.2875 22.798125 \nL 702.8875 22.798125 \n\" style=\"fill:none;stroke:#000000;stroke-linecap:square;stroke-linejoin:miter;stroke-width:0.8;\"/>\n   </g>\n   <g id=\"text_14\">\n    <!-- 0.0 -->\n    <defs>\n     <path d=\"M 10.6875 12.40625 \nL 21 12.40625 \nL 21 0 \nL 10.6875 0 \nz\n\" id=\"DejaVuSans-46\"/>\n    </defs>\n    <g transform=\"translate(38.551347 454.497165)scale(0.16 -0.16)\">\n     <use xlink:href=\"#DejaVuSans-48\"/>\n     <use x=\"63.623047\" xlink:href=\"#DejaVuSans-46\"/>\n     <use x=\"95.410156\" xlink:href=\"#DejaVuSans-48\"/>\n    </g>\n   </g>\n   <g id=\"text_15\">\n    <!-- 2.9 -->\n    <defs>\n     <path d=\"M 10.984375 1.515625 \nL 10.984375 10.5 \nQ 14.703125 8.734375 18.5 7.8125 \nQ 22.3125 6.890625 25.984375 6.890625 \nQ 35.75 6.890625 40.890625 13.453125 \nQ 46.046875 20.015625 46.78125 33.40625 \nQ 43.953125 29.203125 39.59375 26.953125 \nQ 35.25 24.703125 29.984375 24.703125 \nQ 19.046875 24.703125 12.671875 31.3125 \nQ 6.296875 37.9375 6.296875 49.421875 \nQ 6.296875 60.640625 12.9375 67.421875 \nQ 19.578125 74.21875 30.609375 74.21875 \nQ 43.265625 74.21875 49.921875 64.515625 \nQ 56.59375 54.828125 56.59375 36.375 \nQ 56.59375 19.140625 48.40625 8.859375 \nQ 40.234375 -1.421875 26.421875 -1.421875 \nQ 22.703125 -1.421875 18.890625 -0.6875 \nQ 15.09375 0.046875 10.984375 1.515625 \nz\nM 30.609375 32.421875 \nQ 37.25 32.421875 41.125 36.953125 \nQ 45.015625 41.5 45.015625 49.421875 \nQ 45.015625 57.28125 41.125 61.84375 \nQ 37.25 66.40625 30.609375 66.40625 \nQ 23.96875 66.40625 20.09375 61.84375 \nQ 16.21875 57.28125 16.21875 49.421875 \nQ 16.21875 41.5 20.09375 36.953125 \nQ 23.96875 32.421875 30.609375 32.421875 \nz\n\" id=\"DejaVuSans-57\"/>\n    </defs>\n    <g transform=\"translate(160.187808 444.863812)scale(0.16 -0.16)\">\n     <use xlink:href=\"#DejaVuSans-50\"/>\n     <use x=\"63.623047\" xlink:href=\"#DejaVuSans-46\"/>\n     <use x=\"95.410156\" xlink:href=\"#DejaVuSans-57\"/>\n    </g>\n   </g>\n   <g id=\"text_16\">\n    <!-- 14.8 -->\n    <g transform=\"translate(271.644269 405.33385)scale(0.16 -0.16)\">\n     <use xlink:href=\"#DejaVuSans-49\"/>\n     <use x=\"63.623047\" xlink:href=\"#DejaVuSans-52\"/>\n     <use x=\"127.246094\" xlink:href=\"#DejaVuSans-46\"/>\n     <use x=\"159.033203\" xlink:href=\"#DejaVuSans-56\"/>\n    </g>\n   </g>\n   <g id=\"text_17\">\n    <!-- 39.6 -->\n    <defs>\n     <path d=\"M 40.578125 39.3125 \nQ 47.65625 37.796875 51.625 33 \nQ 55.609375 28.21875 55.609375 21.1875 \nQ 55.609375 10.40625 48.1875 4.484375 \nQ 40.765625 -1.421875 27.09375 -1.421875 \nQ 22.515625 -1.421875 17.65625 -0.515625 \nQ 12.796875 0.390625 7.625 2.203125 \nL 7.625 11.71875 \nQ 11.71875 9.328125 16.59375 8.109375 \nQ 21.484375 6.890625 26.8125 6.890625 \nQ 36.078125 6.890625 40.9375 10.546875 \nQ 45.796875 14.203125 45.796875 21.1875 \nQ 45.796875 27.640625 41.28125 31.265625 \nQ 36.765625 34.90625 28.71875 34.90625 \nL 20.21875 34.90625 \nL 20.21875 43.015625 \nL 29.109375 43.015625 \nQ 36.375 43.015625 40.234375 45.921875 \nQ 44.09375 48.828125 44.09375 54.296875 \nQ 44.09375 59.90625 40.109375 62.90625 \nQ 36.140625 65.921875 28.71875 65.921875 \nQ 24.65625 65.921875 20.015625 65.03125 \nQ 15.375 64.15625 9.8125 62.3125 \nL 9.8125 71.09375 \nQ 15.4375 72.65625 20.34375 73.4375 \nQ 25.25 74.21875 29.59375 74.21875 \nQ 40.828125 74.21875 47.359375 69.109375 \nQ 53.90625 64.015625 53.90625 55.328125 \nQ 53.90625 49.265625 50.4375 45.09375 \nQ 46.96875 40.921875 40.578125 39.3125 \nz\n\" id=\"DejaVuSans-51\"/>\n    </defs>\n    <g transform=\"translate(393.280731 322.95208)scale(0.16 -0.16)\">\n     <use xlink:href=\"#DejaVuSans-51\"/>\n     <use x=\"63.623047\" xlink:href=\"#DejaVuSans-57\"/>\n     <use x=\"127.246094\" xlink:href=\"#DejaVuSans-46\"/>\n     <use x=\"159.033203\" xlink:href=\"#DejaVuSans-54\"/>\n    </g>\n   </g>\n   <g id=\"text_18\">\n    <!-- 74.3 -->\n    <defs>\n     <path d=\"M 8.203125 72.90625 \nL 55.078125 72.90625 \nL 55.078125 68.703125 \nL 28.609375 0 \nL 18.3125 0 \nL 43.21875 64.59375 \nL 8.203125 64.59375 \nz\n\" id=\"DejaVuSans-55\"/>\n    </defs>\n    <g transform=\"translate(514.917192 207.684038)scale(0.16 -0.16)\">\n     <use xlink:href=\"#DejaVuSans-55\"/>\n     <use x=\"63.623047\" xlink:href=\"#DejaVuSans-52\"/>\n     <use x=\"127.246094\" xlink:href=\"#DejaVuSans-46\"/>\n     <use x=\"159.033203\" xlink:href=\"#DejaVuSans-51\"/>\n    </g>\n   </g>\n   <g id=\"text_19\">\n    <!-- 119.0 -->\n    <g transform=\"translate(626.373653 59.197541)scale(0.16 -0.16)\">\n     <use xlink:href=\"#DejaVuSans-49\"/>\n     <use x=\"63.623047\" xlink:href=\"#DejaVuSans-49\"/>\n     <use x=\"127.246094\" xlink:href=\"#DejaVuSans-57\"/>\n     <use x=\"190.869141\" xlink:href=\"#DejaVuSans-46\"/>\n     <use x=\"222.65625\" xlink:href=\"#DejaVuSans-48\"/>\n    </g>\n   </g>\n   <g id=\"text_20\">\n    <!-- Polinômio Original -->\n    <defs>\n     <path d=\"M 19.671875 64.796875 \nL 19.671875 37.40625 \nL 32.078125 37.40625 \nQ 38.96875 37.40625 42.71875 40.96875 \nQ 46.484375 44.53125 46.484375 51.125 \nQ 46.484375 57.671875 42.71875 61.234375 \nQ 38.96875 64.796875 32.078125 64.796875 \nz\nM 9.8125 72.90625 \nL 32.078125 72.90625 \nQ 44.34375 72.90625 50.609375 67.359375 \nQ 56.890625 61.8125 56.890625 51.125 \nQ 56.890625 40.328125 50.609375 34.8125 \nQ 44.34375 29.296875 32.078125 29.296875 \nL 19.671875 29.296875 \nL 19.671875 0 \nL 9.8125 0 \nz\n\" id=\"DejaVuSans-80\"/>\n     <path d=\"M 30.609375 48.390625 \nQ 23.390625 48.390625 19.1875 42.75 \nQ 14.984375 37.109375 14.984375 27.296875 \nQ 14.984375 17.484375 19.15625 11.84375 \nQ 23.34375 6.203125 30.609375 6.203125 \nQ 37.796875 6.203125 41.984375 11.859375 \nQ 46.1875 17.53125 46.1875 27.296875 \nQ 46.1875 37.015625 41.984375 42.703125 \nQ 37.796875 48.390625 30.609375 48.390625 \nz\nM 30.609375 56 \nQ 42.328125 56 49.015625 48.375 \nQ 55.71875 40.765625 55.71875 27.296875 \nQ 55.71875 13.875 49.015625 6.21875 \nQ 42.328125 -1.421875 30.609375 -1.421875 \nQ 18.84375 -1.421875 12.171875 6.21875 \nQ 5.515625 13.875 5.515625 27.296875 \nQ 5.515625 40.765625 12.171875 48.375 \nQ 18.84375 56 30.609375 56 \nz\n\" id=\"DejaVuSans-111\"/>\n     <path d=\"M 9.421875 75.984375 \nL 18.40625 75.984375 \nL 18.40625 0 \nL 9.421875 0 \nz\n\" id=\"DejaVuSans-108\"/>\n     <path d=\"M 9.421875 54.6875 \nL 18.40625 54.6875 \nL 18.40625 0 \nL 9.421875 0 \nz\nM 9.421875 75.984375 \nL 18.40625 75.984375 \nL 18.40625 64.59375 \nL 9.421875 64.59375 \nz\n\" id=\"DejaVuSans-105\"/>\n     <path d=\"M 54.890625 33.015625 \nL 54.890625 0 \nL 45.90625 0 \nL 45.90625 32.71875 \nQ 45.90625 40.484375 42.875 44.328125 \nQ 39.84375 48.1875 33.796875 48.1875 \nQ 26.515625 48.1875 22.3125 43.546875 \nQ 18.109375 38.921875 18.109375 30.90625 \nL 18.109375 0 \nL 9.078125 0 \nL 9.078125 54.6875 \nL 18.109375 54.6875 \nL 18.109375 46.1875 \nQ 21.34375 51.125 25.703125 53.5625 \nQ 30.078125 56 35.796875 56 \nQ 45.21875 56 50.046875 50.171875 \nQ 54.890625 44.34375 54.890625 33.015625 \nz\n\" id=\"DejaVuSans-110\"/>\n     <path d=\"M 30.609375 48.390625 \nQ 23.390625 48.390625 19.1875 42.75 \nQ 14.984375 37.109375 14.984375 27.296875 \nQ 14.984375 17.484375 19.15625 11.84375 \nQ 23.34375 6.203125 30.609375 6.203125 \nQ 37.796875 6.203125 41.984375 11.859375 \nQ 46.1875 17.53125 46.1875 27.296875 \nQ 46.1875 37.015625 41.984375 42.703125 \nQ 37.796875 48.390625 30.609375 48.390625 \nz\nM 30.609375 56 \nQ 42.328125 56 49.015625 48.375 \nQ 55.71875 40.765625 55.71875 27.296875 \nQ 55.71875 13.875 49.015625 6.21875 \nQ 42.328125 -1.421875 30.609375 -1.421875 \nQ 18.84375 -1.421875 12.171875 6.21875 \nQ 5.515625 13.875 5.515625 27.296875 \nQ 5.515625 40.765625 12.171875 48.375 \nQ 18.84375 56 30.609375 56 \nz\nM 27.015625 79.984375 \nL 34.234375 79.984375 \nL 46.203125 61.625 \nL 39.421875 61.625 \nL 30.625 73.578125 \nL 21.84375 61.625 \nL 15.046875 61.625 \nz\n\" id=\"DejaVuSans-244\"/>\n     <path d=\"M 52 44.1875 \nQ 55.375 50.25 60.0625 53.125 \nQ 64.75 56 71.09375 56 \nQ 79.640625 56 84.28125 50.015625 \nQ 88.921875 44.046875 88.921875 33.015625 \nL 88.921875 0 \nL 79.890625 0 \nL 79.890625 32.71875 \nQ 79.890625 40.578125 77.09375 44.375 \nQ 74.3125 48.1875 68.609375 48.1875 \nQ 61.625 48.1875 57.5625 43.546875 \nQ 53.515625 38.921875 53.515625 30.90625 \nL 53.515625 0 \nL 44.484375 0 \nL 44.484375 32.71875 \nQ 44.484375 40.625 41.703125 44.40625 \nQ 38.921875 48.1875 33.109375 48.1875 \nQ 26.21875 48.1875 22.15625 43.53125 \nQ 18.109375 38.875 18.109375 30.90625 \nL 18.109375 0 \nL 9.078125 0 \nL 9.078125 54.6875 \nL 18.109375 54.6875 \nL 18.109375 46.1875 \nQ 21.1875 51.21875 25.484375 53.609375 \nQ 29.78125 56 35.6875 56 \nQ 41.65625 56 45.828125 52.96875 \nQ 50 49.953125 52 44.1875 \nz\n\" id=\"DejaVuSans-109\"/>\n     <path id=\"DejaVuSans-32\"/>\n     <path d=\"M 39.40625 66.21875 \nQ 28.65625 66.21875 22.328125 58.203125 \nQ 16.015625 50.203125 16.015625 36.375 \nQ 16.015625 22.609375 22.328125 14.59375 \nQ 28.65625 6.59375 39.40625 6.59375 \nQ 50.140625 6.59375 56.421875 14.59375 \nQ 62.703125 22.609375 62.703125 36.375 \nQ 62.703125 50.203125 56.421875 58.203125 \nQ 50.140625 66.21875 39.40625 66.21875 \nz\nM 39.40625 74.21875 \nQ 54.734375 74.21875 63.90625 63.9375 \nQ 73.09375 53.65625 73.09375 36.375 \nQ 73.09375 19.140625 63.90625 8.859375 \nQ 54.734375 -1.421875 39.40625 -1.421875 \nQ 24.03125 -1.421875 14.8125 8.828125 \nQ 5.609375 19.09375 5.609375 36.375 \nQ 5.609375 53.65625 14.8125 63.9375 \nQ 24.03125 74.21875 39.40625 74.21875 \nz\n\" id=\"DejaVuSans-79\"/>\n     <path d=\"M 41.109375 46.296875 \nQ 39.59375 47.171875 37.8125 47.578125 \nQ 36.03125 48 33.890625 48 \nQ 26.265625 48 22.1875 43.046875 \nQ 18.109375 38.09375 18.109375 28.8125 \nL 18.109375 0 \nL 9.078125 0 \nL 9.078125 54.6875 \nL 18.109375 54.6875 \nL 18.109375 46.1875 \nQ 20.953125 51.171875 25.484375 53.578125 \nQ 30.03125 56 36.53125 56 \nQ 37.453125 56 38.578125 55.875 \nQ 39.703125 55.765625 41.0625 55.515625 \nz\n\" id=\"DejaVuSans-114\"/>\n     <path d=\"M 45.40625 27.984375 \nQ 45.40625 37.75 41.375 43.109375 \nQ 37.359375 48.484375 30.078125 48.484375 \nQ 22.859375 48.484375 18.828125 43.109375 \nQ 14.796875 37.75 14.796875 27.984375 \nQ 14.796875 18.265625 18.828125 12.890625 \nQ 22.859375 7.515625 30.078125 7.515625 \nQ 37.359375 7.515625 41.375 12.890625 \nQ 45.40625 18.265625 45.40625 27.984375 \nz\nM 54.390625 6.78125 \nQ 54.390625 -7.171875 48.1875 -13.984375 \nQ 42 -20.796875 29.203125 -20.796875 \nQ 24.46875 -20.796875 20.265625 -20.09375 \nQ 16.0625 -19.390625 12.109375 -17.921875 \nL 12.109375 -9.1875 \nQ 16.0625 -11.328125 19.921875 -12.34375 \nQ 23.78125 -13.375 27.78125 -13.375 \nQ 36.625 -13.375 41.015625 -8.765625 \nQ 45.40625 -4.15625 45.40625 5.171875 \nL 45.40625 9.625 \nQ 42.625 4.78125 38.28125 2.390625 \nQ 33.9375 0 27.875 0 \nQ 17.828125 0 11.671875 7.65625 \nQ 5.515625 15.328125 5.515625 27.984375 \nQ 5.515625 40.671875 11.671875 48.328125 \nQ 17.828125 56 27.875 56 \nQ 33.9375 56 38.28125 53.609375 \nQ 42.625 51.21875 45.40625 46.390625 \nL 45.40625 54.6875 \nL 54.390625 54.6875 \nz\n\" id=\"DejaVuSans-103\"/>\n     <path d=\"M 34.28125 27.484375 \nQ 23.390625 27.484375 19.1875 25 \nQ 14.984375 22.515625 14.984375 16.5 \nQ 14.984375 11.71875 18.140625 8.90625 \nQ 21.296875 6.109375 26.703125 6.109375 \nQ 34.1875 6.109375 38.703125 11.40625 \nQ 43.21875 16.703125 43.21875 25.484375 \nL 43.21875 27.484375 \nz\nM 52.203125 31.203125 \nL 52.203125 0 \nL 43.21875 0 \nL 43.21875 8.296875 \nQ 40.140625 3.328125 35.546875 0.953125 \nQ 30.953125 -1.421875 24.3125 -1.421875 \nQ 15.921875 -1.421875 10.953125 3.296875 \nQ 6 8.015625 6 15.921875 \nQ 6 25.140625 12.171875 29.828125 \nQ 18.359375 34.515625 30.609375 34.515625 \nL 43.21875 34.515625 \nL 43.21875 35.40625 \nQ 43.21875 41.609375 39.140625 45 \nQ 35.0625 48.390625 27.6875 48.390625 \nQ 23 48.390625 18.546875 47.265625 \nQ 14.109375 46.140625 10.015625 43.890625 \nL 10.015625 52.203125 \nQ 14.9375 54.109375 19.578125 55.046875 \nQ 24.21875 56 28.609375 56 \nQ 40.484375 56 46.34375 49.84375 \nQ 52.203125 43.703125 52.203125 31.203125 \nz\n\" id=\"DejaVuSans-97\"/>\n    </defs>\n    <g transform=\"translate(313.425625 16.798125)scale(0.12 -0.12)\">\n     <use xlink:href=\"#DejaVuSans-80\"/>\n     <use x=\"60.255859\" xlink:href=\"#DejaVuSans-111\"/>\n     <use x=\"121.4375\" xlink:href=\"#DejaVuSans-108\"/>\n     <use x=\"149.220703\" xlink:href=\"#DejaVuSans-105\"/>\n     <use x=\"177.003906\" xlink:href=\"#DejaVuSans-110\"/>\n     <use x=\"240.382812\" xlink:href=\"#DejaVuSans-244\"/>\n     <use x=\"301.564453\" xlink:href=\"#DejaVuSans-109\"/>\n     <use x=\"398.976562\" xlink:href=\"#DejaVuSans-105\"/>\n     <use x=\"426.759766\" xlink:href=\"#DejaVuSans-111\"/>\n     <use x=\"487.941406\" xlink:href=\"#DejaVuSans-32\"/>\n     <use x=\"519.728516\" xlink:href=\"#DejaVuSans-79\"/>\n     <use x=\"598.439453\" xlink:href=\"#DejaVuSans-114\"/>\n     <use x=\"639.552734\" xlink:href=\"#DejaVuSans-105\"/>\n     <use x=\"667.335938\" xlink:href=\"#DejaVuSans-103\"/>\n     <use x=\"730.8125\" xlink:href=\"#DejaVuSans-105\"/>\n     <use x=\"758.595703\" xlink:href=\"#DejaVuSans-110\"/>\n     <use x=\"821.974609\" xlink:href=\"#DejaVuSans-97\"/>\n     <use x=\"883.253906\" xlink:href=\"#DejaVuSans-108\"/>\n    </g>\n   </g>\n   <g id=\"legend_1\">\n    <g id=\"patch_7\">\n     <path d=\"M 691.8875 35.798125 \nL 695.8875 35.798125 \nQ 697.8875 35.798125 697.8875 33.798125 \nL 697.8875 29.798125 \nQ 697.8875 27.798125 695.8875 27.798125 \nL 691.8875 27.798125 \nQ 689.8875 27.798125 689.8875 29.798125 \nL 689.8875 33.798125 \nQ 689.8875 35.798125 691.8875 35.798125 \nz\n\" style=\"fill:#ffffff;opacity:0.8;stroke:#cccccc;stroke-linejoin:miter;\"/>\n    </g>\n   </g>\n  </g>\n </g>\n <defs>\n  <clipPath id=\"p849499d415\">\n   <rect height=\"434.88\" width=\"669.6\" x=\"33.2875\" y=\"22.798125\"/>\n  </clipPath>\n </defs>\n</svg>\n",
      "image/png": "[encoded data removed]"
     },
     "metadata": {
      "needs_background": "light"
     }
    }
   ],
   "metadata": {}
  },
  {
   "cell_type": "code",
   "execution_count": 83,
   "source": [
    "# Se chamarmos a função mais de uma vez podemos\n",
    "# sobrepor mais de um polinômio sobre o mesmo gráfico.\n",
    "plot(x[:-1], y[:-1], x_hat=[226.8], label='Polinômio de grau 4', marcar_amostras=False, cor='#0000dd')\n",
    "plot(x[:-2], y[:-2], x_hat=[226.8], label='Polinômio de grau 3', marcar_amostras=False, cor='#dd0000')\n",
    "plot(x,      y,      x_hat=[226.8], label='Polinômio de grau 5', mostrar_valor_amostras=False)"
   ],
   "outputs": [
    {
     "output_type": "display_data",
     "data": {
      "text/plain": [
       "<Figure size 864x576 with 1 Axes>"
      ],
      "image/svg+xml": "<?xml version=\"1.0\" encoding=\"utf-8\" standalone=\"no\"?>\n<!DOCTYPE svg PUBLIC \"-//W3C//DTD SVG 1.1//EN\"\n  \"http://www.w3.org/Graphics/SVG/1.1/DTD/svg11.dtd\">\n<!-- Created with matplotlib (https://matplotlib.org/) -->\n<svg height=\"476.556563pt\" version=\"1.1\" viewBox=\"0 0 706.903125 476.556563\" width=\"706.903125pt\" xmlns=\"http://www.w3.org/2000/svg\" xmlns:xlink=\"http://www.w3.org/1999/xlink\">\n <defs>\n  <style type=\"text/css\">\n*{stroke-linecap:butt;stroke-linejoin:round;}\n  </style>\n </defs>\n <g id=\"figure_1\">\n  <g id=\"patch_1\">\n   <path d=\"M 0 476.556563 \nL 706.903125 476.556563 \nL 706.903125 0 \nL 0 0 \nz\n\" style=\"fill:none;\"/>\n  </g>\n  <g id=\"axes_1\">\n   <g id=\"patch_2\">\n    <path d=\"M 30.103125 452.678438 \nL 699.703125 452.678438 \nL 699.703125 17.798438 \nL 30.103125 17.798438 \nz\n\" style=\"fill:#ffffff;\"/>\n   </g>\n   <g id=\"PathCollection_1\">\n    <defs>\n     <path d=\"M 0 3 \nC 0.795609 3 1.55874 2.683901 2.12132 2.12132 \nC 2.683901 1.55874 3 0.795609 3 0 \nC 3 -0.795609 2.683901 -1.55874 2.12132 -2.12132 \nC 1.55874 -2.683901 0.795609 -3 0 -3 \nC -0.795609 -3 -1.55874 -2.683901 -2.12132 -2.12132 \nC -2.683901 -1.55874 -3 -0.795609 -3 0 \nC -3 0.795609 -2.683901 1.55874 -2.12132 2.12132 \nC -1.55874 2.683901 -0.795609 3 0 3 \nz\n\" id=\"m8e927c3d43\" style=\"stroke:#0000dd;\"/>\n    </defs>\n    <g clip-path=\"url(#p6559a53a3a)\">\n     <use style=\"fill:#0000dd;stroke:#0000dd;\" x=\"666.266906\" xlink:href=\"#m8e927c3d43\" y=\"432.911165\"/>\n    </g>\n   </g>\n   <g id=\"PathCollection_2\">\n    <defs>\n     <path d=\"M 0 3 \nC 0.795609 3 1.55874 2.683901 2.12132 2.12132 \nC 2.683901 1.55874 3 0.795609 3 0 \nC 3 -0.795609 2.683901 -1.55874 2.12132 -2.12132 \nC 1.55874 -2.683901 0.795609 -3 0 -3 \nC -0.795609 -3 -1.55874 -2.683901 -2.12132 -2.12132 \nC -2.683901 -1.55874 -3 -0.795609 -3 0 \nC -3 0.795609 -2.683901 1.55874 -2.12132 2.12132 \nC -1.55874 2.683901 -0.795609 3 0 3 \nz\n\" id=\"m1ed812d850\" style=\"stroke:#dd0000;\"/>\n    </defs>\n    <g clip-path=\"url(#p6559a53a3a)\">\n     <use style=\"fill:#dd0000;stroke:#dd0000;\" x=\"666.266906\" xlink:href=\"#m1ed812d850\" y=\"420.446694\"/>\n    </g>\n   </g>\n   <g id=\"PathCollection_3\">\n    <defs>\n     <path d=\"M 0 3 \nC 0.795609 3 1.55874 2.683901 2.12132 2.12132 \nC 2.683901 1.55874 3 0.795609 3 0 \nC 3 -0.795609 2.683901 -1.55874 2.12132 -2.12132 \nC 1.55874 -2.683901 0.795609 -3 0 -3 \nC -0.795609 -3 -1.55874 -2.683901 -2.12132 -2.12132 \nC -2.683901 -1.55874 -3 -0.795609 -3 0 \nC -3 0.795609 -2.683901 1.55874 -2.12132 2.12132 \nC -1.55874 2.683901 -0.795609 3 0 3 \nz\n\" id=\"me1d31f7321\" style=\"stroke:#00dd00;\"/>\n    </defs>\n    <g clip-path=\"url(#p6559a53a3a)\">\n     <use style=\"fill:#00dd00;stroke:#00dd00;\" x=\"63.524633\" xlink:href=\"#me1d31f7321\" y=\"420.717907\"/>\n     <use style=\"fill:#00dd00;stroke:#00dd00;\" x=\"68.83982\" xlink:href=\"#me1d31f7321\" y=\"420.717906\"/>\n     <use style=\"fill:#00dd00;stroke:#00dd00;\" x=\"74.155008\" xlink:href=\"#me1d31f7321\" y=\"420.717903\"/>\n     <use style=\"fill:#00dd00;stroke:#00dd00;\" x=\"79.470195\" xlink:href=\"#me1d31f7321\" y=\"420.717896\"/>\n     <use style=\"fill:#00dd00;stroke:#00dd00;\" x=\"84.785383\" xlink:href=\"#me1d31f7321\" y=\"420.717886\"/>\n     <use style=\"fill:#00dd00;stroke:#00dd00;\" x=\"90.100571\" xlink:href=\"#me1d31f7321\" y=\"420.717874\"/>\n    </g>\n   </g>\n   <g id=\"PathCollection_4\">\n    <g clip-path=\"url(#p6559a53a3a)\">\n     <use style=\"fill:#00dd00;stroke:#00dd00;\" x=\"666.266906\" xlink:href=\"#me1d31f7321\" y=\"37.660996\"/>\n    </g>\n   </g>\n   <g id=\"matplotlib.axis_1\">\n    <g id=\"xtick_1\">\n     <g id=\"line2d_1\">\n      <path clip-path=\"url(#p6559a53a3a)\" d=\"M 63.524633 452.678438 \nL 63.524633 17.798438 \n\" style=\"fill:none;stroke:#b0b0b0;stroke-linecap:square;stroke-width:0.8;\"/>\n     </g>\n     <g id=\"line2d_2\">\n      <defs>\n       <path d=\"M 0 0 \nL 0 3.5 \n\" id=\"m3d2fde809d\" style=\"stroke:#000000;stroke-width:0.8;\"/>\n      </defs>\n      <g>\n       <use style=\"stroke:#000000;stroke-width:0.8;\" x=\"63.524633\" xlink:href=\"#m3d2fde809d\" y=\"452.678438\"/>\n      </g>\n     </g>\n     <g id=\"text_1\">\n      <!-- 0 -->\n      <defs>\n       <path d=\"M 31.78125 66.40625 \nQ 24.171875 66.40625 20.328125 58.90625 \nQ 16.5 51.421875 16.5 36.375 \nQ 16.5 21.390625 20.328125 13.890625 \nQ 24.171875 6.390625 31.78125 6.390625 \nQ 39.453125 6.390625 43.28125 13.890625 \nQ 47.125 21.390625 47.125 36.375 \nQ 47.125 51.421875 43.28125 58.90625 \nQ 39.453125 66.40625 31.78125 66.40625 \nz\nM 31.78125 74.21875 \nQ 44.046875 74.21875 50.515625 64.515625 \nQ 56.984375 54.828125 56.984375 36.375 \nQ 56.984375 17.96875 50.515625 8.265625 \nQ 44.046875 -1.421875 31.78125 -1.421875 \nQ 19.53125 -1.421875 13.0625 8.265625 \nQ 6.59375 17.96875 6.59375 36.375 \nQ 6.59375 54.828125 13.0625 64.515625 \nQ 19.53125 74.21875 31.78125 74.21875 \nz\n\" id=\"DejaVuSans-48\"/>\n      </defs>\n      <g transform=\"translate(60.343383 467.276875)scale(0.1 -0.1)\">\n       <use xlink:href=\"#DejaVuSans-48\"/>\n      </g>\n     </g>\n    </g>\n    <g id=\"xtick_2\">\n     <g id=\"line2d_3\">\n      <path clip-path=\"url(#p6559a53a3a)\" d=\"M 196.404322 452.678438 \nL 196.404322 17.798438 \n\" style=\"fill:none;stroke:#b0b0b0;stroke-linecap:square;stroke-width:0.8;\"/>\n     </g>\n     <g id=\"line2d_4\">\n      <g>\n       <use style=\"stroke:#000000;stroke-width:0.8;\" x=\"196.404322\" xlink:href=\"#m3d2fde809d\" y=\"452.678438\"/>\n      </g>\n     </g>\n     <g id=\"text_2\">\n      <!-- 50 -->\n      <defs>\n       <path d=\"M 10.796875 72.90625 \nL 49.515625 72.90625 \nL 49.515625 64.59375 \nL 19.828125 64.59375 \nL 19.828125 46.734375 \nQ 21.96875 47.46875 24.109375 47.828125 \nQ 26.265625 48.1875 28.421875 48.1875 \nQ 40.625 48.1875 47.75 41.5 \nQ 54.890625 34.8125 54.890625 23.390625 \nQ 54.890625 11.625 47.5625 5.09375 \nQ 40.234375 -1.421875 26.90625 -1.421875 \nQ 22.3125 -1.421875 17.546875 -0.640625 \nQ 12.796875 0.140625 7.71875 1.703125 \nL 7.71875 11.625 \nQ 12.109375 9.234375 16.796875 8.0625 \nQ 21.484375 6.890625 26.703125 6.890625 \nQ 35.15625 6.890625 40.078125 11.328125 \nQ 45.015625 15.765625 45.015625 23.390625 \nQ 45.015625 31 40.078125 35.4375 \nQ 35.15625 39.890625 26.703125 39.890625 \nQ 22.75 39.890625 18.8125 39.015625 \nQ 14.890625 38.140625 10.796875 36.28125 \nz\n\" id=\"DejaVuSans-53\"/>\n      </defs>\n      <g transform=\"translate(190.041822 467.276875)scale(0.1 -0.1)\">\n       <use xlink:href=\"#DejaVuSans-53\"/>\n       <use x=\"63.623047\" xlink:href=\"#DejaVuSans-48\"/>\n      </g>\n     </g>\n    </g>\n    <g id=\"xtick_3\">\n     <g id=\"line2d_5\">\n      <path clip-path=\"url(#p6559a53a3a)\" d=\"M 329.284012 452.678438 \nL 329.284012 17.798438 \n\" style=\"fill:none;stroke:#b0b0b0;stroke-linecap:square;stroke-width:0.8;\"/>\n     </g>\n     <g id=\"line2d_6\">\n      <g>\n       <use style=\"stroke:#000000;stroke-width:0.8;\" x=\"329.284012\" xlink:href=\"#m3d2fde809d\" y=\"452.678438\"/>\n      </g>\n     </g>\n     <g id=\"text_3\">\n      <!-- 100 -->\n      <defs>\n       <path d=\"M 12.40625 8.296875 \nL 28.515625 8.296875 \nL 28.515625 63.921875 \nL 10.984375 60.40625 \nL 10.984375 69.390625 \nL 28.421875 72.90625 \nL 38.28125 72.90625 \nL 38.28125 8.296875 \nL 54.390625 8.296875 \nL 54.390625 0 \nL 12.40625 0 \nz\n\" id=\"DejaVuSans-49\"/>\n      </defs>\n      <g transform=\"translate(319.740262 467.276875)scale(0.1 -0.1)\">\n       <use xlink:href=\"#DejaVuSans-49\"/>\n       <use x=\"63.623047\" xlink:href=\"#DejaVuSans-48\"/>\n       <use x=\"127.246094\" xlink:href=\"#DejaVuSans-48\"/>\n      </g>\n     </g>\n    </g>\n    <g id=\"xtick_4\">\n     <g id=\"line2d_7\">\n      <path clip-path=\"url(#p6559a53a3a)\" d=\"M 462.163702 452.678438 \nL 462.163702 17.798438 \n\" style=\"fill:none;stroke:#b0b0b0;stroke-linecap:square;stroke-width:0.8;\"/>\n     </g>\n     <g id=\"line2d_8\">\n      <g>\n       <use style=\"stroke:#000000;stroke-width:0.8;\" x=\"462.163702\" xlink:href=\"#m3d2fde809d\" y=\"452.678438\"/>\n      </g>\n     </g>\n     <g id=\"text_4\">\n      <!-- 150 -->\n      <g transform=\"translate(452.619952 467.276875)scale(0.1 -0.1)\">\n       <use xlink:href=\"#DejaVuSans-49\"/>\n       <use x=\"63.623047\" xlink:href=\"#DejaVuSans-53\"/>\n       <use x=\"127.246094\" xlink:href=\"#DejaVuSans-48\"/>\n      </g>\n     </g>\n    </g>\n    <g id=\"xtick_5\">\n     <g id=\"line2d_9\">\n      <path clip-path=\"url(#p6559a53a3a)\" d=\"M 595.043392 452.678438 \nL 595.043392 17.798438 \n\" style=\"fill:none;stroke:#b0b0b0;stroke-linecap:square;stroke-width:0.8;\"/>\n     </g>\n     <g id=\"line2d_10\">\n      <g>\n       <use style=\"stroke:#000000;stroke-width:0.8;\" x=\"595.043392\" xlink:href=\"#m3d2fde809d\" y=\"452.678438\"/>\n      </g>\n     </g>\n     <g id=\"text_5\">\n      <!-- 200 -->\n      <defs>\n       <path d=\"M 19.1875 8.296875 \nL 53.609375 8.296875 \nL 53.609375 0 \nL 7.328125 0 \nL 7.328125 8.296875 \nQ 12.9375 14.109375 22.625 23.890625 \nQ 32.328125 33.6875 34.8125 36.53125 \nQ 39.546875 41.84375 41.421875 45.53125 \nQ 43.3125 49.21875 43.3125 52.78125 \nQ 43.3125 58.59375 39.234375 62.25 \nQ 35.15625 65.921875 28.609375 65.921875 \nQ 23.96875 65.921875 18.8125 64.3125 \nQ 13.671875 62.703125 7.8125 59.421875 \nL 7.8125 69.390625 \nQ 13.765625 71.78125 18.9375 73 \nQ 24.125 74.21875 28.421875 74.21875 \nQ 39.75 74.21875 46.484375 68.546875 \nQ 53.21875 62.890625 53.21875 53.421875 \nQ 53.21875 48.921875 51.53125 44.890625 \nQ 49.859375 40.875 45.40625 35.40625 \nQ 44.1875 33.984375 37.640625 27.21875 \nQ 31.109375 20.453125 19.1875 8.296875 \nz\n\" id=\"DejaVuSans-50\"/>\n      </defs>\n      <g transform=\"translate(585.499642 467.276875)scale(0.1 -0.1)\">\n       <use xlink:href=\"#DejaVuSans-50\"/>\n       <use x=\"63.623047\" xlink:href=\"#DejaVuSans-48\"/>\n       <use x=\"127.246094\" xlink:href=\"#DejaVuSans-48\"/>\n      </g>\n     </g>\n    </g>\n   </g>\n   <g id=\"matplotlib.axis_2\">\n    <g id=\"ytick_1\">\n     <g id=\"line2d_11\">\n      <path clip-path=\"url(#p6559a53a3a)\" d=\"M 30.103125 420.717907 \nL 699.703125 420.717907 \n\" style=\"fill:none;stroke:#b0b0b0;stroke-linecap:square;stroke-width:0.8;\"/>\n     </g>\n     <g id=\"line2d_12\">\n      <defs>\n       <path d=\"M 0 0 \nL -3.5 0 \n\" id=\"m3d4540c455\" style=\"stroke:#000000;stroke-width:0.8;\"/>\n      </defs>\n      <g>\n       <use style=\"stroke:#000000;stroke-width:0.8;\" x=\"30.103125\" xlink:href=\"#m3d4540c455\" y=\"420.717907\"/>\n      </g>\n     </g>\n     <g id=\"text_6\">\n      <!-- 0.0 -->\n      <defs>\n       <path d=\"M 10.6875 12.40625 \nL 21 12.40625 \nL 21 0 \nL 10.6875 0 \nz\n\" id=\"DejaVuSans-46\"/>\n      </defs>\n      <g transform=\"translate(7.2 424.517126)scale(0.1 -0.1)\">\n       <use xlink:href=\"#DejaVuSans-48\"/>\n       <use x=\"63.623047\" xlink:href=\"#DejaVuSans-46\"/>\n       <use x=\"95.410156\" xlink:href=\"#DejaVuSans-48\"/>\n      </g>\n     </g>\n    </g>\n    <g id=\"ytick_2\">\n     <g id=\"line2d_13\">\n      <path clip-path=\"url(#p6559a53a3a)\" d=\"M 30.103125 365.404252 \nL 699.703125 365.404252 \n\" style=\"fill:none;stroke:#b0b0b0;stroke-linecap:square;stroke-width:0.8;\"/>\n     </g>\n     <g id=\"line2d_14\">\n      <g>\n       <use style=\"stroke:#000000;stroke-width:0.8;\" x=\"30.103125\" xlink:href=\"#m3d4540c455\" y=\"365.404252\"/>\n      </g>\n     </g>\n     <g id=\"text_7\">\n      <!-- 0.2 -->\n      <g transform=\"translate(7.2 369.203471)scale(0.1 -0.1)\">\n       <use xlink:href=\"#DejaVuSans-48\"/>\n       <use x=\"63.623047\" xlink:href=\"#DejaVuSans-46\"/>\n       <use x=\"95.410156\" xlink:href=\"#DejaVuSans-50\"/>\n      </g>\n     </g>\n    </g>\n    <g id=\"ytick_3\">\n     <g id=\"line2d_15\">\n      <path clip-path=\"url(#p6559a53a3a)\" d=\"M 30.103125 310.090598 \nL 699.703125 310.090598 \n\" style=\"fill:none;stroke:#b0b0b0;stroke-linecap:square;stroke-width:0.8;\"/>\n     </g>\n     <g id=\"line2d_16\">\n      <g>\n       <use style=\"stroke:#000000;stroke-width:0.8;\" x=\"30.103125\" xlink:href=\"#m3d4540c455\" y=\"310.090598\"/>\n      </g>\n     </g>\n     <g id=\"text_8\">\n      <!-- 0.4 -->\n      <defs>\n       <path d=\"M 37.796875 64.3125 \nL 12.890625 25.390625 \nL 37.796875 25.390625 \nz\nM 35.203125 72.90625 \nL 47.609375 72.90625 \nL 47.609375 25.390625 \nL 58.015625 25.390625 \nL 58.015625 17.1875 \nL 47.609375 17.1875 \nL 47.609375 0 \nL 37.796875 0 \nL 37.796875 17.1875 \nL 4.890625 17.1875 \nL 4.890625 26.703125 \nz\n\" id=\"DejaVuSans-52\"/>\n      </defs>\n      <g transform=\"translate(7.2 313.889817)scale(0.1 -0.1)\">\n       <use xlink:href=\"#DejaVuSans-48\"/>\n       <use x=\"63.623047\" xlink:href=\"#DejaVuSans-46\"/>\n       <use x=\"95.410156\" xlink:href=\"#DejaVuSans-52\"/>\n      </g>\n     </g>\n    </g>\n    <g id=\"ytick_4\">\n     <g id=\"line2d_17\">\n      <path clip-path=\"url(#p6559a53a3a)\" d=\"M 30.103125 254.776943 \nL 699.703125 254.776943 \n\" style=\"fill:none;stroke:#b0b0b0;stroke-linecap:square;stroke-width:0.8;\"/>\n     </g>\n     <g id=\"line2d_18\">\n      <g>\n       <use style=\"stroke:#000000;stroke-width:0.8;\" x=\"30.103125\" xlink:href=\"#m3d4540c455\" y=\"254.776943\"/>\n      </g>\n     </g>\n     <g id=\"text_9\">\n      <!-- 0.6 -->\n      <defs>\n       <path d=\"M 33.015625 40.375 \nQ 26.375 40.375 22.484375 35.828125 \nQ 18.609375 31.296875 18.609375 23.390625 \nQ 18.609375 15.53125 22.484375 10.953125 \nQ 26.375 6.390625 33.015625 6.390625 \nQ 39.65625 6.390625 43.53125 10.953125 \nQ 47.40625 15.53125 47.40625 23.390625 \nQ 47.40625 31.296875 43.53125 35.828125 \nQ 39.65625 40.375 33.015625 40.375 \nz\nM 52.59375 71.296875 \nL 52.59375 62.3125 \nQ 48.875 64.0625 45.09375 64.984375 \nQ 41.3125 65.921875 37.59375 65.921875 \nQ 27.828125 65.921875 22.671875 59.328125 \nQ 17.53125 52.734375 16.796875 39.40625 \nQ 19.671875 43.65625 24.015625 45.921875 \nQ 28.375 48.1875 33.59375 48.1875 \nQ 44.578125 48.1875 50.953125 41.515625 \nQ 57.328125 34.859375 57.328125 23.390625 \nQ 57.328125 12.15625 50.6875 5.359375 \nQ 44.046875 -1.421875 33.015625 -1.421875 \nQ 20.359375 -1.421875 13.671875 8.265625 \nQ 6.984375 17.96875 6.984375 36.375 \nQ 6.984375 53.65625 15.1875 63.9375 \nQ 23.390625 74.21875 37.203125 74.21875 \nQ 40.921875 74.21875 44.703125 73.484375 \nQ 48.484375 72.75 52.59375 71.296875 \nz\n\" id=\"DejaVuSans-54\"/>\n      </defs>\n      <g transform=\"translate(7.2 258.576162)scale(0.1 -0.1)\">\n       <use xlink:href=\"#DejaVuSans-48\"/>\n       <use x=\"63.623047\" xlink:href=\"#DejaVuSans-46\"/>\n       <use x=\"95.410156\" xlink:href=\"#DejaVuSans-54\"/>\n      </g>\n     </g>\n    </g>\n    <g id=\"ytick_5\">\n     <g id=\"line2d_19\">\n      <path clip-path=\"url(#p6559a53a3a)\" d=\"M 30.103125 199.463289 \nL 699.703125 199.463289 \n\" style=\"fill:none;stroke:#b0b0b0;stroke-linecap:square;stroke-width:0.8;\"/>\n     </g>\n     <g id=\"line2d_20\">\n      <g>\n       <use style=\"stroke:#000000;stroke-width:0.8;\" x=\"30.103125\" xlink:href=\"#m3d4540c455\" y=\"199.463289\"/>\n      </g>\n     </g>\n     <g id=\"text_10\">\n      <!-- 0.8 -->\n      <defs>\n       <path d=\"M 31.78125 34.625 \nQ 24.75 34.625 20.71875 30.859375 \nQ 16.703125 27.09375 16.703125 20.515625 \nQ 16.703125 13.921875 20.71875 10.15625 \nQ 24.75 6.390625 31.78125 6.390625 \nQ 38.8125 6.390625 42.859375 10.171875 \nQ 46.921875 13.96875 46.921875 20.515625 \nQ 46.921875 27.09375 42.890625 30.859375 \nQ 38.875 34.625 31.78125 34.625 \nz\nM 21.921875 38.8125 \nQ 15.578125 40.375 12.03125 44.71875 \nQ 8.5 49.078125 8.5 55.328125 \nQ 8.5 64.0625 14.71875 69.140625 \nQ 20.953125 74.21875 31.78125 74.21875 \nQ 42.671875 74.21875 48.875 69.140625 \nQ 55.078125 64.0625 55.078125 55.328125 \nQ 55.078125 49.078125 51.53125 44.71875 \nQ 48 40.375 41.703125 38.8125 \nQ 48.828125 37.15625 52.796875 32.3125 \nQ 56.78125 27.484375 56.78125 20.515625 \nQ 56.78125 9.90625 50.3125 4.234375 \nQ 43.84375 -1.421875 31.78125 -1.421875 \nQ 19.734375 -1.421875 13.25 4.234375 \nQ 6.78125 9.90625 6.78125 20.515625 \nQ 6.78125 27.484375 10.78125 32.3125 \nQ 14.796875 37.15625 21.921875 38.8125 \nz\nM 18.3125 54.390625 \nQ 18.3125 48.734375 21.84375 45.5625 \nQ 25.390625 42.390625 31.78125 42.390625 \nQ 38.140625 42.390625 41.71875 45.5625 \nQ 45.3125 48.734375 45.3125 54.390625 \nQ 45.3125 60.0625 41.71875 63.234375 \nQ 38.140625 66.40625 31.78125 66.40625 \nQ 25.390625 66.40625 21.84375 63.234375 \nQ 18.3125 60.0625 18.3125 54.390625 \nz\n\" id=\"DejaVuSans-56\"/>\n      </defs>\n      <g transform=\"translate(7.2 203.262507)scale(0.1 -0.1)\">\n       <use xlink:href=\"#DejaVuSans-48\"/>\n       <use x=\"63.623047\" xlink:href=\"#DejaVuSans-46\"/>\n       <use x=\"95.410156\" xlink:href=\"#DejaVuSans-56\"/>\n      </g>\n     </g>\n    </g>\n    <g id=\"ytick_6\">\n     <g id=\"line2d_21\">\n      <path clip-path=\"url(#p6559a53a3a)\" d=\"M 30.103125 144.149634 \nL 699.703125 144.149634 \n\" style=\"fill:none;stroke:#b0b0b0;stroke-linecap:square;stroke-width:0.8;\"/>\n     </g>\n     <g id=\"line2d_22\">\n      <g>\n       <use style=\"stroke:#000000;stroke-width:0.8;\" x=\"30.103125\" xlink:href=\"#m3d4540c455\" y=\"144.149634\"/>\n      </g>\n     </g>\n     <g id=\"text_11\">\n      <!-- 1.0 -->\n      <g transform=\"translate(7.2 147.948853)scale(0.1 -0.1)\">\n       <use xlink:href=\"#DejaVuSans-49\"/>\n       <use x=\"63.623047\" xlink:href=\"#DejaVuSans-46\"/>\n       <use x=\"95.410156\" xlink:href=\"#DejaVuSans-48\"/>\n      </g>\n     </g>\n    </g>\n    <g id=\"ytick_7\">\n     <g id=\"line2d_23\">\n      <path clip-path=\"url(#p6559a53a3a)\" d=\"M 30.103125 88.83598 \nL 699.703125 88.83598 \n\" style=\"fill:none;stroke:#b0b0b0;stroke-linecap:square;stroke-width:0.8;\"/>\n     </g>\n     <g id=\"line2d_24\">\n      <g>\n       <use style=\"stroke:#000000;stroke-width:0.8;\" x=\"30.103125\" xlink:href=\"#m3d4540c455\" y=\"88.83598\"/>\n      </g>\n     </g>\n     <g id=\"text_12\">\n      <!-- 1.2 -->\n      <g transform=\"translate(7.2 92.635198)scale(0.1 -0.1)\">\n       <use xlink:href=\"#DejaVuSans-49\"/>\n       <use x=\"63.623047\" xlink:href=\"#DejaVuSans-46\"/>\n       <use x=\"95.410156\" xlink:href=\"#DejaVuSans-50\"/>\n      </g>\n     </g>\n    </g>\n    <g id=\"ytick_8\">\n     <g id=\"line2d_25\">\n      <path clip-path=\"url(#p6559a53a3a)\" d=\"M 30.103125 33.522325 \nL 699.703125 33.522325 \n\" style=\"fill:none;stroke:#b0b0b0;stroke-linecap:square;stroke-width:0.8;\"/>\n     </g>\n     <g id=\"line2d_26\">\n      <g>\n       <use style=\"stroke:#000000;stroke-width:0.8;\" x=\"30.103125\" xlink:href=\"#m3d4540c455\" y=\"33.522325\"/>\n      </g>\n     </g>\n     <g id=\"text_13\">\n      <!-- 1.4 -->\n      <g transform=\"translate(7.2 37.321544)scale(0.1 -0.1)\">\n       <use xlink:href=\"#DejaVuSans-49\"/>\n       <use x=\"63.623047\" xlink:href=\"#DejaVuSans-46\"/>\n       <use x=\"95.410156\" xlink:href=\"#DejaVuSans-52\"/>\n      </g>\n     </g>\n    </g>\n    <g id=\"text_14\">\n     <!-- 1e9 -->\n     <defs>\n      <path d=\"M 56.203125 29.59375 \nL 56.203125 25.203125 \nL 14.890625 25.203125 \nQ 15.484375 15.921875 20.484375 11.0625 \nQ 25.484375 6.203125 34.421875 6.203125 \nQ 39.59375 6.203125 44.453125 7.46875 \nQ 49.3125 8.734375 54.109375 11.28125 \nL 54.109375 2.78125 \nQ 49.265625 0.734375 44.1875 -0.34375 \nQ 39.109375 -1.421875 33.890625 -1.421875 \nQ 20.796875 -1.421875 13.15625 6.1875 \nQ 5.515625 13.8125 5.515625 26.8125 \nQ 5.515625 40.234375 12.765625 48.109375 \nQ 20.015625 56 32.328125 56 \nQ 43.359375 56 49.78125 48.890625 \nQ 56.203125 41.796875 56.203125 29.59375 \nz\nM 47.21875 32.234375 \nQ 47.125 39.59375 43.09375 43.984375 \nQ 39.0625 48.390625 32.421875 48.390625 \nQ 24.90625 48.390625 20.390625 44.140625 \nQ 15.875 39.890625 15.1875 32.171875 \nz\n\" id=\"DejaVuSans-101\"/>\n      <path d=\"M 10.984375 1.515625 \nL 10.984375 10.5 \nQ 14.703125 8.734375 18.5 7.8125 \nQ 22.3125 6.890625 25.984375 6.890625 \nQ 35.75 6.890625 40.890625 13.453125 \nQ 46.046875 20.015625 46.78125 33.40625 \nQ 43.953125 29.203125 39.59375 26.953125 \nQ 35.25 24.703125 29.984375 24.703125 \nQ 19.046875 24.703125 12.671875 31.3125 \nQ 6.296875 37.9375 6.296875 49.421875 \nQ 6.296875 60.640625 12.9375 67.421875 \nQ 19.578125 74.21875 30.609375 74.21875 \nQ 43.265625 74.21875 49.921875 64.515625 \nQ 56.59375 54.828125 56.59375 36.375 \nQ 56.59375 19.140625 48.40625 8.859375 \nQ 40.234375 -1.421875 26.421875 -1.421875 \nQ 22.703125 -1.421875 18.890625 -0.6875 \nQ 15.09375 0.046875 10.984375 1.515625 \nz\nM 30.609375 32.421875 \nQ 37.25 32.421875 41.125 36.953125 \nQ 45.015625 41.5 45.015625 49.421875 \nQ 45.015625 57.28125 41.125 61.84375 \nQ 37.25 66.40625 30.609375 66.40625 \nQ 23.96875 66.40625 20.09375 61.84375 \nQ 16.21875 57.28125 16.21875 49.421875 \nQ 16.21875 41.5 20.09375 36.953125 \nQ 23.96875 32.421875 30.609375 32.421875 \nz\n\" id=\"DejaVuSans-57\"/>\n     </defs>\n     <g transform=\"translate(30.103125 14.798438)scale(0.1 -0.1)\">\n      <use xlink:href=\"#DejaVuSans-49\"/>\n      <use x=\"63.623047\" xlink:href=\"#DejaVuSans-101\"/>\n      <use x=\"125.146484\" xlink:href=\"#DejaVuSans-57\"/>\n     </g>\n    </g>\n   </g>\n   <g id=\"line2d_27\">\n    <path clip-path=\"url(#p6559a53a3a)\" d=\"M 63.524633 420.717907 \nL 75.825495 420.717901 \nL 88.126358 420.71788 \nL 100.427221 420.717877 \nL 112.728083 420.717981 \nL 125.028946 420.718333 \nL 137.329809 420.719132 \nL 149.630672 420.720629 \nL 161.931534 420.723132 \nL 174.232397 420.727002 \nL 186.53326 420.732656 \nL 198.834122 420.740565 \nL 211.134985 420.751255 \nL 223.435848 420.765306 \nL 235.736711 420.783355 \nL 248.037573 420.80609 \nL 260.338436 420.834258 \nL 272.639299 420.868657 \nL 284.940161 420.910143 \nL 297.241024 420.959623 \nL 309.541887 421.018063 \nL 321.84275 421.086481 \nL 334.143612 421.16595 \nL 346.444475 421.257598 \nL 358.745338 421.362608 \nL 371.0462 421.482217 \nL 383.347063 421.617719 \nL 395.647926 421.770459 \nL 407.948789 421.94184 \nL 420.249651 422.133319 \nL 432.550514 422.346406 \nL 444.851377 422.582668 \nL 457.15224 422.843726 \nL 469.453102 423.131254 \nL 481.753965 423.446984 \nL 494.054828 423.7927 \nL 506.35569 424.170242 \nL 518.656553 424.581504 \nL 530.957416 425.028436 \nL 543.258279 425.513042 \nL 555.559141 426.03738 \nL 567.860004 426.603564 \nL 580.160867 427.213762 \nL 592.461729 427.870197 \nL 604.762592 428.575147 \nL 617.063455 429.330943 \nL 629.364318 430.139974 \nL 641.66518 431.004681 \nL 653.966043 431.927561 \nL 666.266906 432.911165 \n\" style=\"fill:none;stroke:#0000dd;stroke-linecap:square;stroke-width:1.5;\"/>\n   </g>\n   <g id=\"line2d_28\">\n    <path clip-path=\"url(#p6559a53a3a)\" d=\"M 63.524633 420.717907 \nL 75.825495 420.717901 \nL 88.126358 420.717874 \nL 100.427221 420.717813 \nL 112.728083 420.717705 \nL 125.028946 420.717535 \nL 137.329809 420.717291 \nL 149.630672 420.716959 \nL 161.931534 420.716526 \nL 174.232397 420.715978 \nL 186.53326 420.715303 \nL 198.834122 420.714486 \nL 211.134985 420.713515 \nL 223.435848 420.712376 \nL 235.736711 420.711055 \nL 248.037573 420.70954 \nL 260.338436 420.707816 \nL 272.639299 420.705871 \nL 284.940161 420.703691 \nL 297.241024 420.701263 \nL 309.541887 420.698574 \nL 321.84275 420.695609 \nL 334.143612 420.692356 \nL 346.444475 420.688802 \nL 358.745338 420.684932 \nL 371.0462 420.680734 \nL 383.347063 420.676195 \nL 395.647926 420.6713 \nL 407.948789 420.666036 \nL 420.249651 420.660391 \nL 432.550514 420.65435 \nL 444.851377 420.647901 \nL 457.15224 420.641029 \nL 469.453102 420.633723 \nL 481.753965 420.625967 \nL 494.054828 420.61775 \nL 506.35569 420.609057 \nL 518.656553 420.599875 \nL 530.957416 420.590191 \nL 543.258279 420.579991 \nL 555.559141 420.569262 \nL 567.860004 420.557991 \nL 580.160867 420.546164 \nL 592.461729 420.533769 \nL 604.762592 420.52079 \nL 617.063455 420.507216 \nL 629.364318 420.493033 \nL 641.66518 420.478227 \nL 653.966043 420.462785 \nL 666.266906 420.446694 \n\" style=\"fill:none;stroke:#dd0000;stroke-linecap:square;stroke-width:1.5;\"/>\n   </g>\n   <g id=\"line2d_29\">\n    <path clip-path=\"url(#p6559a53a3a)\" d=\"M 63.524633 420.717907 \nL 75.825495 420.717901 \nL 88.126358 420.717879 \nL 100.427221 420.717823 \nL 112.728083 420.71756 \nL 125.028946 420.716582 \nL 137.329809 420.713857 \nL 149.630672 420.707651 \nL 161.931534 420.695341 \nL 174.232397 420.67323 \nL 186.53326 420.63637 \nL 198.834122 420.57837 \nL 211.134985 420.491217 \nL 223.435848 420.365095 \nL 235.736711 420.188193 \nL 248.037573 419.94653 \nL 260.338436 419.623768 \nL 272.639299 419.201027 \nL 284.940161 418.656703 \nL 297.241024 417.966284 \nL 309.541887 417.102167 \nL 321.84275 416.033473 \nL 334.143612 414.725867 \nL 346.444475 413.141367 \nL 358.745338 411.238169 \nL 371.0462 408.970459 \nL 383.347063 406.288228 \nL 395.647926 403.137091 \nL 407.948789 399.458103 \nL 420.249651 395.187577 \nL 432.550514 390.256893 \nL 444.851377 384.592327 \nL 457.15224 378.114854 \nL 469.453102 370.739973 \nL 481.753965 362.377523 \nL 494.054828 352.931494 \nL 506.35569 342.29985 \nL 518.656553 330.374338 \nL 530.957416 317.040314 \nL 543.258279 302.176549 \nL 555.559141 285.655054 \nL 567.860004 267.34089 \nL 580.160867 247.09199 \nL 592.461729 224.758969 \nL 604.762592 200.184948 \nL 617.063455 173.205363 \nL 629.364318 143.647787 \nL 641.66518 111.331743 \nL 653.966043 76.068521 \nL 666.266906 37.660996 \n\" style=\"fill:none;stroke:#00dd00;stroke-linecap:square;stroke-width:1.5;\"/>\n   </g>\n   <g id=\"patch_3\">\n    <path d=\"M 30.103125 452.678438 \nL 30.103125 17.798437 \n\" style=\"fill:none;stroke:#000000;stroke-linecap:square;stroke-linejoin:miter;stroke-width:0.8;\"/>\n   </g>\n   <g id=\"patch_4\">\n    <path d=\"M 699.703125 452.678438 \nL 699.703125 17.798437 \n\" style=\"fill:none;stroke:#000000;stroke-linecap:square;stroke-linejoin:miter;stroke-width:0.8;\"/>\n   </g>\n   <g id=\"patch_5\">\n    <path d=\"M 30.103125 452.678438 \nL 699.703125 452.678438 \n\" style=\"fill:none;stroke:#000000;stroke-linecap:square;stroke-linejoin:miter;stroke-width:0.8;\"/>\n   </g>\n   <g id=\"patch_6\">\n    <path d=\"M 30.103125 17.798438 \nL 699.703125 17.798438 \n\" style=\"fill:none;stroke:#000000;stroke-linecap:square;stroke-linejoin:miter;stroke-width:0.8;\"/>\n   </g>\n   <g id=\"text_15\">\n    <!-- -44,087,695.36 -->\n    <defs>\n     <path d=\"M 4.890625 31.390625 \nL 31.203125 31.390625 \nL 31.203125 23.390625 \nL 4.890625 23.390625 \nz\n\" id=\"DejaVuSans-45\"/>\n     <path d=\"M 11.71875 12.40625 \nL 22.015625 12.40625 \nL 22.015625 4 \nL 14.015625 -11.625 \nL 7.71875 -11.625 \nL 11.71875 4 \nz\n\" id=\"DejaVuSans-44\"/>\n     <path d=\"M 8.203125 72.90625 \nL 55.078125 72.90625 \nL 55.078125 68.703125 \nL 28.609375 0 \nL 18.3125 0 \nL 43.21875 64.59375 \nL 8.203125 64.59375 \nz\n\" id=\"DejaVuSans-55\"/>\n     <path d=\"M 40.578125 39.3125 \nQ 47.65625 37.796875 51.625 33 \nQ 55.609375 28.21875 55.609375 21.1875 \nQ 55.609375 10.40625 48.1875 4.484375 \nQ 40.765625 -1.421875 27.09375 -1.421875 \nQ 22.515625 -1.421875 17.65625 -0.515625 \nQ 12.796875 0.390625 7.625 2.203125 \nL 7.625 11.71875 \nQ 11.71875 9.328125 16.59375 8.109375 \nQ 21.484375 6.890625 26.8125 6.890625 \nQ 36.078125 6.890625 40.9375 10.546875 \nQ 45.796875 14.203125 45.796875 21.1875 \nQ 45.796875 27.640625 41.28125 31.265625 \nQ 36.765625 34.90625 28.71875 34.90625 \nL 20.21875 34.90625 \nL 20.21875 43.015625 \nL 29.109375 43.015625 \nQ 36.375 43.015625 40.234375 45.921875 \nQ 44.09375 48.828125 44.09375 54.296875 \nQ 44.09375 59.90625 40.109375 62.90625 \nQ 36.140625 65.921875 28.71875 65.921875 \nQ 24.65625 65.921875 20.015625 65.03125 \nQ 15.375 64.15625 9.8125 62.3125 \nL 9.8125 71.09375 \nQ 15.4375 72.65625 20.34375 73.4375 \nQ 25.25 74.21875 29.59375 74.21875 \nQ 40.828125 74.21875 47.359375 69.109375 \nQ 53.90625 64.015625 53.90625 55.328125 \nQ 53.90625 49.265625 50.4375 45.09375 \nQ 46.96875 40.921875 40.578125 39.3125 \nz\n\" id=\"DejaVuSans-51\"/>\n    </defs>\n    <g transform=\"translate(543.439406 432.911165)scale(0.16 -0.16)\">\n     <use xlink:href=\"#DejaVuSans-45\"/>\n     <use x=\"36.083984\" xlink:href=\"#DejaVuSans-52\"/>\n     <use x=\"99.707031\" xlink:href=\"#DejaVuSans-52\"/>\n     <use x=\"163.330078\" xlink:href=\"#DejaVuSans-44\"/>\n     <use x=\"195.117188\" xlink:href=\"#DejaVuSans-48\"/>\n     <use x=\"258.740234\" xlink:href=\"#DejaVuSans-56\"/>\n     <use x=\"322.363281\" xlink:href=\"#DejaVuSans-55\"/>\n     <use x=\"385.986328\" xlink:href=\"#DejaVuSans-44\"/>\n     <use x=\"417.773438\" xlink:href=\"#DejaVuSans-54\"/>\n     <use x=\"481.396484\" xlink:href=\"#DejaVuSans-57\"/>\n     <use x=\"545.019531\" xlink:href=\"#DejaVuSans-53\"/>\n     <use x=\"608.642578\" xlink:href=\"#DejaVuSans-46\"/>\n     <use x=\"640.429688\" xlink:href=\"#DejaVuSans-51\"/>\n     <use x=\"704.052734\" xlink:href=\"#DejaVuSans-54\"/>\n    </g>\n   </g>\n   <g id=\"text_16\">\n    <!-- 980,636.03 -->\n    <g transform=\"translate(574.656906 420.446694)scale(0.16 -0.16)\">\n     <use xlink:href=\"#DejaVuSans-57\"/>\n     <use x=\"63.623047\" xlink:href=\"#DejaVuSans-56\"/>\n     <use x=\"127.246094\" xlink:href=\"#DejaVuSans-48\"/>\n     <use x=\"190.869141\" xlink:href=\"#DejaVuSans-44\"/>\n     <use x=\"222.65625\" xlink:href=\"#DejaVuSans-54\"/>\n     <use x=\"286.279297\" xlink:href=\"#DejaVuSans-51\"/>\n     <use x=\"349.902344\" xlink:href=\"#DejaVuSans-54\"/>\n     <use x=\"413.525391\" xlink:href=\"#DejaVuSans-46\"/>\n     <use x=\"445.3125\" xlink:href=\"#DejaVuSans-48\"/>\n     <use x=\"508.935547\" xlink:href=\"#DejaVuSans-51\"/>\n    </g>\n   </g>\n   <g id=\"text_17\">\n    <!-- 1,385,035,624.63 -->\n    <g transform=\"translate(523.766906 37.660996)scale(0.16 -0.16)\">\n     <use xlink:href=\"#DejaVuSans-49\"/>\n     <use x=\"63.623047\" xlink:href=\"#DejaVuSans-44\"/>\n     <use x=\"95.410156\" xlink:href=\"#DejaVuSans-51\"/>\n     <use x=\"159.033203\" xlink:href=\"#DejaVuSans-56\"/>\n     <use x=\"222.65625\" xlink:href=\"#DejaVuSans-53\"/>\n     <use x=\"286.279297\" xlink:href=\"#DejaVuSans-44\"/>\n     <use x=\"318.066406\" xlink:href=\"#DejaVuSans-48\"/>\n     <use x=\"381.689453\" xlink:href=\"#DejaVuSans-51\"/>\n     <use x=\"445.3125\" xlink:href=\"#DejaVuSans-53\"/>\n     <use x=\"508.935547\" xlink:href=\"#DejaVuSans-44\"/>\n     <use x=\"540.722656\" xlink:href=\"#DejaVuSans-54\"/>\n     <use x=\"604.345703\" xlink:href=\"#DejaVuSans-50\"/>\n     <use x=\"667.96875\" xlink:href=\"#DejaVuSans-52\"/>\n     <use x=\"731.591797\" xlink:href=\"#DejaVuSans-46\"/>\n     <use x=\"763.378906\" xlink:href=\"#DejaVuSans-54\"/>\n     <use x=\"827.001953\" xlink:href=\"#DejaVuSans-51\"/>\n    </g>\n   </g>\n   <g id=\"legend_1\">\n    <g id=\"patch_7\">\n     <path d=\"M 37.103125 71.032813 \nL 169.220313 71.032813 \nQ 171.220313 71.032813 171.220313 69.032813 \nL 171.220313 24.798438 \nQ 171.220313 22.798438 169.220313 22.798438 \nL 37.103125 22.798438 \nQ 35.103125 22.798438 35.103125 24.798438 \nL 35.103125 69.032813 \nQ 35.103125 71.032813 37.103125 71.032813 \nz\n\" style=\"fill:#ffffff;opacity:0.8;stroke:#cccccc;stroke-linejoin:miter;\"/>\n    </g>\n    <g id=\"line2d_30\">\n     <path d=\"M 39.103125 31.296875 \nL 59.103125 31.296875 \n\" style=\"fill:none;stroke:#0000dd;stroke-linecap:square;stroke-width:1.5;\"/>\n    </g>\n    <g id=\"line2d_31\"/>\n    <g id=\"text_18\">\n     <!-- Polinômio de grau 4 -->\n     <defs>\n      <path d=\"M 19.671875 64.796875 \nL 19.671875 37.40625 \nL 32.078125 37.40625 \nQ 38.96875 37.40625 42.71875 40.96875 \nQ 46.484375 44.53125 46.484375 51.125 \nQ 46.484375 57.671875 42.71875 61.234375 \nQ 38.96875 64.796875 32.078125 64.796875 \nz\nM 9.8125 72.90625 \nL 32.078125 72.90625 \nQ 44.34375 72.90625 50.609375 67.359375 \nQ 56.890625 61.8125 56.890625 51.125 \nQ 56.890625 40.328125 50.609375 34.8125 \nQ 44.34375 29.296875 32.078125 29.296875 \nL 19.671875 29.296875 \nL 19.671875 0 \nL 9.8125 0 \nz\n\" id=\"DejaVuSans-80\"/>\n      <path d=\"M 30.609375 48.390625 \nQ 23.390625 48.390625 19.1875 42.75 \nQ 14.984375 37.109375 14.984375 27.296875 \nQ 14.984375 17.484375 19.15625 11.84375 \nQ 23.34375 6.203125 30.609375 6.203125 \nQ 37.796875 6.203125 41.984375 11.859375 \nQ 46.1875 17.53125 46.1875 27.296875 \nQ 46.1875 37.015625 41.984375 42.703125 \nQ 37.796875 48.390625 30.609375 48.390625 \nz\nM 30.609375 56 \nQ 42.328125 56 49.015625 48.375 \nQ 55.71875 40.765625 55.71875 27.296875 \nQ 55.71875 13.875 49.015625 6.21875 \nQ 42.328125 -1.421875 30.609375 -1.421875 \nQ 18.84375 -1.421875 12.171875 6.21875 \nQ 5.515625 13.875 5.515625 27.296875 \nQ 5.515625 40.765625 12.171875 48.375 \nQ 18.84375 56 30.609375 56 \nz\n\" id=\"DejaVuSans-111\"/>\n      <path d=\"M 9.421875 75.984375 \nL 18.40625 75.984375 \nL 18.40625 0 \nL 9.421875 0 \nz\n\" id=\"DejaVuSans-108\"/>\n      <path d=\"M 9.421875 54.6875 \nL 18.40625 54.6875 \nL 18.40625 0 \nL 9.421875 0 \nz\nM 9.421875 75.984375 \nL 18.40625 75.984375 \nL 18.40625 64.59375 \nL 9.421875 64.59375 \nz\n\" id=\"DejaVuSans-105\"/>\n      <path d=\"M 54.890625 33.015625 \nL 54.890625 0 \nL 45.90625 0 \nL 45.90625 32.71875 \nQ 45.90625 40.484375 42.875 44.328125 \nQ 39.84375 48.1875 33.796875 48.1875 \nQ 26.515625 48.1875 22.3125 43.546875 \nQ 18.109375 38.921875 18.109375 30.90625 \nL 18.109375 0 \nL 9.078125 0 \nL 9.078125 54.6875 \nL 18.109375 54.6875 \nL 18.109375 46.1875 \nQ 21.34375 51.125 25.703125 53.5625 \nQ 30.078125 56 35.796875 56 \nQ 45.21875 56 50.046875 50.171875 \nQ 54.890625 44.34375 54.890625 33.015625 \nz\n\" id=\"DejaVuSans-110\"/>\n      <path d=\"M 30.609375 48.390625 \nQ 23.390625 48.390625 19.1875 42.75 \nQ 14.984375 37.109375 14.984375 27.296875 \nQ 14.984375 17.484375 19.15625 11.84375 \nQ 23.34375 6.203125 30.609375 6.203125 \nQ 37.796875 6.203125 41.984375 11.859375 \nQ 46.1875 17.53125 46.1875 27.296875 \nQ 46.1875 37.015625 41.984375 42.703125 \nQ 37.796875 48.390625 30.609375 48.390625 \nz\nM 30.609375 56 \nQ 42.328125 56 49.015625 48.375 \nQ 55.71875 40.765625 55.71875 27.296875 \nQ 55.71875 13.875 49.015625 6.21875 \nQ 42.328125 -1.421875 30.609375 -1.421875 \nQ 18.84375 -1.421875 12.171875 6.21875 \nQ 5.515625 13.875 5.515625 27.296875 \nQ 5.515625 40.765625 12.171875 48.375 \nQ 18.84375 56 30.609375 56 \nz\nM 27.015625 79.984375 \nL 34.234375 79.984375 \nL 46.203125 61.625 \nL 39.421875 61.625 \nL 30.625 73.578125 \nL 21.84375 61.625 \nL 15.046875 61.625 \nz\n\" id=\"DejaVuSans-244\"/>\n      <path d=\"M 52 44.1875 \nQ 55.375 50.25 60.0625 53.125 \nQ 64.75 56 71.09375 56 \nQ 79.640625 56 84.28125 50.015625 \nQ 88.921875 44.046875 88.921875 33.015625 \nL 88.921875 0 \nL 79.890625 0 \nL 79.890625 32.71875 \nQ 79.890625 40.578125 77.09375 44.375 \nQ 74.3125 48.1875 68.609375 48.1875 \nQ 61.625 48.1875 57.5625 43.546875 \nQ 53.515625 38.921875 53.515625 30.90625 \nL 53.515625 0 \nL 44.484375 0 \nL 44.484375 32.71875 \nQ 44.484375 40.625 41.703125 44.40625 \nQ 38.921875 48.1875 33.109375 48.1875 \nQ 26.21875 48.1875 22.15625 43.53125 \nQ 18.109375 38.875 18.109375 30.90625 \nL 18.109375 0 \nL 9.078125 0 \nL 9.078125 54.6875 \nL 18.109375 54.6875 \nL 18.109375 46.1875 \nQ 21.1875 51.21875 25.484375 53.609375 \nQ 29.78125 56 35.6875 56 \nQ 41.65625 56 45.828125 52.96875 \nQ 50 49.953125 52 44.1875 \nz\n\" id=\"DejaVuSans-109\"/>\n      <path id=\"DejaVuSans-32\"/>\n      <path d=\"M 45.40625 46.390625 \nL 45.40625 75.984375 \nL 54.390625 75.984375 \nL 54.390625 0 \nL 45.40625 0 \nL 45.40625 8.203125 \nQ 42.578125 3.328125 38.25 0.953125 \nQ 33.9375 -1.421875 27.875 -1.421875 \nQ 17.96875 -1.421875 11.734375 6.484375 \nQ 5.515625 14.40625 5.515625 27.296875 \nQ 5.515625 40.1875 11.734375 48.09375 \nQ 17.96875 56 27.875 56 \nQ 33.9375 56 38.25 53.625 \nQ 42.578125 51.265625 45.40625 46.390625 \nz\nM 14.796875 27.296875 \nQ 14.796875 17.390625 18.875 11.75 \nQ 22.953125 6.109375 30.078125 6.109375 \nQ 37.203125 6.109375 41.296875 11.75 \nQ 45.40625 17.390625 45.40625 27.296875 \nQ 45.40625 37.203125 41.296875 42.84375 \nQ 37.203125 48.484375 30.078125 48.484375 \nQ 22.953125 48.484375 18.875 42.84375 \nQ 14.796875 37.203125 14.796875 27.296875 \nz\n\" id=\"DejaVuSans-100\"/>\n      <path d=\"M 45.40625 27.984375 \nQ 45.40625 37.75 41.375 43.109375 \nQ 37.359375 48.484375 30.078125 48.484375 \nQ 22.859375 48.484375 18.828125 43.109375 \nQ 14.796875 37.75 14.796875 27.984375 \nQ 14.796875 18.265625 18.828125 12.890625 \nQ 22.859375 7.515625 30.078125 7.515625 \nQ 37.359375 7.515625 41.375 12.890625 \nQ 45.40625 18.265625 45.40625 27.984375 \nz\nM 54.390625 6.78125 \nQ 54.390625 -7.171875 48.1875 -13.984375 \nQ 42 -20.796875 29.203125 -20.796875 \nQ 24.46875 -20.796875 20.265625 -20.09375 \nQ 16.0625 -19.390625 12.109375 -17.921875 \nL 12.109375 -9.1875 \nQ 16.0625 -11.328125 19.921875 -12.34375 \nQ 23.78125 -13.375 27.78125 -13.375 \nQ 36.625 -13.375 41.015625 -8.765625 \nQ 45.40625 -4.15625 45.40625 5.171875 \nL 45.40625 9.625 \nQ 42.625 4.78125 38.28125 2.390625 \nQ 33.9375 0 27.875 0 \nQ 17.828125 0 11.671875 7.65625 \nQ 5.515625 15.328125 5.515625 27.984375 \nQ 5.515625 40.671875 11.671875 48.328125 \nQ 17.828125 56 27.875 56 \nQ 33.9375 56 38.28125 53.609375 \nQ 42.625 51.21875 45.40625 46.390625 \nL 45.40625 54.6875 \nL 54.390625 54.6875 \nz\n\" id=\"DejaVuSans-103\"/>\n      <path d=\"M 41.109375 46.296875 \nQ 39.59375 47.171875 37.8125 47.578125 \nQ 36.03125 48 33.890625 48 \nQ 26.265625 48 22.1875 43.046875 \nQ 18.109375 38.09375 18.109375 28.8125 \nL 18.109375 0 \nL 9.078125 0 \nL 9.078125 54.6875 \nL 18.109375 54.6875 \nL 18.109375 46.1875 \nQ 20.953125 51.171875 25.484375 53.578125 \nQ 30.03125 56 36.53125 56 \nQ 37.453125 56 38.578125 55.875 \nQ 39.703125 55.765625 41.0625 55.515625 \nz\n\" id=\"DejaVuSans-114\"/>\n      <path d=\"M 34.28125 27.484375 \nQ 23.390625 27.484375 19.1875 25 \nQ 14.984375 22.515625 14.984375 16.5 \nQ 14.984375 11.71875 18.140625 8.90625 \nQ 21.296875 6.109375 26.703125 6.109375 \nQ 34.1875 6.109375 38.703125 11.40625 \nQ 43.21875 16.703125 43.21875 25.484375 \nL 43.21875 27.484375 \nz\nM 52.203125 31.203125 \nL 52.203125 0 \nL 43.21875 0 \nL 43.21875 8.296875 \nQ 40.140625 3.328125 35.546875 0.953125 \nQ 30.953125 -1.421875 24.3125 -1.421875 \nQ 15.921875 -1.421875 10.953125 3.296875 \nQ 6 8.015625 6 15.921875 \nQ 6 25.140625 12.171875 29.828125 \nQ 18.359375 34.515625 30.609375 34.515625 \nL 43.21875 34.515625 \nL 43.21875 35.40625 \nQ 43.21875 41.609375 39.140625 45 \nQ 35.0625 48.390625 27.6875 48.390625 \nQ 23 48.390625 18.546875 47.265625 \nQ 14.109375 46.140625 10.015625 43.890625 \nL 10.015625 52.203125 \nQ 14.9375 54.109375 19.578125 55.046875 \nQ 24.21875 56 28.609375 56 \nQ 40.484375 56 46.34375 49.84375 \nQ 52.203125 43.703125 52.203125 31.203125 \nz\n\" id=\"DejaVuSans-97\"/>\n      <path d=\"M 8.5 21.578125 \nL 8.5 54.6875 \nL 17.484375 54.6875 \nL 17.484375 21.921875 \nQ 17.484375 14.15625 20.5 10.265625 \nQ 23.53125 6.390625 29.59375 6.390625 \nQ 36.859375 6.390625 41.078125 11.03125 \nQ 45.3125 15.671875 45.3125 23.6875 \nL 45.3125 54.6875 \nL 54.296875 54.6875 \nL 54.296875 0 \nL 45.3125 0 \nL 45.3125 8.40625 \nQ 42.046875 3.421875 37.71875 1 \nQ 33.40625 -1.421875 27.6875 -1.421875 \nQ 18.265625 -1.421875 13.375 4.4375 \nQ 8.5 10.296875 8.5 21.578125 \nz\nM 31.109375 56 \nz\n\" id=\"DejaVuSans-117\"/>\n     </defs>\n     <g transform=\"translate(67.103125 34.796875)scale(0.1 -0.1)\">\n      <use xlink:href=\"#DejaVuSans-80\"/>\n      <use x=\"60.255859\" xlink:href=\"#DejaVuSans-111\"/>\n      <use x=\"121.4375\" xlink:href=\"#DejaVuSans-108\"/>\n      <use x=\"149.220703\" xlink:href=\"#DejaVuSans-105\"/>\n      <use x=\"177.003906\" xlink:href=\"#DejaVuSans-110\"/>\n      <use x=\"240.382812\" xlink:href=\"#DejaVuSans-244\"/>\n      <use x=\"301.564453\" xlink:href=\"#DejaVuSans-109\"/>\n      <use x=\"398.976562\" xlink:href=\"#DejaVuSans-105\"/>\n      <use x=\"426.759766\" xlink:href=\"#DejaVuSans-111\"/>\n      <use x=\"487.941406\" xlink:href=\"#DejaVuSans-32\"/>\n      <use x=\"519.728516\" xlink:href=\"#DejaVuSans-100\"/>\n      <use x=\"583.205078\" xlink:href=\"#DejaVuSans-101\"/>\n      <use x=\"644.728516\" xlink:href=\"#DejaVuSans-32\"/>\n      <use x=\"676.515625\" xlink:href=\"#DejaVuSans-103\"/>\n      <use x=\"739.992188\" xlink:href=\"#DejaVuSans-114\"/>\n      <use x=\"781.105469\" xlink:href=\"#DejaVuSans-97\"/>\n      <use x=\"842.384766\" xlink:href=\"#DejaVuSans-117\"/>\n      <use x=\"905.763672\" xlink:href=\"#DejaVuSans-32\"/>\n      <use x=\"937.550781\" xlink:href=\"#DejaVuSans-52\"/>\n     </g>\n    </g>\n    <g id=\"line2d_32\">\n     <path d=\"M 39.103125 46.375 \nL 59.103125 46.375 \n\" style=\"fill:none;stroke:#dd0000;stroke-linecap:square;stroke-width:1.5;\"/>\n    </g>\n    <g id=\"line2d_33\"/>\n    <g id=\"text_19\">\n     <!-- Polinômio de grau 3 -->\n     <g transform=\"translate(67.103125 49.875)scale(0.1 -0.1)\">\n      <use xlink:href=\"#DejaVuSans-80\"/>\n      <use x=\"60.255859\" xlink:href=\"#DejaVuSans-111\"/>\n      <use x=\"121.4375\" xlink:href=\"#DejaVuSans-108\"/>\n      <use x=\"149.220703\" xlink:href=\"#DejaVuSans-105\"/>\n      <use x=\"177.003906\" xlink:href=\"#DejaVuSans-110\"/>\n      <use x=\"240.382812\" xlink:href=\"#DejaVuSans-244\"/>\n      <use x=\"301.564453\" xlink:href=\"#DejaVuSans-109\"/>\n      <use x=\"398.976562\" xlink:href=\"#DejaVuSans-105\"/>\n      <use x=\"426.759766\" xlink:href=\"#DejaVuSans-111\"/>\n      <use x=\"487.941406\" xlink:href=\"#DejaVuSans-32\"/>\n      <use x=\"519.728516\" xlink:href=\"#DejaVuSans-100\"/>\n      <use x=\"583.205078\" xlink:href=\"#DejaVuSans-101\"/>\n      <use x=\"644.728516\" xlink:href=\"#DejaVuSans-32\"/>\n      <use x=\"676.515625\" xlink:href=\"#DejaVuSans-103\"/>\n      <use x=\"739.992188\" xlink:href=\"#DejaVuSans-114\"/>\n      <use x=\"781.105469\" xlink:href=\"#DejaVuSans-97\"/>\n      <use x=\"842.384766\" xlink:href=\"#DejaVuSans-117\"/>\n      <use x=\"905.763672\" xlink:href=\"#DejaVuSans-32\"/>\n      <use x=\"937.550781\" xlink:href=\"#DejaVuSans-51\"/>\n     </g>\n    </g>\n    <g id=\"line2d_34\">\n     <path d=\"M 39.103125 61.453125 \nL 59.103125 61.453125 \n\" style=\"fill:none;stroke:#00dd00;stroke-linecap:square;stroke-width:1.5;\"/>\n    </g>\n    <g id=\"line2d_35\"/>\n    <g id=\"text_20\">\n     <!-- Polinômio de grau 5 -->\n     <g transform=\"translate(67.103125 64.953125)scale(0.1 -0.1)\">\n      <use xlink:href=\"#DejaVuSans-80\"/>\n      <use x=\"60.255859\" xlink:href=\"#DejaVuSans-111\"/>\n      <use x=\"121.4375\" xlink:href=\"#DejaVuSans-108\"/>\n      <use x=\"149.220703\" xlink:href=\"#DejaVuSans-105\"/>\n      <use x=\"177.003906\" xlink:href=\"#DejaVuSans-110\"/>\n      <use x=\"240.382812\" xlink:href=\"#DejaVuSans-244\"/>\n      <use x=\"301.564453\" xlink:href=\"#DejaVuSans-109\"/>\n      <use x=\"398.976562\" xlink:href=\"#DejaVuSans-105\"/>\n      <use x=\"426.759766\" xlink:href=\"#DejaVuSans-111\"/>\n      <use x=\"487.941406\" xlink:href=\"#DejaVuSans-32\"/>\n      <use x=\"519.728516\" xlink:href=\"#DejaVuSans-100\"/>\n      <use x=\"583.205078\" xlink:href=\"#DejaVuSans-101\"/>\n      <use x=\"644.728516\" xlink:href=\"#DejaVuSans-32\"/>\n      <use x=\"676.515625\" xlink:href=\"#DejaVuSans-103\"/>\n      <use x=\"739.992188\" xlink:href=\"#DejaVuSans-114\"/>\n      <use x=\"781.105469\" xlink:href=\"#DejaVuSans-97\"/>\n      <use x=\"842.384766\" xlink:href=\"#DejaVuSans-117\"/>\n      <use x=\"905.763672\" xlink:href=\"#DejaVuSans-32\"/>\n      <use x=\"937.550781\" xlink:href=\"#DejaVuSans-53\"/>\n     </g>\n    </g>\n   </g>\n  </g>\n </g>\n <defs>\n  <clipPath id=\"p6559a53a3a\">\n   <rect height=\"434.88\" width=\"669.6\" x=\"30.103125\" y=\"17.798438\"/>\n  </clipPath>\n </defs>\n</svg>\n",
      "image/png": "[encoded data removed]"
     },
     "metadata": {
      "needs_background": "light"
     }
    }
   ],
   "metadata": {}
  }
 ],
 "metadata": {
  "orig_nbformat": 4,
  "language_info": {
   "name": "python",
   "version": "3.8.10",
   "mimetype": "text/x-python",
   "codemirror_mode": {
    "name": "ipython",
    "version": 3
   },
   "pygments_lexer": "ipython3",
   "nbconvert_exporter": "python",
   "file_extension": ".py"
  },
  "kernelspec": {
   "name": "python3",
   "display_name": "Python 3.8.10 64-bit"
  },
  "interpreter": {
   "hash": "916dbcbb3f70747c44a77c7bcd40155683ae19c65e1c03b4aa3499c5328201f1"
  }
 },
 "nbformat": 4,
 "nbformat_minor": 2
}
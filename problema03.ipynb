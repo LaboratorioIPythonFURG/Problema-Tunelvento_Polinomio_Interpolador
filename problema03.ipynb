{
 "cells": [
  {
   "cell_type": "markdown",
   "source": [
    "# Problema\n",
    "_(Fonte: Linear Algebra and Its Applications. Addison-Wesley Longman, 1997)_\n",
    "\n",
    "Suponha que um conjunto de dados experimentais seja representado por um conjunto de pontos do plano.\n",
    "Um polinômio interpolador para esse conjunto de dados é um polinômio cujo gráfico passa por cada ponto.\n",
    "Em trabalhos científicos, esse polinômio pode ser usado, por exemplo, para obter estimativas de valores\n",
    "entre pontos conhecidos.\n",
    "\n",
    "Em uma experiência num túnel de vento, a força sobre um projétil devido à resistência do ar foi medida\n",
    "para velocidades diferentes:\n",
    "\n",
    "| Velocidade | Força |\n",
    "| -- | --  | \n",
    "| 0 | 0 |\n",
    "| 2 | 2.9 |\n",
    "| 4 | 14.8 |\n",
    "| 6 | 39.6 |\n",
    "| 8 | 74.3 |\n",
    "| 10 | 119 | \n",
    "\n",
    "1. Determine um polinômio interpolador para esse conjunto de dados e obtenha uma estimativa para a força\n",
    "sobre o projétil quando ele está se deslocando a uma velocidade de 228,6 m/s. Use $p(t) = a_0 + a_1t + a_2t^2 + a_3t^3 + a_4t^4 + a_5t^5 $\n",
    "\n",
    "2. O que acontece se tentarmos obter a resposta empregando um polinômio cúbico, por exemplo."
   ],
   "metadata": {}
  },
  {
   "cell_type": "markdown",
   "source": [
    "# Solução"
   ],
   "metadata": {}
  },
  {
   "cell_type": "markdown",
   "source": [
    "### Importação de bibliotecas"
   ],
   "metadata": {}
  },
  {
   "cell_type": "code",
   "execution_count": 6,
   "source": [
    "import math \n",
    "import numpy as np"
   ],
   "outputs": [],
   "metadata": {}
  },
  {
   "cell_type": "markdown",
   "source": [
    "## Polinômios\n",
    "\n",
    "Para resolver o problema precisamos calcular os coeficientes de um polinômio que possui os valores\n",
    "da coluna __Força__ da tabela no seu domínio. É útil que tenhamos um método que, dado um valor $x \\in R$ e um\n",
    "vetor de coeficientes, nos retorna o valor do polinômio em $x$."
   ],
   "metadata": {}
  },
  {
   "cell_type": "code",
   "execution_count": 17,
   "source": [
    "def polinomio(x, a):\n",
    "    return np.sum([a[len(a)-1-i]*x**i for i in range(len(a))])\n",
    "\n",
    "def v_polinomio(x, a):\n",
    "    return [polinomio(xx, a) for xx in x]"
   ],
   "outputs": [],
   "metadata": {}
  },
  {
   "cell_type": "markdown",
   "source": [
    "## Matriz de Vandermonde\n",
    "\n",
    "Também é necessário descrever o sistema de equações como uma matriz, para que possamos resolver o problema\n",
    "linearmente. A matriz de Vandermonde nos auxilia nesse processo descrevendo um conjunto de observações $x_i$\n",
    "para o mesmo polinômio:\n",
    "\n",
    "$$\n",
    "\\begin{bmatrix}\n",
    "x_1^{n-1} & x_1^{n-2} & \\dots & x_1^{1} & 1 \\\\\n",
    "x_2^{n-1} & x_2^{n-2} & \\dots & x_2^{1} & 1 \\\\\n",
    "\\dots \\\\\n",
    "x_n^{n-1} & x_n^{n-2} & \\dots & x_n^{1} & 1 \\\\\n",
    "\\end{bmatrix}\n",
    "$$\n"
   ],
   "metadata": {}
  },
  {
   "cell_type": "markdown",
   "source": [
    "No enunciado do problema temos 6 amostras de valores, portanto nossa matriz de coeficientes $A$ pode ser definida por:\n",
    "$$\n",
    "\\begin{bmatrix}\n",
    " 0^{5} &  0^{4} &   0^{3} &   0^{2}   &  0^{1}  & 1 \\\\\n",
    " 2^{5} &  2^{4} &   2^{3} &   2^{2}   &  2^{1}  & 1 \\\\\n",
    " 4^{5} &  4^{4} &   4^{3} &   4^{2}   &  4^{1}  & 1 \\\\\n",
    " 6^{5} &  6^{4} &   6^{3} &   6^{2}   &  6^{1}  & 1 \\\\\n",
    " 8^{5} &  8^{4} &   8^{3} &   8^{2}   &  8^{1}  & 1 \\\\\n",
    "10^{5} & 10^{4} &  10^{3} &  10^{2}   & 10^{1}  & 1 \\\\\n",
    "\\end{bmatrix}\n",
    "=\n",
    "\\begin{bmatrix}\n",
    " 0     &  0     &   0     &   0      &  0      & 1 \\\\\n",
    " 32    &  16    &   8     &   4      &  2      & 1 \\\\\n",
    " 1024  &  256   &   64    &   16     &  4      & 1 \\\\\n",
    " 7776  &  1296  &   216   &   36     &  6      & 1 \\\\\n",
    " 32768 &  4096  &   512   &   64     &  8      & 1 \\\\\n",
    "100000 & 10000  &  10000  &  1000    & 10      & 1 \\\\\n",
    "\\end{bmatrix}\n",
    "$$"
   ],
   "metadata": {}
  },
  {
   "cell_type": "markdown",
   "source": [
    "Se interpretarmos o vetor de coeficientes do polinômio como um vetor de variáveis independentes em um sistema de equações lineares,\n",
    "e nesse sistema, usarmos os valores de $y$ (__Força__) esperados pelo polinômio, o sistema pode ser descrito como:\n",
    "\n",
    "$$\n",
    "\\begin{bmatrix}\n",
    " 0     &  0     &   0     &   0      &  0      & 1 \\\\\n",
    " 32    &  16    &   8     &   4      &  2      & 1 \\\\\n",
    " 1024  &  256   &   64    &   16     &  4      & 1 \\\\\n",
    " 7776  &  1296  &   216   &   36     &  6      & 1 \\\\\n",
    " 32768 &  4096  &   512   &   64     &  8      & 1 \\\\\n",
    "100000 & 10000  &  10000  &  1000    & 10      & 1 \\\\\n",
    "\\end{bmatrix}\n",
    "\\begin{bmatrix}\n",
    "a_5 \\\\ a_4 \\\\ a_3 \\\\ a_2 \\\\ a_1 \\\\ a_0\n",
    "\\end{bmatrix}\n",
    "=\n",
    "\\begin{bmatrix}\n",
    "0.0 \\\\ 2.9 \\\\ 14.8 \\\\ 39.6 \\\\ 74.3 \\\\ 119\n",
    "\\end{bmatrix}\n",
    "$$\n",
    "\n"
   ],
   "metadata": {}
  },
  {
   "cell_type": "markdown",
   "source": [
    "Resolvendo esse sistema obtemos o polinômio interpolador para os valores do problema.\n",
    "$$\n",
    "p(x) = a^5x^5 + a^4x^4 + a^3x^3 + a^2x^2 + ax + a^0\n",
    "$$"
   ],
   "metadata": {}
  },
  {
   "cell_type": "markdown",
   "source": [
    "O sistema será resolvido por decomposição QR."
   ],
   "metadata": {}
  },
  {
   "cell_type": "markdown",
   "source": [
    "## Implementação"
   ],
   "metadata": {}
  },
  {
   "cell_type": "markdown",
   "source": [
    "### Definição das Variáveis do Sistema"
   ],
   "metadata": {}
  },
  {
   "cell_type": "code",
   "execution_count": 39,
   "source": [
    "x = np.array([0, 2, 4, 6, 8, 10])\n",
    "y = np.array([0, 2.9, 14.8, 39.6, 74.3, 119])"
   ],
   "outputs": [],
   "metadata": {}
  },
  {
   "cell_type": "code",
   "execution_count": 47,
   "source": [
    "def expandir_x(x):\n",
    "    X = np.array([ x for i in range(len(x))]).T\n",
    "    for i in range(X.shape[1]):\n",
    "        X[:,i] = X[:,i]**(X.shape[1]-i-1)\n",
    "    return X.astype(np.float)\n",
    "\n",
    "X = expandir_x(x)\n",
    "X.astype(np.int)"
   ],
   "outputs": [
    {
     "output_type": "execute_result",
     "data": {
      "text/plain": [
       "array([[     0,      0,      0,      0,      0,      1],\n",
       "       [    32,     16,      8,      4,      2,      1],\n",
       "       [  1024,    256,     64,     16,      4,      1],\n",
       "       [  7776,   1296,    216,     36,      6,      1],\n",
       "       [ 32768,   4096,    512,     64,      8,      1],\n",
       "       [100000,  10000,   1000,    100,     10,      1]])"
      ]
     },
     "metadata": {},
     "execution_count": 47
    }
   ],
   "metadata": {}
  },
  {
   "cell_type": "markdown",
   "source": [
    "## Decomposição QR\n",
    "\n",
    "A decomposição QR consiste em fatorizar umas matriz $A$ na multiplicação entre duas matrizes $Q$ e $R$. Onde $Q$ é uma matriz \n",
    "cujas colunas formam uma base ortonormal (vetores ortogonais e normalizados) para o espaço coluna de $A$, e $R$ é uma matriz\n",
    "triangular superiora com valores positivos na sua diagonal principal.\n",
    "\n",
    "Por $Q$ ser ortogonal ($Q^{-1}=Q^T$), essa fatoração nos permite resolver sistemas de equações assim como encontrar os auto-valores de \n",
    "uma matriz. Um processo ao qual obtemos essa fatoração se chama __Processo Gram-Schmidt__."
   ],
   "metadata": {}
  },
  {
   "cell_type": "markdown",
   "source": [
    "## Processo Gram-Schmidt\n",
    "\n",
    "O processo Gram-Schmidt consiste em obter vetores ortogonais no subespaço $W$ de $R^n$ através da projeção da sua base\n",
    "$\\{x_1, x_2, x_3, \\dots \\ x_n \\}$ num subespaço $W_1$, que é inicialmente definido como $W_1 = span(v_1) = span(x_1)$.\n",
    "\n",
    "Tendo $v_1$, $v_n$ é recorrentemente definido como sua projeção no subespaço $W_{n-1}$.\n",
    "\n",
    "Assim, temos que\n",
    "$$\n",
    "\\begin{align*}\n",
    "v_n &= x_n - \\sum^{n-1}_{i=1} proj_{v_i}(x_n) \\\\\n",
    "    &= x_n - proj_{v_1}(x_n) - proj_{v_2}(x_n) - \\dots - proj_{v_{n-1}}(x_n)\n",
    "\\end{align*}\n",
    "$$\n",
    "\n",
    "Aqui a função $proj$ é a projeção de um vetor sobre outro,\n",
    "$$\n",
    "proj_{v}(w) = \\frac{w \\cdot v}{v \\cdot v}v\n",
    "$$\n",
    "\n",
    "e o operador $w \\cdot v$ é o produto escalar entre dois vetores\n",
    "$$\n",
    "w \\cdot v = w^Tv\n",
    "$$\n",
    "\n",
    "Uma vez obtidos os vetores $v_i$ da base, procedemos em normalizá-los, dividindo-os\n",
    "por suas magnitudes:\n",
    "$$\n",
    "b_i = \\frac{v_i}{\\| v_i \\|}\n",
    "$$ \n",
    "\n",
    "Por fim, a base ortonormal do subespaço $W$ é \n",
    "$$\n",
    "Q = \\{ b_1, b_2, \\dots, b_n \\}\n",
    "$$\n",
    "\n",
    "\n"
   ],
   "metadata": {}
  },
  {
   "cell_type": "markdown",
   "source": [
    "A partir de $Q$ podemos obter $R$ facilmente pela identidade $Q^{-1} = Q^T$, que nos permite definir $R$ como\n",
    "$$\n",
    "\\begin{align*}\n",
    "A &= QR \\\\\n",
    "Q^TA &= Q^TQR \\\\\n",
    "Q^TA &= R\n",
    "\\end{align*}\n",
    "$$"
   ],
   "metadata": {}
  },
  {
   "cell_type": "markdown",
   "source": [
    "Para facilitar a implementação do algoritmo, implementaremos algumas funções para simplificar o processo."
   ],
   "metadata": {}
  },
  {
   "cell_type": "markdown",
   "source": [
    "### Projeção entre dois vetores"
   ],
   "metadata": {}
  },
  {
   "cell_type": "markdown",
   "source": [
    "$$\n",
    "proj_v(w) = \\frac{v \\cdot w}{v \\cdot v}v\n",
    "$$"
   ],
   "metadata": {}
  },
  {
   "cell_type": "code",
   "execution_count": 7,
   "source": [
    "\n",
    "def proj(v,w):\n",
    "    \"\"\"\n",
    "    Implementação da projeção de um vetor w, no vetor v.\n",
    "    \"\"\"\n",
    "\n",
    "    # Para o produto escalar usamos a função np.dot da biblioteca numpy\n",
    "    wdotv = np.dot(v,w)\n",
    "    vdotv = np.dot(v,v)\n",
    "    return (wdotv / vdotv) * v"
   ],
   "outputs": [],
   "metadata": {}
  },
  {
   "cell_type": "markdown",
   "source": [
    "### Projeção de um vetor em um subespaço\n",
    "\n",
    "$$\n",
    "proj_W(v) = \\sum^n_{i=1} proj_{w_i}(v)\n",
    "$$\n",
    "\n",
    "Onde $w_i$ é o $i$-gésimo vetor de base do subespaço $W$."
   ],
   "metadata": {}
  },
  {
   "cell_type": "code",
   "execution_count": 8,
   "source": [
    "def proj_subespaço(W, v):\n",
    "    return np.sum([ proj(W[:,i], v) for i in range(W.shape[1])], axis=0)"
   ],
   "outputs": [],
   "metadata": {}
  },
  {
   "cell_type": "markdown",
   "source": [
    "### Normalização de um vetor\n",
    "$$\n",
    "\\hat{u} = \\frac{u}{\\|u\\|}\n",
    "$$"
   ],
   "metadata": {}
  },
  {
   "cell_type": "code",
   "execution_count": 9,
   "source": [
    "def normalizar_vetor(u):\n",
    "    return u / np.sqrt(np.dot(u,u))"
   ],
   "outputs": [],
   "metadata": {}
  },
  {
   "cell_type": "markdown",
   "source": [
    "### Decomposição QR"
   ],
   "metadata": {}
  },
  {
   "cell_type": "code",
   "execution_count": 10,
   "source": [
    "def QR_decomp(A):\n",
    "    # Copiamos a matriz original\n",
    "    Q = A.copy()\n",
    "\n",
    "    # Para cada coluna da matriz copiada, começando da segunda,\n",
    "    for i in range(1, Q.shape[1]):\n",
    "        x_n = Q[:, i]\n",
    "\n",
    "        # Projetamos a coluna no subespaço gerado pelos vetores v_i\n",
    "        # gerados até agora.\n",
    "        v_n = x_n - proj_subespaço(Q[:, :i], x_n)\n",
    "\n",
    "        # Normalizamos o vetor gerado.\n",
    "        Q[:, i] = normalizar_vetor(v_n)\n",
    "\n",
    "    # R = Q^-1 * A,\n",
    "    # Q^-1 = Q^T\n",
    "    R = Q.T@A\n",
    "    return Q, R"
   ],
   "outputs": [],
   "metadata": {}
  },
  {
   "cell_type": "code",
   "execution_count": 40,
   "source": [
    "Q, R = QR_decomp(X)\n",
    "display(Q.round())\n",
    "display(R.round())"
   ],
   "outputs": [
    {
     "output_type": "display_data",
     "data": {
      "text/plain": [
       "array([[ 0.0000e+00,  0.0000e+00,  0.0000e+00,  0.0000e+00,  0.0000e+00,\n",
       "         1.0000e+00],\n",
       "       [ 3.2000e+01,  0.0000e+00,  0.0000e+00,  1.0000e+00,  1.0000e+00,\n",
       "         0.0000e+00],\n",
       "       [ 1.0240e+03,  0.0000e+00,  1.0000e+00,  0.0000e+00, -1.0000e+00,\n",
       "        -0.0000e+00],\n",
       "       [ 7.7760e+03,  1.0000e+00,  1.0000e+00, -0.0000e+00,  0.0000e+00,\n",
       "         0.0000e+00],\n",
       "       [ 3.2768e+04,  1.0000e+00, -0.0000e+00,  0.0000e+00, -0.0000e+00,\n",
       "        -0.0000e+00],\n",
       "       [ 1.0000e+05, -0.0000e+00,  0.0000e+00, -0.0000e+00,  0.0000e+00,\n",
       "         0.0000e+00]])"
      ]
     },
     "metadata": {}
    },
    {
     "output_type": "display_data",
     "data": {
      "text/plain": [
       "array([[ 1.11352576e+10,  1.14455808e+09,  1.18522624e+08,\n",
       "         1.23936000e+07,  1.31296000e+06,  1.41600000e+05],\n",
       "       [-0.00000000e+00,  9.37000000e+02,  2.25000000e+02,\n",
       "         4.20000000e+01,  7.00000000e+00,  1.00000000e+00],\n",
       "       [-0.00000000e+00, -0.00000000e+00,  2.50000000e+01,\n",
       "         1.10000000e+01,  4.00000000e+00,  1.00000000e+00],\n",
       "       [ 0.00000000e+00,  0.00000000e+00,  0.00000000e+00,\n",
       "         2.00000000e+00,  1.00000000e+00,  1.00000000e+00],\n",
       "       [-0.00000000e+00, -0.00000000e+00, -0.00000000e+00,\n",
       "        -0.00000000e+00,  0.00000000e+00,  0.00000000e+00],\n",
       "       [ 0.00000000e+00,  0.00000000e+00,  0.00000000e+00,\n",
       "         0.00000000e+00,  0.00000000e+00,  1.00000000e+00]])"
      ]
     },
     "metadata": {}
    }
   ],
   "metadata": {}
  },
  {
   "cell_type": "markdown",
   "source": [
    "### Resolução de um sistema linar com decomposição QR\n",
    "\n",
    "Como visto antes, a matriz $R$ obtida na fatoração é triangular superiora, portanto\n",
    "um sistema envolvendo $R$ como matriz de coeficientes, sua solução pode ser obtida\n",
    "por subsituição direta.\n",
    "\n",
    "$$\n",
    "\\begin{align*}\n",
    "Ax &= b \\\\\n",
    "QRx &= b \\\\\n",
    "Q^{-1}QRx &= Q^{-1}b \\\\\n",
    "Rx &= Q^Tb \\\\\n",
    "Rx &= b'\n",
    "\\end{align*}\n",
    "$$"
   ],
   "metadata": {}
  },
  {
   "cell_type": "markdown",
   "source": [
    "Usando a função desenvolvida no problema 1 do laboratório sobre Eliminação Gaussiana, podemos encontrar \n",
    "o vetor de coeficientes."
   ],
   "metadata": {}
  },
  {
   "cell_type": "code",
   "execution_count": 59,
   "source": [
    "def resolver_U(U, b):\n",
    "    \"\"\"\n",
    "    Resolve um sistema de equações cuja matriz de coeficientes é triangular superiora.\n",
    "    \"\"\"\n",
    "    x = np.zeros(U.shape[1])\n",
    "    for i in reversed(range(U.shape[0])):\n",
    "        x[i]= ( b[i] - np.sum([U[i,j]*x[j] for j in range(i+1, U.shape[0])]) ) / U[i,i]\n",
    "    return x"
   ],
   "outputs": [],
   "metadata": {}
  },
  {
   "cell_type": "code",
   "execution_count": 58,
   "source": [
    "a = resolver_U(R, Q.T@y)\n",
    "a"
   ],
   "outputs": [
    {
     "output_type": "execute_result",
     "data": {
      "text/plain": [
       "array([ 2.60416667e-03, -7.00520833e-02,  6.61458333e-01, -1.19479167e+00,\n",
       "        1.71250000e+00,  2.39996911e-12])"
      ]
     },
     "metadata": {},
     "execution_count": 58
    }
   ],
   "metadata": {}
  },
  {
   "cell_type": "markdown",
   "source": [
    "Verificamos o resultado dos coeficientes multiplicando o vetor $a$ pela matriz de coeficientes gerada antes."
   ],
   "metadata": {}
  },
  {
   "cell_type": "code",
   "execution_count": 49,
   "source": [
    "display('Valor de y:')\n",
    "display(y)\n",
    "\n",
    "# Nesse caso a aproximação do algoritmo vai até 11 casas decimais.\n",
    "display('Valor de \"a\" arredondado:')\n",
    "display(np.round(X@a, 11))\n",
    "\n",
    "# Observe o ruído, principalmente em a_0. O valor é muito próximo\n",
    "# de 0, mas por problemas de imprecisão não é igual a 0.\n",
    "display('Valor não arredondado:')\n",
    "display(X@a)"
   ],
   "outputs": [
    {
     "output_type": "display_data",
     "data": {
      "text/plain": [
       "'Valor de y:'"
      ]
     },
     "metadata": {}
    },
    {
     "output_type": "display_data",
     "data": {
      "text/plain": [
       "array([  0. ,   2.9,  14.8,  39.6,  74.3, 119. ])"
      ]
     },
     "metadata": {}
    },
    {
     "output_type": "display_data",
     "data": {
      "text/plain": [
       "'Valor de \"a\" arredondado:'"
      ]
     },
     "metadata": {}
    },
    {
     "output_type": "display_data",
     "data": {
      "text/plain": [
       "array([  0. ,   2.9,  14.8,  39.6,  74.3, 119. ])"
      ]
     },
     "metadata": {}
    },
    {
     "output_type": "display_data",
     "data": {
      "text/plain": [
       "'Valor não arredondado:'"
      ]
     },
     "metadata": {}
    },
    {
     "output_type": "display_data",
     "data": {
      "text/plain": [
       "array([2.39996911e-12, 2.90000000e+00, 1.48000000e+01, 3.96000000e+01,\n",
       "       7.43000000e+01, 1.19000000e+02])"
      ]
     },
     "metadata": {}
    }
   ],
   "metadata": {}
  },
  {
   "cell_type": "markdown",
   "source": [
    "Compondo as funções que implementamos em uma única função, podemos simplificar o processo de calcular outros polinômios."
   ],
   "metadata": {}
  },
  {
   "cell_type": "code",
   "execution_count": 50,
   "source": [
    "def calcular_coeficientes(x, y):\n",
    "    X = expandir_x(x)\n",
    "    Q, R = QR_decomp(X)\n",
    "    return resolver_U(R, Q.T@y)"
   ],
   "outputs": [],
   "metadata": {}
  },
  {
   "cell_type": "markdown",
   "source": [
    "Com a implementação da função ```calcular_coeficientes```, podemos resolver o problema facilmente:"
   ],
   "metadata": {}
  },
  {
   "cell_type": "code",
   "execution_count": 55,
   "source": [
    "# Cálculo com polinômio de quinta ordem.\n",
    "a = calcular_coeficientes(x,y)\n",
    "polinomio(228.6, a)"
   ],
   "outputs": [
    {
     "output_type": "execute_result",
     "data": {
      "text/plain": [
       "1442270569.235182"
      ]
     },
     "metadata": {},
     "execution_count": 55
    }
   ],
   "metadata": {}
  },
  {
   "cell_type": "markdown",
   "source": [
    "Também é possível calcularmos um polinômio cúbico, como o enunciado propõe, com uma pequena alteração nos parâmetros\n",
    "que passamos para a função."
   ],
   "metadata": {}
  },
  {
   "cell_type": "code",
   "execution_count": 56,
   "source": [
    "# x[:-2] cria uma fatia do array/vetor x contendo todos\n",
    "# os itens do vetor, exceto os últimos 2.\n",
    "# Isso se chama slicing.\n",
    "a = calcular_coeficientes(x[:-2],y[:-2])\n",
    "polinomio(228.6, a)"
   ],
   "outputs": [
    {
     "output_type": "execute_result",
     "data": {
      "text/plain": [
       "1003906.4440498315"
      ]
     },
     "metadata": {},
     "execution_count": 56
    }
   ],
   "metadata": {}
  },
  {
   "cell_type": "markdown",
   "source": [
    "## Visualizando os polinômios gerados"
   ],
   "metadata": {}
  },
  {
   "cell_type": "code",
   "execution_count": 60,
   "source": [
    "# Importação da biblioteca de gráficos\n",
    "import matplotlib.pyplot as plt\n",
    "\n",
    "def plot(x, y, x_hat=None, label=''):\n",
    "    \"\"\"\n",
    "    Desenha o gráfico de um polinômio interpolador \n",
    "\n",
    "    Parâmetros\n",
    "    ---------\n",
    "    x : np.array\n",
    "        Valores de x aos quais temos observações.\n",
    "    y : np.array\n",
    "        Valores de y aos quais temos observações.\n",
    "    x_hat : np.array\n",
    "        Valores de x que queremos prever com o polinômio resultante.\n",
    "    label : str\n",
    "        Legenda do gráfico.\n",
    "    \"\"\"\n",
    "\n",
    "    # Calculamos os coeficientes de um polinômio interpolador\n",
    "    # com as amostras passadas como parâmetro.\n",
    "    a = calcular_coeficientes(x, y)\n",
    "\n",
    "    lb = np.min(x) # obtém o menor valor de x\n",
    "    ub = np.max(x) # obtém o maior valor de x\n",
    "\n",
    "    # Se passamos valores de x que queremos\n",
    "    # extrapolar com o polinômio, pegamos o maior\n",
    "    # valor desse vetor como \n",
    "    if x_hat is not None:\n",
    "        ub = np.max(x_hat)\n",
    "\n",
    "    # Os valores mínimos e máximos são os limites\n",
    "    # do gráfico que vamos gerar.\n",
    "    rng = (lb, ub)\n",
    "\n",
    "    # Cria um array de valores igualmente espaçados\n",
    "    # entre o limite mínimo e máximo que calculamos\n",
    "    # para o gráfico.\n",
    "    spc = np.linspace(rng[0], rng[1]) \n",
    "\n",
    "\n",
    "    # Calculamos os pontos\n",
    "    yyy = v_polinomio(x, a)\n",
    "\n",
    "    # Pontos com dados do problema\n",
    "    plt.scatter(x,y) # Cria pontos no gráfico para cada dupla (x,y)\n",
    "\n",
    "    # Pontos no gráfico para os valores previstos por p(x)\n",
    "    plt.scatter(x, yyy, marker='x') \n",
    "\n",
    "    # Pontos a serem calculados\n",
    "    if x_hat is not None:\n",
    "        y_hat = v_polinomio(x_hat, a)\n",
    "        plt.scatter(x_hat, y_hat)\n",
    "\n",
    "    # Usamos a implementação vetorizada do polinômio\n",
    "    # para que obtenhamos um array de valores de y\n",
    "    # com os coeficientes calculados.\n",
    "    yy  = v_polinomio(spc, a)\n",
    "\n",
    "    # Gráfico do polinômio gerado pelos\n",
    "    # coeficientes a no intervalo [lb, ub].\n",
    "    plt.plot(spc, yy, label=label)\n",
    "    plt.legend()\n"
   ],
   "outputs": [],
   "metadata": {}
  },
  {
   "cell_type": "code",
   "execution_count": 63,
   "source": [
    "plot(x, y)"
   ],
   "outputs": [
    {
     "output_type": "stream",
     "name": "stderr",
     "text": [
      "No handles with labels found to put in legend.\n"
     ]
    },
    {
     "output_type": "display_data",
     "data": {
      "text/plain": [
       "<Figure size 432x288 with 1 Axes>"
      ],
      "image/svg+xml": "<?xml version=\"1.0\" encoding=\"utf-8\" standalone=\"no\"?>\n<!DOCTYPE svg PUBLIC \"-//W3C//DTD SVG 1.1//EN\"\n  \"http://www.w3.org/Graphics/SVG/1.1/DTD/svg11.dtd\">\n<!-- Created with matplotlib (https://matplotlib.org/) -->\n<svg height=\"248.518125pt\" version=\"1.1\" viewBox=\"0 0 375.2875 248.518125\" width=\"375.2875pt\" xmlns=\"http://www.w3.org/2000/svg\" xmlns:xlink=\"http://www.w3.org/1999/xlink\">\n <defs>\n  <style type=\"text/css\">\n*{stroke-linecap:butt;stroke-linejoin:round;}\n  </style>\n </defs>\n <g id=\"figure_1\">\n  <g id=\"patch_1\">\n   <path d=\"M 0 248.518125 \nL 375.2875 248.518125 \nL 375.2875 0 \nL 0 0 \nz\n\" style=\"fill:none;\"/>\n  </g>\n  <g id=\"axes_1\">\n   <g id=\"patch_2\">\n    <path d=\"M 33.2875 224.64 \nL 368.0875 224.64 \nL 368.0875 7.2 \nL 33.2875 7.2 \nz\n\" style=\"fill:#ffffff;\"/>\n   </g>\n   <g id=\"PathCollection_1\">\n    <defs>\n     <path d=\"M 0 3 \nC 0.795609 3 1.55874 2.683901 2.12132 2.12132 \nC 2.683901 1.55874 3 0.795609 3 0 \nC 3 -0.795609 2.683901 -1.55874 2.12132 -2.12132 \nC 1.55874 -2.683901 0.795609 -3 0 -3 \nC -0.795609 -3 -1.55874 -2.683901 -2.12132 -2.12132 \nC -2.683901 -1.55874 -3 -0.795609 -3 0 \nC -3 0.795609 -2.683901 1.55874 -2.12132 2.12132 \nC -1.55874 2.683901 -0.795609 3 0 3 \nz\n\" id=\"mcdae1b3f30\" style=\"stroke:#1f77b4;\"/>\n    </defs>\n    <g clip-path=\"url(#pbd86837d1b)\">\n     <use style=\"fill:#1f77b4;stroke:#1f77b4;\" x=\"51.452856\" xlink:href=\"#mcdae1b3f30\" y=\"211.844085\"/>\n     <use style=\"fill:#1f77b4;stroke:#1f77b4;\" x=\"111.146713\" xlink:href=\"#mcdae1b3f30\" y=\"207.168794\"/>\n     <use style=\"fill:#1f77b4;stroke:#1f77b4;\" x=\"170.840571\" xlink:href=\"#mcdae1b3f30\" y=\"187.983977\"/>\n     <use style=\"fill:#1f77b4;stroke:#1f77b4;\" x=\"230.534429\" xlink:href=\"#mcdae1b3f30\" y=\"148.002173\"/>\n     <use style=\"fill:#1f77b4;stroke:#1f77b4;\" x=\"290.228287\" xlink:href=\"#mcdae1b3f30\" y=\"92.059891\"/>\n     <use style=\"fill:#1f77b4;stroke:#1f77b4;\" x=\"349.922144\" xlink:href=\"#mcdae1b3f30\" y=\"19.995915\"/>\n    </g>\n   </g>\n   <g id=\"PathCollection_2\">\n    <defs>\n     <path d=\"M -3 3 \nL 3 -3 \nM -3 -3 \nL 3 3 \n\" id=\"me9e716ade8\" style=\"stroke:#ff7f0e;stroke-width:1.5;\"/>\n    </defs>\n    <g clip-path=\"url(#pbd86837d1b)\">\n     <use style=\"fill:#ff7f0e;stroke:#ff7f0e;stroke-width:1.5;\" x=\"51.452856\" xlink:href=\"#me9e716ade8\" y=\"211.844085\"/>\n     <use style=\"fill:#ff7f0e;stroke:#ff7f0e;stroke-width:1.5;\" x=\"111.146713\" xlink:href=\"#me9e716ade8\" y=\"207.168794\"/>\n     <use style=\"fill:#ff7f0e;stroke:#ff7f0e;stroke-width:1.5;\" x=\"170.840571\" xlink:href=\"#me9e716ade8\" y=\"187.983977\"/>\n     <use style=\"fill:#ff7f0e;stroke:#ff7f0e;stroke-width:1.5;\" x=\"230.534429\" xlink:href=\"#me9e716ade8\" y=\"148.002173\"/>\n     <use style=\"fill:#ff7f0e;stroke:#ff7f0e;stroke-width:1.5;\" x=\"290.228287\" xlink:href=\"#me9e716ade8\" y=\"92.059891\"/>\n     <use style=\"fill:#ff7f0e;stroke:#ff7f0e;stroke-width:1.5;\" x=\"349.922144\" xlink:href=\"#me9e716ade8\" y=\"19.995915\"/>\n    </g>\n   </g>\n   <g id=\"matplotlib.axis_1\">\n    <g id=\"xtick_1\">\n     <g id=\"line2d_1\">\n      <defs>\n       <path d=\"M 0 0 \nL 0 3.5 \n\" id=\"m1d1b2585c7\" style=\"stroke:#000000;stroke-width:0.8;\"/>\n      </defs>\n      <g>\n       <use style=\"stroke:#000000;stroke-width:0.8;\" x=\"51.452856\" xlink:href=\"#m1d1b2585c7\" y=\"224.64\"/>\n      </g>\n     </g>\n     <g id=\"text_1\">\n      <!-- 0 -->\n      <defs>\n       <path d=\"M 31.78125 66.40625 \nQ 24.171875 66.40625 20.328125 58.90625 \nQ 16.5 51.421875 16.5 36.375 \nQ 16.5 21.390625 20.328125 13.890625 \nQ 24.171875 6.390625 31.78125 6.390625 \nQ 39.453125 6.390625 43.28125 13.890625 \nQ 47.125 21.390625 47.125 36.375 \nQ 47.125 51.421875 43.28125 58.90625 \nQ 39.453125 66.40625 31.78125 66.40625 \nz\nM 31.78125 74.21875 \nQ 44.046875 74.21875 50.515625 64.515625 \nQ 56.984375 54.828125 56.984375 36.375 \nQ 56.984375 17.96875 50.515625 8.265625 \nQ 44.046875 -1.421875 31.78125 -1.421875 \nQ 19.53125 -1.421875 13.0625 8.265625 \nQ 6.59375 17.96875 6.59375 36.375 \nQ 6.59375 54.828125 13.0625 64.515625 \nQ 19.53125 74.21875 31.78125 74.21875 \nz\n\" id=\"DejaVuSans-48\"/>\n      </defs>\n      <g transform=\"translate(48.271606 239.238437)scale(0.1 -0.1)\">\n       <use xlink:href=\"#DejaVuSans-48\"/>\n      </g>\n     </g>\n    </g>\n    <g id=\"xtick_2\">\n     <g id=\"line2d_2\">\n      <g>\n       <use style=\"stroke:#000000;stroke-width:0.8;\" x=\"111.146713\" xlink:href=\"#m1d1b2585c7\" y=\"224.64\"/>\n      </g>\n     </g>\n     <g id=\"text_2\">\n      <!-- 2 -->\n      <defs>\n       <path d=\"M 19.1875 8.296875 \nL 53.609375 8.296875 \nL 53.609375 0 \nL 7.328125 0 \nL 7.328125 8.296875 \nQ 12.9375 14.109375 22.625 23.890625 \nQ 32.328125 33.6875 34.8125 36.53125 \nQ 39.546875 41.84375 41.421875 45.53125 \nQ 43.3125 49.21875 43.3125 52.78125 \nQ 43.3125 58.59375 39.234375 62.25 \nQ 35.15625 65.921875 28.609375 65.921875 \nQ 23.96875 65.921875 18.8125 64.3125 \nQ 13.671875 62.703125 7.8125 59.421875 \nL 7.8125 69.390625 \nQ 13.765625 71.78125 18.9375 73 \nQ 24.125 74.21875 28.421875 74.21875 \nQ 39.75 74.21875 46.484375 68.546875 \nQ 53.21875 62.890625 53.21875 53.421875 \nQ 53.21875 48.921875 51.53125 44.890625 \nQ 49.859375 40.875 45.40625 35.40625 \nQ 44.1875 33.984375 37.640625 27.21875 \nQ 31.109375 20.453125 19.1875 8.296875 \nz\n\" id=\"DejaVuSans-50\"/>\n      </defs>\n      <g transform=\"translate(107.965463 239.238437)scale(0.1 -0.1)\">\n       <use xlink:href=\"#DejaVuSans-50\"/>\n      </g>\n     </g>\n    </g>\n    <g id=\"xtick_3\">\n     <g id=\"line2d_3\">\n      <g>\n       <use style=\"stroke:#000000;stroke-width:0.8;\" x=\"170.840571\" xlink:href=\"#m1d1b2585c7\" y=\"224.64\"/>\n      </g>\n     </g>\n     <g id=\"text_3\">\n      <!-- 4 -->\n      <defs>\n       <path d=\"M 37.796875 64.3125 \nL 12.890625 25.390625 \nL 37.796875 25.390625 \nz\nM 35.203125 72.90625 \nL 47.609375 72.90625 \nL 47.609375 25.390625 \nL 58.015625 25.390625 \nL 58.015625 17.1875 \nL 47.609375 17.1875 \nL 47.609375 0 \nL 37.796875 0 \nL 37.796875 17.1875 \nL 4.890625 17.1875 \nL 4.890625 26.703125 \nz\n\" id=\"DejaVuSans-52\"/>\n      </defs>\n      <g transform=\"translate(167.659321 239.238437)scale(0.1 -0.1)\">\n       <use xlink:href=\"#DejaVuSans-52\"/>\n      </g>\n     </g>\n    </g>\n    <g id=\"xtick_4\">\n     <g id=\"line2d_4\">\n      <g>\n       <use style=\"stroke:#000000;stroke-width:0.8;\" x=\"230.534429\" xlink:href=\"#m1d1b2585c7\" y=\"224.64\"/>\n      </g>\n     </g>\n     <g id=\"text_4\">\n      <!-- 6 -->\n      <defs>\n       <path d=\"M 33.015625 40.375 \nQ 26.375 40.375 22.484375 35.828125 \nQ 18.609375 31.296875 18.609375 23.390625 \nQ 18.609375 15.53125 22.484375 10.953125 \nQ 26.375 6.390625 33.015625 6.390625 \nQ 39.65625 6.390625 43.53125 10.953125 \nQ 47.40625 15.53125 47.40625 23.390625 \nQ 47.40625 31.296875 43.53125 35.828125 \nQ 39.65625 40.375 33.015625 40.375 \nz\nM 52.59375 71.296875 \nL 52.59375 62.3125 \nQ 48.875 64.0625 45.09375 64.984375 \nQ 41.3125 65.921875 37.59375 65.921875 \nQ 27.828125 65.921875 22.671875 59.328125 \nQ 17.53125 52.734375 16.796875 39.40625 \nQ 19.671875 43.65625 24.015625 45.921875 \nQ 28.375 48.1875 33.59375 48.1875 \nQ 44.578125 48.1875 50.953125 41.515625 \nQ 57.328125 34.859375 57.328125 23.390625 \nQ 57.328125 12.15625 50.6875 5.359375 \nQ 44.046875 -1.421875 33.015625 -1.421875 \nQ 20.359375 -1.421875 13.671875 8.265625 \nQ 6.984375 17.96875 6.984375 36.375 \nQ 6.984375 53.65625 15.1875 63.9375 \nQ 23.390625 74.21875 37.203125 74.21875 \nQ 40.921875 74.21875 44.703125 73.484375 \nQ 48.484375 72.75 52.59375 71.296875 \nz\n\" id=\"DejaVuSans-54\"/>\n      </defs>\n      <g transform=\"translate(227.353179 239.238437)scale(0.1 -0.1)\">\n       <use xlink:href=\"#DejaVuSans-54\"/>\n      </g>\n     </g>\n    </g>\n    <g id=\"xtick_5\">\n     <g id=\"line2d_5\">\n      <g>\n       <use style=\"stroke:#000000;stroke-width:0.8;\" x=\"290.228287\" xlink:href=\"#m1d1b2585c7\" y=\"224.64\"/>\n      </g>\n     </g>\n     <g id=\"text_5\">\n      <!-- 8 -->\n      <defs>\n       <path d=\"M 31.78125 34.625 \nQ 24.75 34.625 20.71875 30.859375 \nQ 16.703125 27.09375 16.703125 20.515625 \nQ 16.703125 13.921875 20.71875 10.15625 \nQ 24.75 6.390625 31.78125 6.390625 \nQ 38.8125 6.390625 42.859375 10.171875 \nQ 46.921875 13.96875 46.921875 20.515625 \nQ 46.921875 27.09375 42.890625 30.859375 \nQ 38.875 34.625 31.78125 34.625 \nz\nM 21.921875 38.8125 \nQ 15.578125 40.375 12.03125 44.71875 \nQ 8.5 49.078125 8.5 55.328125 \nQ 8.5 64.0625 14.71875 69.140625 \nQ 20.953125 74.21875 31.78125 74.21875 \nQ 42.671875 74.21875 48.875 69.140625 \nQ 55.078125 64.0625 55.078125 55.328125 \nQ 55.078125 49.078125 51.53125 44.71875 \nQ 48 40.375 41.703125 38.8125 \nQ 48.828125 37.15625 52.796875 32.3125 \nQ 56.78125 27.484375 56.78125 20.515625 \nQ 56.78125 9.90625 50.3125 4.234375 \nQ 43.84375 -1.421875 31.78125 -1.421875 \nQ 19.734375 -1.421875 13.25 4.234375 \nQ 6.78125 9.90625 6.78125 20.515625 \nQ 6.78125 27.484375 10.78125 32.3125 \nQ 14.796875 37.15625 21.921875 38.8125 \nz\nM 18.3125 54.390625 \nQ 18.3125 48.734375 21.84375 45.5625 \nQ 25.390625 42.390625 31.78125 42.390625 \nQ 38.140625 42.390625 41.71875 45.5625 \nQ 45.3125 48.734375 45.3125 54.390625 \nQ 45.3125 60.0625 41.71875 63.234375 \nQ 38.140625 66.40625 31.78125 66.40625 \nQ 25.390625 66.40625 21.84375 63.234375 \nQ 18.3125 60.0625 18.3125 54.390625 \nz\n\" id=\"DejaVuSans-56\"/>\n      </defs>\n      <g transform=\"translate(287.047037 239.238437)scale(0.1 -0.1)\">\n       <use xlink:href=\"#DejaVuSans-56\"/>\n      </g>\n     </g>\n    </g>\n    <g id=\"xtick_6\">\n     <g id=\"line2d_6\">\n      <g>\n       <use style=\"stroke:#000000;stroke-width:0.8;\" x=\"349.922144\" xlink:href=\"#m1d1b2585c7\" y=\"224.64\"/>\n      </g>\n     </g>\n     <g id=\"text_6\">\n      <!-- 10 -->\n      <defs>\n       <path d=\"M 12.40625 8.296875 \nL 28.515625 8.296875 \nL 28.515625 63.921875 \nL 10.984375 60.40625 \nL 10.984375 69.390625 \nL 28.421875 72.90625 \nL 38.28125 72.90625 \nL 38.28125 8.296875 \nL 54.390625 8.296875 \nL 54.390625 0 \nL 12.40625 0 \nz\n\" id=\"DejaVuSans-49\"/>\n      </defs>\n      <g transform=\"translate(343.559644 239.238437)scale(0.1 -0.1)\">\n       <use xlink:href=\"#DejaVuSans-49\"/>\n       <use x=\"63.623047\" xlink:href=\"#DejaVuSans-48\"/>\n      </g>\n     </g>\n    </g>\n   </g>\n   <g id=\"matplotlib.axis_2\">\n    <g id=\"ytick_1\">\n     <g id=\"line2d_7\">\n      <defs>\n       <path d=\"M 0 0 \nL -3.5 0 \n\" id=\"ma76c94a342\" style=\"stroke:#000000;stroke-width:0.8;\"/>\n      </defs>\n      <g>\n       <use style=\"stroke:#000000;stroke-width:0.8;\" x=\"33.2875\" xlink:href=\"#ma76c94a342\" y=\"211.844085\"/>\n      </g>\n     </g>\n     <g id=\"text_7\">\n      <!-- 0 -->\n      <g transform=\"translate(19.925 215.643304)scale(0.1 -0.1)\">\n       <use xlink:href=\"#DejaVuSans-48\"/>\n      </g>\n     </g>\n    </g>\n    <g id=\"ytick_2\">\n     <g id=\"line2d_8\">\n      <g>\n       <use style=\"stroke:#000000;stroke-width:0.8;\" x=\"33.2875\" xlink:href=\"#ma76c94a342\" y=\"179.600695\"/>\n      </g>\n     </g>\n     <g id=\"text_8\">\n      <!-- 20 -->\n      <g transform=\"translate(13.5625 183.399914)scale(0.1 -0.1)\">\n       <use xlink:href=\"#DejaVuSans-50\"/>\n       <use x=\"63.623047\" xlink:href=\"#DejaVuSans-48\"/>\n      </g>\n     </g>\n    </g>\n    <g id=\"ytick_3\">\n     <g id=\"line2d_9\">\n      <g>\n       <use style=\"stroke:#000000;stroke-width:0.8;\" x=\"33.2875\" xlink:href=\"#ma76c94a342\" y=\"147.357305\"/>\n      </g>\n     </g>\n     <g id=\"text_9\">\n      <!-- 40 -->\n      <g transform=\"translate(13.5625 151.156524)scale(0.1 -0.1)\">\n       <use xlink:href=\"#DejaVuSans-52\"/>\n       <use x=\"63.623047\" xlink:href=\"#DejaVuSans-48\"/>\n      </g>\n     </g>\n    </g>\n    <g id=\"ytick_4\">\n     <g id=\"line2d_10\">\n      <g>\n       <use style=\"stroke:#000000;stroke-width:0.8;\" x=\"33.2875\" xlink:href=\"#ma76c94a342\" y=\"115.113915\"/>\n      </g>\n     </g>\n     <g id=\"text_10\">\n      <!-- 60 -->\n      <g transform=\"translate(13.5625 118.913134)scale(0.1 -0.1)\">\n       <use xlink:href=\"#DejaVuSans-54\"/>\n       <use x=\"63.623047\" xlink:href=\"#DejaVuSans-48\"/>\n      </g>\n     </g>\n    </g>\n    <g id=\"ytick_5\">\n     <g id=\"line2d_11\">\n      <g>\n       <use style=\"stroke:#000000;stroke-width:0.8;\" x=\"33.2875\" xlink:href=\"#ma76c94a342\" y=\"82.870525\"/>\n      </g>\n     </g>\n     <g id=\"text_11\">\n      <!-- 80 -->\n      <g transform=\"translate(13.5625 86.669744)scale(0.1 -0.1)\">\n       <use xlink:href=\"#DejaVuSans-56\"/>\n       <use x=\"63.623047\" xlink:href=\"#DejaVuSans-48\"/>\n      </g>\n     </g>\n    </g>\n    <g id=\"ytick_6\">\n     <g id=\"line2d_12\">\n      <g>\n       <use style=\"stroke:#000000;stroke-width:0.8;\" x=\"33.2875\" xlink:href=\"#ma76c94a342\" y=\"50.627135\"/>\n      </g>\n     </g>\n     <g id=\"text_12\">\n      <!-- 100 -->\n      <g transform=\"translate(7.2 54.426354)scale(0.1 -0.1)\">\n       <use xlink:href=\"#DejaVuSans-49\"/>\n       <use x=\"63.623047\" xlink:href=\"#DejaVuSans-48\"/>\n       <use x=\"127.246094\" xlink:href=\"#DejaVuSans-48\"/>\n      </g>\n     </g>\n    </g>\n    <g id=\"ytick_7\">\n     <g id=\"line2d_13\">\n      <g>\n       <use style=\"stroke:#000000;stroke-width:0.8;\" x=\"33.2875\" xlink:href=\"#ma76c94a342\" y=\"18.383745\"/>\n      </g>\n     </g>\n     <g id=\"text_13\">\n      <!-- 120 -->\n      <g transform=\"translate(7.2 22.182964)scale(0.1 -0.1)\">\n       <use xlink:href=\"#DejaVuSans-49\"/>\n       <use x=\"63.623047\" xlink:href=\"#DejaVuSans-50\"/>\n       <use x=\"127.246094\" xlink:href=\"#DejaVuSans-48\"/>\n      </g>\n     </g>\n    </g>\n   </g>\n   <g id=\"line2d_14\">\n    <path clip-path=\"url(#pbd86837d1b)\" d=\"M 51.452856 211.844085 \nL 57.544066 211.352004 \nL 63.635276 210.968687 \nL 69.726486 210.646578 \nL 75.817696 210.342468 \nL 81.908906 210.017314 \nL 88.000115 209.636061 \nL 94.091325 209.167464 \nL 100.182535 208.583909 \nL 106.273745 207.861237 \nL 112.364955 206.978562 \nL 118.456165 205.918095 \nL 124.547375 204.664968 \nL 130.638585 203.207048 \nL 136.729795 201.534767 \nL 142.821005 199.640939 \nL 148.912215 197.520583 \nL 155.003425 195.170744 \nL 161.094635 192.590317 \nL 167.185845 189.779863 \nL 173.277055 186.741439 \nL 179.368265 183.478411 \nL 185.459475 179.995281 \nL 191.550685 176.297509 \nL 197.641895 172.391332 \nL 203.733105 168.283584 \nL 209.824315 163.981525 \nL 215.915525 159.492654 \nL 222.006735 154.824536 \nL 228.097945 149.984623 \nL 234.189155 144.980074 \nL 240.280365 139.817577 \nL 246.371575 134.503172 \nL 252.462785 129.042072 \nL 258.553995 123.438484 \nL 264.645205 117.69543 \nL 270.736415 111.814571 \nL 276.827625 105.796028 \nL 282.918835 99.638203 \nL 289.010045 93.337598 \nL 295.101255 86.888642 \nL 301.192465 80.283509 \nL 307.283675 73.511942 \nL 313.374885 66.561071 \nL 319.466094 59.415239 \nL 325.557304 52.055819 \nL 331.648514 44.461041 \nL 337.739724 36.60581 \nL 343.830934 28.461527 \nL 349.922144 19.995915 \n\" style=\"fill:none;stroke:#1f77b4;stroke-linecap:square;stroke-width:1.5;\"/>\n   </g>\n   <g id=\"patch_3\">\n    <path d=\"M 33.2875 224.64 \nL 33.2875 7.2 \n\" style=\"fill:none;stroke:#000000;stroke-linecap:square;stroke-linejoin:miter;stroke-width:0.8;\"/>\n   </g>\n   <g id=\"patch_4\">\n    <path d=\"M 368.0875 224.64 \nL 368.0875 7.2 \n\" style=\"fill:none;stroke:#000000;stroke-linecap:square;stroke-linejoin:miter;stroke-width:0.8;\"/>\n   </g>\n   <g id=\"patch_5\">\n    <path d=\"M 33.2875 224.64 \nL 368.0875 224.64 \n\" style=\"fill:none;stroke:#000000;stroke-linecap:square;stroke-linejoin:miter;stroke-width:0.8;\"/>\n   </g>\n   <g id=\"patch_6\">\n    <path d=\"M 33.2875 7.2 \nL 368.0875 7.2 \n\" style=\"fill:none;stroke:#000000;stroke-linecap:square;stroke-linejoin:miter;stroke-width:0.8;\"/>\n   </g>\n   <g id=\"legend_1\">\n    <g id=\"patch_7\">\n     <path d=\"M 357.0875 20.2 \nL 361.0875 20.2 \nQ 363.0875 20.2 363.0875 18.2 \nL 363.0875 14.2 \nQ 363.0875 12.2 361.0875 12.2 \nL 357.0875 12.2 \nQ 355.0875 12.2 355.0875 14.2 \nL 355.0875 18.2 \nQ 355.0875 20.2 357.0875 20.2 \nz\n\" style=\"fill:#ffffff;opacity:0.8;stroke:#cccccc;stroke-linejoin:miter;\"/>\n    </g>\n   </g>\n  </g>\n </g>\n <defs>\n  <clipPath id=\"pbd86837d1b\">\n   <rect height=\"217.44\" width=\"334.8\" x=\"33.2875\" y=\"7.2\"/>\n  </clipPath>\n </defs>\n</svg>\n",
      "image/png": "[encoded data removed]"
     },
     "metadata": {
      "needs_background": "light"
     }
    }
   ],
   "metadata": {}
  },
  {
   "cell_type": "code",
   "execution_count": 64,
   "source": [
    "# Se chamarmos a função mais de uma vez podemos\n",
    "# sobrepor mais de um polinômio sobre o mesmo gráfico.\n",
    "plot(x, y, x_hat=[226.8], label='x^5')\n",
    "plot(x[:-1], y[:-1], x_hat=[226.8], label='x^4')\n",
    "plot(x[:-2], y[:-2], x_hat=[226.8], label='x^3')"
   ],
   "outputs": [
    {
     "output_type": "display_data",
     "data": {
      "text/plain": [
       "<Figure size 432x288 with 1 Axes>"
      ],
      "image/svg+xml": "<?xml version=\"1.0\" encoding=\"utf-8\" standalone=\"no\"?>\n<!DOCTYPE svg PUBLIC \"-//W3C//DTD SVG 1.1//EN\"\n  \"http://www.w3.org/Graphics/SVG/1.1/DTD/svg11.dtd\">\n<!-- Created with matplotlib (https://matplotlib.org/) -->\n<svg height=\"259.116562pt\" version=\"1.1\" viewBox=\"0 0 372.103125 259.116562\" width=\"372.103125pt\" xmlns=\"http://www.w3.org/2000/svg\" xmlns:xlink=\"http://www.w3.org/1999/xlink\">\n <defs>\n  <style type=\"text/css\">\n*{stroke-linecap:butt;stroke-linejoin:round;}\n  </style>\n </defs>\n <g id=\"figure_1\">\n  <g id=\"patch_1\">\n   <path d=\"M 0 259.116562 \nL 372.103125 259.116562 \nL 372.103125 0 \nL 0 0 \nz\n\" style=\"fill:none;\"/>\n  </g>\n  <g id=\"axes_1\">\n   <g id=\"patch_2\">\n    <path d=\"M 30.103125 235.238437 \nL 364.903125 235.238437 \nL 364.903125 17.798437 \nL 30.103125 17.798437 \nz\n\" style=\"fill:#ffffff;\"/>\n   </g>\n   <g id=\"PathCollection_1\">\n    <defs>\n     <path d=\"M 0 3 \nC 0.795609 3 1.55874 2.683901 2.12132 2.12132 \nC 2.683901 1.55874 3 0.795609 3 0 \nC 3 -0.795609 2.683901 -1.55874 2.12132 -2.12132 \nC 1.55874 -2.683901 0.795609 -3 0 -3 \nC -0.795609 -3 -1.55874 -2.683901 -2.12132 -2.12132 \nC -2.683901 -1.55874 -3 -0.795609 -3 0 \nC -3 0.795609 -2.683901 1.55874 -2.12132 2.12132 \nC -1.55874 2.683901 -0.795609 3 0 3 \nz\n\" id=\"m2242765638\" style=\"stroke:#1f77b4;\"/>\n    </defs>\n    <g clip-path=\"url(#pb78c5a3da5)\">\n     <use style=\"fill:#1f77b4;stroke:#1f77b4;\" x=\"48.321025\" xlink:href=\"#m2242765638\" y=\"216.437634\"/>\n     <use style=\"fill:#1f77b4;stroke:#1f77b4;\" x=\"50.952103\" xlink:href=\"#m2242765638\" y=\"216.437634\"/>\n     <use style=\"fill:#1f77b4;stroke:#1f77b4;\" x=\"53.583181\" xlink:href=\"#m2242765638\" y=\"216.437632\"/>\n     <use style=\"fill:#1f77b4;stroke:#1f77b4;\" x=\"56.214258\" xlink:href=\"#m2242765638\" y=\"216.437629\"/>\n     <use style=\"fill:#1f77b4;stroke:#1f77b4;\" x=\"58.845336\" xlink:href=\"#m2242765638\" y=\"216.437624\"/>\n     <use style=\"fill:#1f77b4;stroke:#1f77b4;\" x=\"61.476413\" xlink:href=\"#m2242765638\" y=\"216.437618\"/>\n    </g>\n   </g>\n   <g id=\"PathCollection_2\">\n    <defs>\n     <path d=\"M -3 3 \nL 3 -3 \nM -3 -3 \nL 3 3 \n\" id=\"mf9e6429fc7\" style=\"stroke:#ff7f0e;stroke-width:1.5;\"/>\n    </defs>\n    <g clip-path=\"url(#pb78c5a3da5)\">\n     <use style=\"fill:#ff7f0e;stroke:#ff7f0e;stroke-width:1.5;\" x=\"48.321025\" xlink:href=\"#mf9e6429fc7\" y=\"216.437634\"/>\n     <use style=\"fill:#ff7f0e;stroke:#ff7f0e;stroke-width:1.5;\" x=\"50.952103\" xlink:href=\"#mf9e6429fc7\" y=\"216.437634\"/>\n     <use style=\"fill:#ff7f0e;stroke:#ff7f0e;stroke-width:1.5;\" x=\"53.583181\" xlink:href=\"#mf9e6429fc7\" y=\"216.437632\"/>\n     <use style=\"fill:#ff7f0e;stroke:#ff7f0e;stroke-width:1.5;\" x=\"56.214258\" xlink:href=\"#mf9e6429fc7\" y=\"216.437629\"/>\n     <use style=\"fill:#ff7f0e;stroke:#ff7f0e;stroke-width:1.5;\" x=\"58.845336\" xlink:href=\"#mf9e6429fc7\" y=\"216.437624\"/>\n     <use style=\"fill:#ff7f0e;stroke:#ff7f0e;stroke-width:1.5;\" x=\"61.476413\" xlink:href=\"#mf9e6429fc7\" y=\"216.437618\"/>\n    </g>\n   </g>\n   <g id=\"PathCollection_3\">\n    <defs>\n     <path d=\"M 0 3 \nC 0.795609 3 1.55874 2.683901 2.12132 2.12132 \nC 2.683901 1.55874 3 0.795609 3 0 \nC 3 -0.795609 2.683901 -1.55874 2.12132 -2.12132 \nC 1.55874 -2.683901 0.795609 -3 0 -3 \nC -0.795609 -3 -1.55874 -2.683901 -2.12132 -2.12132 \nC -2.683901 -1.55874 -3 -0.795609 -3 0 \nC -3 0.795609 -2.683901 1.55874 -2.12132 2.12132 \nC -1.55874 2.683901 -0.795609 3 0 3 \nz\n\" id=\"mb7c3d4376c\" style=\"stroke:#2ca02c;\"/>\n    </defs>\n    <g clip-path=\"url(#pb78c5a3da5)\">\n     <use style=\"fill:#2ca02c;stroke:#2ca02c;\" x=\"346.685222\" xlink:href=\"#mb7c3d4376c\" y=\"27.682074\"/>\n    </g>\n   </g>\n   <g id=\"PathCollection_4\">\n    <defs>\n     <path d=\"M 0 3 \nC 0.795609 3 1.55874 2.683901 2.12132 2.12132 \nC 2.683901 1.55874 3 0.795609 3 0 \nC 3 -0.795609 2.683901 -1.55874 2.12132 -2.12132 \nC 1.55874 -2.683901 0.795609 -3 0 -3 \nC -0.795609 -3 -1.55874 -2.683901 -2.12132 -2.12132 \nC -2.683901 -1.55874 -3 -0.795609 -3 0 \nC -3 0.795609 -2.683901 1.55874 -2.12132 2.12132 \nC -1.55874 2.683901 -0.795609 3 0 3 \nz\n\" id=\"me44a971362\" style=\"stroke:#d62728;\"/>\n    </defs>\n    <g clip-path=\"url(#pb78c5a3da5)\">\n     <use style=\"fill:#d62728;stroke:#d62728;\" x=\"48.321025\" xlink:href=\"#me44a971362\" y=\"216.437634\"/>\n     <use style=\"fill:#d62728;stroke:#d62728;\" x=\"50.952103\" xlink:href=\"#me44a971362\" y=\"216.437634\"/>\n     <use style=\"fill:#d62728;stroke:#d62728;\" x=\"53.583181\" xlink:href=\"#me44a971362\" y=\"216.437632\"/>\n     <use style=\"fill:#d62728;stroke:#d62728;\" x=\"56.214258\" xlink:href=\"#me44a971362\" y=\"216.437629\"/>\n     <use style=\"fill:#d62728;stroke:#d62728;\" x=\"58.845336\" xlink:href=\"#me44a971362\" y=\"216.437624\"/>\n    </g>\n   </g>\n   <g id=\"PathCollection_5\">\n    <defs>\n     <path d=\"M -3 3 \nL 3 -3 \nM -3 -3 \nL 3 3 \n\" id=\"mbf4a532d6f\" style=\"stroke:#9467bd;stroke-width:1.5;\"/>\n    </defs>\n    <g clip-path=\"url(#pb78c5a3da5)\">\n     <use style=\"fill:#9467bd;stroke:#9467bd;stroke-width:1.5;\" x=\"48.321025\" xlink:href=\"#mbf4a532d6f\" y=\"216.437634\"/>\n     <use style=\"fill:#9467bd;stroke:#9467bd;stroke-width:1.5;\" x=\"50.952103\" xlink:href=\"#mbf4a532d6f\" y=\"216.437634\"/>\n     <use style=\"fill:#9467bd;stroke:#9467bd;stroke-width:1.5;\" x=\"53.583181\" xlink:href=\"#mbf4a532d6f\" y=\"216.437632\"/>\n     <use style=\"fill:#9467bd;stroke:#9467bd;stroke-width:1.5;\" x=\"56.214258\" xlink:href=\"#mbf4a532d6f\" y=\"216.437629\"/>\n     <use style=\"fill:#9467bd;stroke:#9467bd;stroke-width:1.5;\" x=\"58.845336\" xlink:href=\"#mbf4a532d6f\" y=\"216.437624\"/>\n    </g>\n   </g>\n   <g id=\"PathCollection_6\">\n    <defs>\n     <path d=\"M 0 3 \nC 0.795609 3 1.55874 2.683901 2.12132 2.12132 \nC 2.683901 1.55874 3 0.795609 3 0 \nC 3 -0.795609 2.683901 -1.55874 2.12132 -2.12132 \nC 1.55874 -2.683901 0.795609 -3 0 -3 \nC -0.795609 -3 -1.55874 -2.683901 -2.12132 -2.12132 \nC -2.683901 -1.55874 -3 -0.795609 -3 0 \nC -3 0.795609 -2.683901 1.55874 -2.12132 2.12132 \nC -1.55874 2.683901 -0.795609 3 0 3 \nz\n\" id=\"mf15c75e2e9\" style=\"stroke:#8c564b;\"/>\n    </defs>\n    <g clip-path=\"url(#pb78c5a3da5)\">\n     <use style=\"fill:#8c564b;stroke:#8c564b;\" x=\"346.685222\" xlink:href=\"#mf15c75e2e9\" y=\"222.445998\"/>\n    </g>\n   </g>\n   <g id=\"PathCollection_7\">\n    <defs>\n     <path d=\"M 0 3 \nC 0.795609 3 1.55874 2.683901 2.12132 2.12132 \nC 2.683901 1.55874 3 0.795609 3 0 \nC 3 -0.795609 2.683901 -1.55874 2.12132 -2.12132 \nC 1.55874 -2.683901 0.795609 -3 0 -3 \nC -0.795609 -3 -1.55874 -2.683901 -2.12132 -2.12132 \nC -2.683901 -1.55874 -3 -0.795609 -3 0 \nC -3 0.795609 -2.683901 1.55874 -2.12132 2.12132 \nC -1.55874 2.683901 -0.795609 3 0 3 \nz\n\" id=\"m73122e31e9\" style=\"stroke:#e377c2;\"/>\n    </defs>\n    <g clip-path=\"url(#pb78c5a3da5)\">\n     <use style=\"fill:#e377c2;stroke:#e377c2;\" x=\"48.321025\" xlink:href=\"#m73122e31e9\" y=\"216.437634\"/>\n     <use style=\"fill:#e377c2;stroke:#e377c2;\" x=\"50.952103\" xlink:href=\"#m73122e31e9\" y=\"216.437634\"/>\n     <use style=\"fill:#e377c2;stroke:#e377c2;\" x=\"53.583181\" xlink:href=\"#m73122e31e9\" y=\"216.437632\"/>\n     <use style=\"fill:#e377c2;stroke:#e377c2;\" x=\"56.214258\" xlink:href=\"#m73122e31e9\" y=\"216.437629\"/>\n    </g>\n   </g>\n   <g id=\"PathCollection_8\">\n    <defs>\n     <path d=\"M -3 3 \nL 3 -3 \nM -3 -3 \nL 3 3 \n\" id=\"m20e6133562\" style=\"stroke:#7f7f7f;stroke-width:1.5;\"/>\n    </defs>\n    <g clip-path=\"url(#pb78c5a3da5)\">\n     <use style=\"fill:#7f7f7f;stroke:#7f7f7f;stroke-width:1.5;\" x=\"48.321025\" xlink:href=\"#m20e6133562\" y=\"216.437634\"/>\n     <use style=\"fill:#7f7f7f;stroke:#7f7f7f;stroke-width:1.5;\" x=\"50.952103\" xlink:href=\"#m20e6133562\" y=\"216.437634\"/>\n     <use style=\"fill:#7f7f7f;stroke:#7f7f7f;stroke-width:1.5;\" x=\"53.583181\" xlink:href=\"#m20e6133562\" y=\"216.437632\"/>\n     <use style=\"fill:#7f7f7f;stroke:#7f7f7f;stroke-width:1.5;\" x=\"56.214258\" xlink:href=\"#m20e6133562\" y=\"216.437629\"/>\n    </g>\n   </g>\n   <g id=\"PathCollection_9\">\n    <defs>\n     <path d=\"M 0 3 \nC 0.795609 3 1.55874 2.683901 2.12132 2.12132 \nC 2.683901 1.55874 3 0.795609 3 0 \nC 3 -0.795609 2.683901 -1.55874 2.12132 -2.12132 \nC 1.55874 -2.683901 0.795609 -3 0 -3 \nC -0.795609 -3 -1.55874 -2.683901 -2.12132 -2.12132 \nC -2.683901 -1.55874 -3 -0.795609 -3 0 \nC -3 0.795609 -2.683901 1.55874 -2.12132 2.12132 \nC -1.55874 2.683901 -0.795609 3 0 3 \nz\n\" id=\"md98120ed08\" style=\"stroke:#bcbd22;\"/>\n    </defs>\n    <g clip-path=\"url(#pb78c5a3da5)\">\n     <use style=\"fill:#bcbd22;stroke:#bcbd22;\" x=\"346.685222\" xlink:href=\"#md98120ed08\" y=\"216.303991\"/>\n    </g>\n   </g>\n   <g id=\"matplotlib.axis_1\">\n    <g id=\"xtick_1\">\n     <g id=\"line2d_1\">\n      <defs>\n       <path d=\"M 0 0 \nL 0 3.5 \n\" id=\"m82fdb69aa7\" style=\"stroke:#000000;stroke-width:0.8;\"/>\n      </defs>\n      <g>\n       <use style=\"stroke:#000000;stroke-width:0.8;\" x=\"48.321025\" xlink:href=\"#m82fdb69aa7\" y=\"235.238437\"/>\n      </g>\n     </g>\n     <g id=\"text_1\">\n      <!-- 0 -->\n      <defs>\n       <path d=\"M 31.78125 66.40625 \nQ 24.171875 66.40625 20.328125 58.90625 \nQ 16.5 51.421875 16.5 36.375 \nQ 16.5 21.390625 20.328125 13.890625 \nQ 24.171875 6.390625 31.78125 6.390625 \nQ 39.453125 6.390625 43.28125 13.890625 \nQ 47.125 21.390625 47.125 36.375 \nQ 47.125 51.421875 43.28125 58.90625 \nQ 39.453125 66.40625 31.78125 66.40625 \nz\nM 31.78125 74.21875 \nQ 44.046875 74.21875 50.515625 64.515625 \nQ 56.984375 54.828125 56.984375 36.375 \nQ 56.984375 17.96875 50.515625 8.265625 \nQ 44.046875 -1.421875 31.78125 -1.421875 \nQ 19.53125 -1.421875 13.0625 8.265625 \nQ 6.59375 17.96875 6.59375 36.375 \nQ 6.59375 54.828125 13.0625 64.515625 \nQ 19.53125 74.21875 31.78125 74.21875 \nz\n\" id=\"DejaVuSans-48\"/>\n      </defs>\n      <g transform=\"translate(45.139775 249.836875)scale(0.1 -0.1)\">\n       <use xlink:href=\"#DejaVuSans-48\"/>\n      </g>\n     </g>\n    </g>\n    <g id=\"xtick_2\">\n     <g id=\"line2d_2\">\n      <g>\n       <use style=\"stroke:#000000;stroke-width:0.8;\" x=\"114.097965\" xlink:href=\"#m82fdb69aa7\" y=\"235.238437\"/>\n      </g>\n     </g>\n     <g id=\"text_2\">\n      <!-- 50 -->\n      <defs>\n       <path d=\"M 10.796875 72.90625 \nL 49.515625 72.90625 \nL 49.515625 64.59375 \nL 19.828125 64.59375 \nL 19.828125 46.734375 \nQ 21.96875 47.46875 24.109375 47.828125 \nQ 26.265625 48.1875 28.421875 48.1875 \nQ 40.625 48.1875 47.75 41.5 \nQ 54.890625 34.8125 54.890625 23.390625 \nQ 54.890625 11.625 47.5625 5.09375 \nQ 40.234375 -1.421875 26.90625 -1.421875 \nQ 22.3125 -1.421875 17.546875 -0.640625 \nQ 12.796875 0.140625 7.71875 1.703125 \nL 7.71875 11.625 \nQ 12.109375 9.234375 16.796875 8.0625 \nQ 21.484375 6.890625 26.703125 6.890625 \nQ 35.15625 6.890625 40.078125 11.328125 \nQ 45.015625 15.765625 45.015625 23.390625 \nQ 45.015625 31 40.078125 35.4375 \nQ 35.15625 39.890625 26.703125 39.890625 \nQ 22.75 39.890625 18.8125 39.015625 \nQ 14.890625 38.140625 10.796875 36.28125 \nz\n\" id=\"DejaVuSans-53\"/>\n      </defs>\n      <g transform=\"translate(107.735465 249.836875)scale(0.1 -0.1)\">\n       <use xlink:href=\"#DejaVuSans-53\"/>\n       <use x=\"63.623047\" xlink:href=\"#DejaVuSans-48\"/>\n      </g>\n     </g>\n    </g>\n    <g id=\"xtick_3\">\n     <g id=\"line2d_3\">\n      <g>\n       <use style=\"stroke:#000000;stroke-width:0.8;\" x=\"179.874904\" xlink:href=\"#m82fdb69aa7\" y=\"235.238437\"/>\n      </g>\n     </g>\n     <g id=\"text_3\">\n      <!-- 100 -->\n      <defs>\n       <path d=\"M 12.40625 8.296875 \nL 28.515625 8.296875 \nL 28.515625 63.921875 \nL 10.984375 60.40625 \nL 10.984375 69.390625 \nL 28.421875 72.90625 \nL 38.28125 72.90625 \nL 38.28125 8.296875 \nL 54.390625 8.296875 \nL 54.390625 0 \nL 12.40625 0 \nz\n\" id=\"DejaVuSans-49\"/>\n      </defs>\n      <g transform=\"translate(170.331154 249.836875)scale(0.1 -0.1)\">\n       <use xlink:href=\"#DejaVuSans-49\"/>\n       <use x=\"63.623047\" xlink:href=\"#DejaVuSans-48\"/>\n       <use x=\"127.246094\" xlink:href=\"#DejaVuSans-48\"/>\n      </g>\n     </g>\n    </g>\n    <g id=\"xtick_4\">\n     <g id=\"line2d_4\">\n      <g>\n       <use style=\"stroke:#000000;stroke-width:0.8;\" x=\"245.651843\" xlink:href=\"#m82fdb69aa7\" y=\"235.238437\"/>\n      </g>\n     </g>\n     <g id=\"text_4\">\n      <!-- 150 -->\n      <g transform=\"translate(236.108093 249.836875)scale(0.1 -0.1)\">\n       <use xlink:href=\"#DejaVuSans-49\"/>\n       <use x=\"63.623047\" xlink:href=\"#DejaVuSans-53\"/>\n       <use x=\"127.246094\" xlink:href=\"#DejaVuSans-48\"/>\n      </g>\n     </g>\n    </g>\n    <g id=\"xtick_5\">\n     <g id=\"line2d_5\">\n      <g>\n       <use style=\"stroke:#000000;stroke-width:0.8;\" x=\"311.428782\" xlink:href=\"#m82fdb69aa7\" y=\"235.238437\"/>\n      </g>\n     </g>\n     <g id=\"text_5\">\n      <!-- 200 -->\n      <defs>\n       <path d=\"M 19.1875 8.296875 \nL 53.609375 8.296875 \nL 53.609375 0 \nL 7.328125 0 \nL 7.328125 8.296875 \nQ 12.9375 14.109375 22.625 23.890625 \nQ 32.328125 33.6875 34.8125 36.53125 \nQ 39.546875 41.84375 41.421875 45.53125 \nQ 43.3125 49.21875 43.3125 52.78125 \nQ 43.3125 58.59375 39.234375 62.25 \nQ 35.15625 65.921875 28.609375 65.921875 \nQ 23.96875 65.921875 18.8125 64.3125 \nQ 13.671875 62.703125 7.8125 59.421875 \nL 7.8125 69.390625 \nQ 13.765625 71.78125 18.9375 73 \nQ 24.125 74.21875 28.421875 74.21875 \nQ 39.75 74.21875 46.484375 68.546875 \nQ 53.21875 62.890625 53.21875 53.421875 \nQ 53.21875 48.921875 51.53125 44.890625 \nQ 49.859375 40.875 45.40625 35.40625 \nQ 44.1875 33.984375 37.640625 27.21875 \nQ 31.109375 20.453125 19.1875 8.296875 \nz\n\" id=\"DejaVuSans-50\"/>\n      </defs>\n      <g transform=\"translate(301.885032 249.836875)scale(0.1 -0.1)\">\n       <use xlink:href=\"#DejaVuSans-50\"/>\n       <use x=\"63.623047\" xlink:href=\"#DejaVuSans-48\"/>\n       <use x=\"127.246094\" xlink:href=\"#DejaVuSans-48\"/>\n      </g>\n     </g>\n    </g>\n   </g>\n   <g id=\"matplotlib.axis_2\">\n    <g id=\"ytick_1\">\n     <g id=\"line2d_6\">\n      <defs>\n       <path d=\"M 0 0 \nL -3.5 0 \n\" id=\"m727cf092fb\" style=\"stroke:#000000;stroke-width:0.8;\"/>\n      </defs>\n      <g>\n       <use style=\"stroke:#000000;stroke-width:0.8;\" x=\"30.103125\" xlink:href=\"#m727cf092fb\" y=\"216.437634\"/>\n      </g>\n     </g>\n     <g id=\"text_6\">\n      <!-- 0.0 -->\n      <defs>\n       <path d=\"M 10.6875 12.40625 \nL 21 12.40625 \nL 21 0 \nL 10.6875 0 \nz\n\" id=\"DejaVuSans-46\"/>\n      </defs>\n      <g transform=\"translate(7.2 220.236853)scale(0.1 -0.1)\">\n       <use xlink:href=\"#DejaVuSans-48\"/>\n       <use x=\"63.623047\" xlink:href=\"#DejaVuSans-46\"/>\n       <use x=\"95.410156\" xlink:href=\"#DejaVuSans-48\"/>\n      </g>\n     </g>\n    </g>\n    <g id=\"ytick_2\">\n     <g id=\"line2d_7\">\n      <g>\n       <use style=\"stroke:#000000;stroke-width:0.8;\" x=\"30.103125\" xlink:href=\"#m727cf092fb\" y=\"189.181215\"/>\n      </g>\n     </g>\n     <g id=\"text_7\">\n      <!-- 0.2 -->\n      <g transform=\"translate(7.2 192.980433)scale(0.1 -0.1)\">\n       <use xlink:href=\"#DejaVuSans-48\"/>\n       <use x=\"63.623047\" xlink:href=\"#DejaVuSans-46\"/>\n       <use x=\"95.410156\" xlink:href=\"#DejaVuSans-50\"/>\n      </g>\n     </g>\n    </g>\n    <g id=\"ytick_3\">\n     <g id=\"line2d_8\">\n      <g>\n       <use style=\"stroke:#000000;stroke-width:0.8;\" x=\"30.103125\" xlink:href=\"#m727cf092fb\" y=\"161.924795\"/>\n      </g>\n     </g>\n     <g id=\"text_8\">\n      <!-- 0.4 -->\n      <defs>\n       <path d=\"M 37.796875 64.3125 \nL 12.890625 25.390625 \nL 37.796875 25.390625 \nz\nM 35.203125 72.90625 \nL 47.609375 72.90625 \nL 47.609375 25.390625 \nL 58.015625 25.390625 \nL 58.015625 17.1875 \nL 47.609375 17.1875 \nL 47.609375 0 \nL 37.796875 0 \nL 37.796875 17.1875 \nL 4.890625 17.1875 \nL 4.890625 26.703125 \nz\n\" id=\"DejaVuSans-52\"/>\n      </defs>\n      <g transform=\"translate(7.2 165.724014)scale(0.1 -0.1)\">\n       <use xlink:href=\"#DejaVuSans-48\"/>\n       <use x=\"63.623047\" xlink:href=\"#DejaVuSans-46\"/>\n       <use x=\"95.410156\" xlink:href=\"#DejaVuSans-52\"/>\n      </g>\n     </g>\n    </g>\n    <g id=\"ytick_4\">\n     <g id=\"line2d_9\">\n      <g>\n       <use style=\"stroke:#000000;stroke-width:0.8;\" x=\"30.103125\" xlink:href=\"#m727cf092fb\" y=\"134.668376\"/>\n      </g>\n     </g>\n     <g id=\"text_9\">\n      <!-- 0.6 -->\n      <defs>\n       <path d=\"M 33.015625 40.375 \nQ 26.375 40.375 22.484375 35.828125 \nQ 18.609375 31.296875 18.609375 23.390625 \nQ 18.609375 15.53125 22.484375 10.953125 \nQ 26.375 6.390625 33.015625 6.390625 \nQ 39.65625 6.390625 43.53125 10.953125 \nQ 47.40625 15.53125 47.40625 23.390625 \nQ 47.40625 31.296875 43.53125 35.828125 \nQ 39.65625 40.375 33.015625 40.375 \nz\nM 52.59375 71.296875 \nL 52.59375 62.3125 \nQ 48.875 64.0625 45.09375 64.984375 \nQ 41.3125 65.921875 37.59375 65.921875 \nQ 27.828125 65.921875 22.671875 59.328125 \nQ 17.53125 52.734375 16.796875 39.40625 \nQ 19.671875 43.65625 24.015625 45.921875 \nQ 28.375 48.1875 33.59375 48.1875 \nQ 44.578125 48.1875 50.953125 41.515625 \nQ 57.328125 34.859375 57.328125 23.390625 \nQ 57.328125 12.15625 50.6875 5.359375 \nQ 44.046875 -1.421875 33.015625 -1.421875 \nQ 20.359375 -1.421875 13.671875 8.265625 \nQ 6.984375 17.96875 6.984375 36.375 \nQ 6.984375 53.65625 15.1875 63.9375 \nQ 23.390625 74.21875 37.203125 74.21875 \nQ 40.921875 74.21875 44.703125 73.484375 \nQ 48.484375 72.75 52.59375 71.296875 \nz\n\" id=\"DejaVuSans-54\"/>\n      </defs>\n      <g transform=\"translate(7.2 138.467594)scale(0.1 -0.1)\">\n       <use xlink:href=\"#DejaVuSans-48\"/>\n       <use x=\"63.623047\" xlink:href=\"#DejaVuSans-46\"/>\n       <use x=\"95.410156\" xlink:href=\"#DejaVuSans-54\"/>\n      </g>\n     </g>\n    </g>\n    <g id=\"ytick_5\">\n     <g id=\"line2d_10\">\n      <g>\n       <use style=\"stroke:#000000;stroke-width:0.8;\" x=\"30.103125\" xlink:href=\"#m727cf092fb\" y=\"107.411956\"/>\n      </g>\n     </g>\n     <g id=\"text_10\">\n      <!-- 0.8 -->\n      <defs>\n       <path d=\"M 31.78125 34.625 \nQ 24.75 34.625 20.71875 30.859375 \nQ 16.703125 27.09375 16.703125 20.515625 \nQ 16.703125 13.921875 20.71875 10.15625 \nQ 24.75 6.390625 31.78125 6.390625 \nQ 38.8125 6.390625 42.859375 10.171875 \nQ 46.921875 13.96875 46.921875 20.515625 \nQ 46.921875 27.09375 42.890625 30.859375 \nQ 38.875 34.625 31.78125 34.625 \nz\nM 21.921875 38.8125 \nQ 15.578125 40.375 12.03125 44.71875 \nQ 8.5 49.078125 8.5 55.328125 \nQ 8.5 64.0625 14.71875 69.140625 \nQ 20.953125 74.21875 31.78125 74.21875 \nQ 42.671875 74.21875 48.875 69.140625 \nQ 55.078125 64.0625 55.078125 55.328125 \nQ 55.078125 49.078125 51.53125 44.71875 \nQ 48 40.375 41.703125 38.8125 \nQ 48.828125 37.15625 52.796875 32.3125 \nQ 56.78125 27.484375 56.78125 20.515625 \nQ 56.78125 9.90625 50.3125 4.234375 \nQ 43.84375 -1.421875 31.78125 -1.421875 \nQ 19.734375 -1.421875 13.25 4.234375 \nQ 6.78125 9.90625 6.78125 20.515625 \nQ 6.78125 27.484375 10.78125 32.3125 \nQ 14.796875 37.15625 21.921875 38.8125 \nz\nM 18.3125 54.390625 \nQ 18.3125 48.734375 21.84375 45.5625 \nQ 25.390625 42.390625 31.78125 42.390625 \nQ 38.140625 42.390625 41.71875 45.5625 \nQ 45.3125 48.734375 45.3125 54.390625 \nQ 45.3125 60.0625 41.71875 63.234375 \nQ 38.140625 66.40625 31.78125 66.40625 \nQ 25.390625 66.40625 21.84375 63.234375 \nQ 18.3125 60.0625 18.3125 54.390625 \nz\n\" id=\"DejaVuSans-56\"/>\n      </defs>\n      <g transform=\"translate(7.2 111.211175)scale(0.1 -0.1)\">\n       <use xlink:href=\"#DejaVuSans-48\"/>\n       <use x=\"63.623047\" xlink:href=\"#DejaVuSans-46\"/>\n       <use x=\"95.410156\" xlink:href=\"#DejaVuSans-56\"/>\n      </g>\n     </g>\n    </g>\n    <g id=\"ytick_6\">\n     <g id=\"line2d_11\">\n      <g>\n       <use style=\"stroke:#000000;stroke-width:0.8;\" x=\"30.103125\" xlink:href=\"#m727cf092fb\" y=\"80.155537\"/>\n      </g>\n     </g>\n     <g id=\"text_11\">\n      <!-- 1.0 -->\n      <g transform=\"translate(7.2 83.954755)scale(0.1 -0.1)\">\n       <use xlink:href=\"#DejaVuSans-49\"/>\n       <use x=\"63.623047\" xlink:href=\"#DejaVuSans-46\"/>\n       <use x=\"95.410156\" xlink:href=\"#DejaVuSans-48\"/>\n      </g>\n     </g>\n    </g>\n    <g id=\"ytick_7\">\n     <g id=\"line2d_12\">\n      <g>\n       <use style=\"stroke:#000000;stroke-width:0.8;\" x=\"30.103125\" xlink:href=\"#m727cf092fb\" y=\"52.899117\"/>\n      </g>\n     </g>\n     <g id=\"text_12\">\n      <!-- 1.2 -->\n      <g transform=\"translate(7.2 56.698336)scale(0.1 -0.1)\">\n       <use xlink:href=\"#DejaVuSans-49\"/>\n       <use x=\"63.623047\" xlink:href=\"#DejaVuSans-46\"/>\n       <use x=\"95.410156\" xlink:href=\"#DejaVuSans-50\"/>\n      </g>\n     </g>\n    </g>\n    <g id=\"ytick_8\">\n     <g id=\"line2d_13\">\n      <g>\n       <use style=\"stroke:#000000;stroke-width:0.8;\" x=\"30.103125\" xlink:href=\"#m727cf092fb\" y=\"25.642698\"/>\n      </g>\n     </g>\n     <g id=\"text_13\">\n      <!-- 1.4 -->\n      <g transform=\"translate(7.2 29.441916)scale(0.1 -0.1)\">\n       <use xlink:href=\"#DejaVuSans-49\"/>\n       <use x=\"63.623047\" xlink:href=\"#DejaVuSans-46\"/>\n       <use x=\"95.410156\" xlink:href=\"#DejaVuSans-52\"/>\n      </g>\n     </g>\n    </g>\n    <g id=\"text_14\">\n     <!-- 1e9 -->\n     <defs>\n      <path d=\"M 56.203125 29.59375 \nL 56.203125 25.203125 \nL 14.890625 25.203125 \nQ 15.484375 15.921875 20.484375 11.0625 \nQ 25.484375 6.203125 34.421875 6.203125 \nQ 39.59375 6.203125 44.453125 7.46875 \nQ 49.3125 8.734375 54.109375 11.28125 \nL 54.109375 2.78125 \nQ 49.265625 0.734375 44.1875 -0.34375 \nQ 39.109375 -1.421875 33.890625 -1.421875 \nQ 20.796875 -1.421875 13.15625 6.1875 \nQ 5.515625 13.8125 5.515625 26.8125 \nQ 5.515625 40.234375 12.765625 48.109375 \nQ 20.015625 56 32.328125 56 \nQ 43.359375 56 49.78125 48.890625 \nQ 56.203125 41.796875 56.203125 29.59375 \nz\nM 47.21875 32.234375 \nQ 47.125 39.59375 43.09375 43.984375 \nQ 39.0625 48.390625 32.421875 48.390625 \nQ 24.90625 48.390625 20.390625 44.140625 \nQ 15.875 39.890625 15.1875 32.171875 \nz\n\" id=\"DejaVuSans-101\"/>\n      <path d=\"M 10.984375 1.515625 \nL 10.984375 10.5 \nQ 14.703125 8.734375 18.5 7.8125 \nQ 22.3125 6.890625 25.984375 6.890625 \nQ 35.75 6.890625 40.890625 13.453125 \nQ 46.046875 20.015625 46.78125 33.40625 \nQ 43.953125 29.203125 39.59375 26.953125 \nQ 35.25 24.703125 29.984375 24.703125 \nQ 19.046875 24.703125 12.671875 31.3125 \nQ 6.296875 37.9375 6.296875 49.421875 \nQ 6.296875 60.640625 12.9375 67.421875 \nQ 19.578125 74.21875 30.609375 74.21875 \nQ 43.265625 74.21875 49.921875 64.515625 \nQ 56.59375 54.828125 56.59375 36.375 \nQ 56.59375 19.140625 48.40625 8.859375 \nQ 40.234375 -1.421875 26.421875 -1.421875 \nQ 22.703125 -1.421875 18.890625 -0.6875 \nQ 15.09375 0.046875 10.984375 1.515625 \nz\nM 30.609375 32.421875 \nQ 37.25 32.421875 41.125 36.953125 \nQ 45.015625 41.5 45.015625 49.421875 \nQ 45.015625 57.28125 41.125 61.84375 \nQ 37.25 66.40625 30.609375 66.40625 \nQ 23.96875 66.40625 20.09375 61.84375 \nQ 16.21875 57.28125 16.21875 49.421875 \nQ 16.21875 41.5 20.09375 36.953125 \nQ 23.96875 32.421875 30.609375 32.421875 \nz\n\" id=\"DejaVuSans-57\"/>\n     </defs>\n     <g transform=\"translate(30.103125 14.798437)scale(0.1 -0.1)\">\n      <use xlink:href=\"#DejaVuSans-49\"/>\n      <use x=\"63.623047\" xlink:href=\"#DejaVuSans-101\"/>\n      <use x=\"125.146484\" xlink:href=\"#DejaVuSans-57\"/>\n     </g>\n    </g>\n   </g>\n   <g id=\"line2d_14\">\n    <path clip-path=\"url(#pb78c5a3da5)\" d=\"M 48.321025 216.437634 \nL 54.410091 216.437631 \nL 60.499156 216.43762 \nL 66.588221 216.437593 \nL 72.677286 216.437463 \nL 78.766352 216.436981 \nL 84.855417 216.435638 \nL 90.944482 216.43258 \nL 97.033547 216.426514 \nL 103.122613 216.415619 \nL 109.211678 216.397456 \nL 115.300743 216.368876 \nL 121.389808 216.32593 \nL 127.478873 216.263782 \nL 133.567939 216.176612 \nL 139.657004 216.05753 \nL 145.746069 215.898485 \nL 151.835134 215.690175 \nL 157.9242 215.421953 \nL 164.013265 215.081741 \nL 170.10233 214.655938 \nL 176.191395 214.129327 \nL 182.280461 213.484989 \nL 188.369526 212.70421 \nL 194.458591 211.766388 \nL 200.547656 210.648948 \nL 206.636721 209.327249 \nL 212.725787 207.774491 \nL 218.814852 205.961629 \nL 224.903917 203.857279 \nL 230.992982 201.42763 \nL 237.082048 198.636352 \nL 243.171113 195.444505 \nL 249.260178 191.81045 \nL 255.349243 187.68976 \nL 261.438309 183.035124 \nL 267.527374 177.796263 \nL 273.616439 171.919834 \nL 279.705504 165.349345 \nL 285.794569 158.025059 \nL 291.883635 149.883909 \nL 297.9727 140.8594 \nL 304.061765 130.881529 \nL 310.15083 119.876685 \nL 316.239896 107.767562 \nL 322.328961 94.473071 \nL 328.418026 79.908246 \nL 334.507091 63.984155 \nL 340.596157 46.60781 \nL 346.685222 27.682074 \n\" style=\"fill:none;stroke:#1f77b4;stroke-linecap:square;stroke-width:1.5;\"/>\n   </g>\n   <g id=\"line2d_15\">\n    <path clip-path=\"url(#pb78c5a3da5)\" d=\"M 48.321025 216.437634 \nL 54.410091 216.437631 \nL 60.499156 216.437621 \nL 66.588221 216.437619 \nL 72.677286 216.43767 \nL 78.766352 216.437844 \nL 84.855417 216.438238 \nL 90.944482 216.438975 \nL 97.033547 216.440209 \nL 103.122613 216.442116 \nL 109.211678 216.444902 \nL 115.300743 216.448799 \nL 121.389808 216.454067 \nL 127.478873 216.460991 \nL 133.567939 216.469884 \nL 139.657004 216.481087 \nL 145.746069 216.494967 \nL 151.835134 216.511918 \nL 157.9242 216.53236 \nL 164.013265 216.556743 \nL 170.10233 216.585539 \nL 176.191395 216.619253 \nL 182.280461 216.658412 \nL 188.369526 216.703573 \nL 194.458591 216.755317 \nL 200.547656 216.814256 \nL 206.636721 216.881026 \nL 212.725787 216.956291 \nL 218.814852 217.040741 \nL 224.903917 217.135094 \nL 230.992982 217.240095 \nL 237.082048 217.356516 \nL 243.171113 217.485155 \nL 249.260178 217.626838 \nL 255.349243 217.782417 \nL 261.438309 217.952773 \nL 267.527374 218.138811 \nL 273.616439 218.341465 \nL 279.705504 218.561695 \nL 285.794569 218.80049 \nL 291.883635 219.058864 \nL 297.9727 219.337857 \nL 304.061765 219.638539 \nL 310.15083 219.962005 \nL 316.239896 220.309376 \nL 322.328961 220.681804 \nL 328.418026 221.080463 \nL 334.507091 221.506557 \nL 340.596157 221.961316 \nL 346.685222 222.445998 \n\" style=\"fill:none;stroke:#ff7f0e;stroke-linecap:square;stroke-width:1.5;\"/>\n   </g>\n   <g id=\"line2d_16\">\n    <path clip-path=\"url(#pb78c5a3da5)\" d=\"M 48.321025 216.437634 \nL 54.410091 216.437631 \nL 60.499156 216.437618 \nL 66.588221 216.437588 \nL 72.677286 216.437534 \nL 78.766352 216.437451 \nL 84.855417 216.43733 \nL 90.944482 216.437167 \nL 97.033547 216.436954 \nL 103.122613 216.436684 \nL 109.211678 216.436351 \nL 115.300743 216.435948 \nL 121.389808 216.43547 \nL 127.478873 216.434908 \nL 133.567939 216.434258 \nL 139.657004 216.433511 \nL 145.746069 216.432662 \nL 151.835134 216.431703 \nL 157.9242 216.430629 \nL 164.013265 216.429433 \nL 170.10233 216.428107 \nL 176.191395 216.426647 \nL 182.280461 216.425044 \nL 188.369526 216.423292 \nL 194.458591 216.421385 \nL 200.547656 216.419317 \nL 206.636721 216.41708 \nL 212.725787 216.414668 \nL 218.814852 216.412074 \nL 224.903917 216.409292 \nL 230.992982 216.406316 \nL 237.082048 216.403138 \nL 243.171113 216.399752 \nL 249.260178 216.396151 \nL 255.349243 216.39233 \nL 261.438309 216.38828 \nL 267.527374 216.383997 \nL 273.616439 216.379472 \nL 279.705504 216.3747 \nL 285.794569 216.369674 \nL 291.883635 216.364388 \nL 297.9727 216.358834 \nL 304.061765 216.353006 \nL 310.15083 216.346898 \nL 316.239896 216.340503 \nL 322.328961 216.333814 \nL 328.418026 216.326825 \nL 334.507091 216.319529 \nL 340.596157 216.31192 \nL 346.685222 216.303991 \n\" style=\"fill:none;stroke:#2ca02c;stroke-linecap:square;stroke-width:1.5;\"/>\n   </g>\n   <g id=\"patch_3\">\n    <path d=\"M 30.103125 235.238437 \nL 30.103125 17.798437 \n\" style=\"fill:none;stroke:#000000;stroke-linecap:square;stroke-linejoin:miter;stroke-width:0.8;\"/>\n   </g>\n   <g id=\"patch_4\">\n    <path d=\"M 364.903125 235.238437 \nL 364.903125 17.798437 \n\" style=\"fill:none;stroke:#000000;stroke-linecap:square;stroke-linejoin:miter;stroke-width:0.8;\"/>\n   </g>\n   <g id=\"patch_5\">\n    <path d=\"M 30.103125 235.238437 \nL 364.903125 235.238437 \n\" style=\"fill:none;stroke:#000000;stroke-linecap:square;stroke-linejoin:miter;stroke-width:0.8;\"/>\n   </g>\n   <g id=\"patch_6\">\n    <path d=\"M 30.103125 17.798437 \nL 364.903125 17.798437 \n\" style=\"fill:none;stroke:#000000;stroke-linecap:square;stroke-linejoin:miter;stroke-width:0.8;\"/>\n   </g>\n   <g id=\"legend_1\">\n    <g id=\"patch_7\">\n     <path d=\"M 37.103125 69.832812 \nL 89.764063 69.832812 \nQ 91.764063 69.832812 91.764063 67.832812 \nL 91.764063 24.798437 \nQ 91.764063 22.798437 89.764063 22.798437 \nL 37.103125 22.798437 \nQ 35.103125 22.798437 35.103125 24.798437 \nL 35.103125 67.832812 \nQ 35.103125 69.832812 37.103125 69.832812 \nz\n\" style=\"fill:#ffffff;opacity:0.8;stroke:#cccccc;stroke-linejoin:miter;\"/>\n    </g>\n    <g id=\"line2d_17\">\n     <path d=\"M 39.103125 30.896875 \nL 59.103125 30.896875 \n\" style=\"fill:none;stroke:#1f77b4;stroke-linecap:square;stroke-width:1.5;\"/>\n    </g>\n    <g id=\"line2d_18\"/>\n    <g id=\"text_15\">\n     <!-- x^5 -->\n     <defs>\n      <path d=\"M 54.890625 54.6875 \nL 35.109375 28.078125 \nL 55.90625 0 \nL 45.3125 0 \nL 29.390625 21.484375 \nL 13.484375 0 \nL 2.875 0 \nL 24.125 28.609375 \nL 4.6875 54.6875 \nL 15.28125 54.6875 \nL 29.78125 35.203125 \nL 44.28125 54.6875 \nz\n\" id=\"DejaVuSans-120\"/>\n      <path d=\"M 46.6875 72.90625 \nL 73.1875 45.703125 \nL 63.375 45.703125 \nL 41.890625 64.984375 \nL 20.40625 45.703125 \nL 10.59375 45.703125 \nL 37.109375 72.90625 \nz\n\" id=\"DejaVuSans-94\"/>\n     </defs>\n     <g transform=\"translate(67.103125 34.396875)scale(0.1 -0.1)\">\n      <use xlink:href=\"#DejaVuSans-120\"/>\n      <use x=\"59.179688\" xlink:href=\"#DejaVuSans-94\"/>\n      <use x=\"142.96875\" xlink:href=\"#DejaVuSans-53\"/>\n     </g>\n    </g>\n    <g id=\"line2d_19\">\n     <path d=\"M 39.103125 45.575 \nL 59.103125 45.575 \n\" style=\"fill:none;stroke:#ff7f0e;stroke-linecap:square;stroke-width:1.5;\"/>\n    </g>\n    <g id=\"line2d_20\"/>\n    <g id=\"text_16\">\n     <!-- x^4 -->\n     <g transform=\"translate(67.103125 49.075)scale(0.1 -0.1)\">\n      <use xlink:href=\"#DejaVuSans-120\"/>\n      <use x=\"59.179688\" xlink:href=\"#DejaVuSans-94\"/>\n      <use x=\"142.96875\" xlink:href=\"#DejaVuSans-52\"/>\n     </g>\n    </g>\n    <g id=\"line2d_21\">\n     <path d=\"M 39.103125 60.253125 \nL 59.103125 60.253125 \n\" style=\"fill:none;stroke:#2ca02c;stroke-linecap:square;stroke-width:1.5;\"/>\n    </g>\n    <g id=\"line2d_22\"/>\n    <g id=\"text_17\">\n     <!-- x^3 -->\n     <defs>\n      <path d=\"M 40.578125 39.3125 \nQ 47.65625 37.796875 51.625 33 \nQ 55.609375 28.21875 55.609375 21.1875 \nQ 55.609375 10.40625 48.1875 4.484375 \nQ 40.765625 -1.421875 27.09375 -1.421875 \nQ 22.515625 -1.421875 17.65625 -0.515625 \nQ 12.796875 0.390625 7.625 2.203125 \nL 7.625 11.71875 \nQ 11.71875 9.328125 16.59375 8.109375 \nQ 21.484375 6.890625 26.8125 6.890625 \nQ 36.078125 6.890625 40.9375 10.546875 \nQ 45.796875 14.203125 45.796875 21.1875 \nQ 45.796875 27.640625 41.28125 31.265625 \nQ 36.765625 34.90625 28.71875 34.90625 \nL 20.21875 34.90625 \nL 20.21875 43.015625 \nL 29.109375 43.015625 \nQ 36.375 43.015625 40.234375 45.921875 \nQ 44.09375 48.828125 44.09375 54.296875 \nQ 44.09375 59.90625 40.109375 62.90625 \nQ 36.140625 65.921875 28.71875 65.921875 \nQ 24.65625 65.921875 20.015625 65.03125 \nQ 15.375 64.15625 9.8125 62.3125 \nL 9.8125 71.09375 \nQ 15.4375 72.65625 20.34375 73.4375 \nQ 25.25 74.21875 29.59375 74.21875 \nQ 40.828125 74.21875 47.359375 69.109375 \nQ 53.90625 64.015625 53.90625 55.328125 \nQ 53.90625 49.265625 50.4375 45.09375 \nQ 46.96875 40.921875 40.578125 39.3125 \nz\n\" id=\"DejaVuSans-51\"/>\n     </defs>\n     <g transform=\"translate(67.103125 63.753125)scale(0.1 -0.1)\">\n      <use xlink:href=\"#DejaVuSans-120\"/>\n      <use x=\"59.179688\" xlink:href=\"#DejaVuSans-94\"/>\n      <use x=\"142.96875\" xlink:href=\"#DejaVuSans-51\"/>\n     </g>\n    </g>\n   </g>\n  </g>\n </g>\n <defs>\n  <clipPath id=\"pb78c5a3da5\">\n   <rect height=\"217.44\" width=\"334.8\" x=\"30.103125\" y=\"17.798437\"/>\n  </clipPath>\n </defs>\n</svg>\n",
      "image/png": "[encoded data removed]"
     },
     "metadata": {
      "needs_background": "light"
     }
    }
   ],
   "metadata": {}
  }
 ],
 "metadata": {
  "orig_nbformat": 4,
  "language_info": {
   "name": "python",
   "version": "3.8.10",
   "mimetype": "text/x-python",
   "codemirror_mode": {
    "name": "ipython",
    "version": 3
   },
   "pygments_lexer": "ipython3",
   "nbconvert_exporter": "python",
   "file_extension": ".py"
  },
  "kernelspec": {
   "name": "python3",
   "display_name": "Python 3.8.10 64-bit"
  },
  "interpreter": {
   "hash": "916dbcbb3f70747c44a77c7bcd40155683ae19c65e1c03b4aa3499c5328201f1"
  }
 },
 "nbformat": 4,
 "nbformat_minor": 2
}
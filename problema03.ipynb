{
 "cells": [
  {
   "cell_type": "markdown",
   "source": [
    "# Problema 3\n",
    "_(Fonte: Linear Algebra and Its Applications. Addison-Wesley Longman, 1997)_\n",
    "\n",
    "Suponha que um conjunto de dados experimentais seja representado por um conjunto de pontos do plano.\n",
    "Um polinômio interpolador para esse conjunto de dados é um polinômio cujo gráfico passa por cada ponto.\n",
    "Em trabalhos científicos, esse polinômio pode ser usado, por exemplo, para obter estimativas de valores\n",
    "entre pontos conhecidos.\n",
    "\n",
    "Em uma experiência num túnel de vento, a força sobre um projétil devido à resistência do ar foi medida\n",
    "para velocidades diferentes:\n",
    "\n",
    "| Velocidade | Força |\n",
    "| -- | --  | \n",
    "| 0 | 0 |\n",
    "| 2 | 2.9 |\n",
    "| 4 | 14.8 |\n",
    "| 6 | 39.6 |\n",
    "| 8 | 74.3 |\n",
    "| 10 | 119 | \n",
    "\n",
    "1. Determine um polinômio interpolador para esse conjunto de dados e obtenha uma estimativa para a força\n",
    "sobre o projétil quando ele está se deslocando a uma velocidade de 228,6 m/s. Use $p(t) = a_0 + a_1t + a_2t^2 + a_3t^3 + a_4t^4 $\n",
    "\n",
    "2. O que acontece se tentarmos obter a resposta empregando um polinômio cúbico, por exemplo."
   ],
   "metadata": {}
  }
 ],
 "metadata": {
  "orig_nbformat": 4,
  "language_info": {
   "name": "python"
  }
 },
 "nbformat": 4,
 "nbformat_minor": 2
}